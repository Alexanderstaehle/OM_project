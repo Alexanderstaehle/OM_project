{
 "cells": [
  {
   "cell_type": "markdown",
   "metadata": {},
   "source": [
    "# TODOs:\n",
    "\n",
    "- final train and val loss (best)"
   ]
  },
  {
   "cell_type": "markdown",
   "metadata": {
    "pycharm": {
     "name": "#%% md\n"
    }
   },
   "source": [
    "# Google colab initialization\n",
    "\n",
    "For Google colab uncomment these lines and run them to access your drive or try the second way (not tested)"
   ]
  },
  {
   "cell_type": "code",
   "execution_count": 51,
   "metadata": {
    "pycharm": {
     "name": "#%%\n"
    }
   },
   "outputs": [
    {
     "ename": "ModuleNotFoundError",
     "evalue": "No module named 'google.colab'",
     "output_type": "error",
     "traceback": [
      "\u001b[0;31m---------------------------------------------------------------------------\u001b[0m",
      "\u001b[0;31mModuleNotFoundError\u001b[0m                       Traceback (most recent call last)",
      "\u001b[0;32m/tmp/ipykernel_20073/1605371184.py\u001b[0m in \u001b[0;36m<module>\u001b[0;34m\u001b[0m\n\u001b[1;32m      2\u001b[0m \u001b[0;34m\u001b[0m\u001b[0m\n\u001b[1;32m      3\u001b[0m \u001b[0;32mif\u001b[0m \u001b[0mUSE_COLAB\u001b[0m\u001b[0;34m:\u001b[0m\u001b[0;34m\u001b[0m\u001b[0;34m\u001b[0m\u001b[0m\n\u001b[0;32m----> 4\u001b[0;31m     \u001b[0;32mfrom\u001b[0m \u001b[0mgoogle\u001b[0m\u001b[0;34m.\u001b[0m\u001b[0mcolab\u001b[0m \u001b[0;32mimport\u001b[0m \u001b[0mdrive\u001b[0m\u001b[0;34m\u001b[0m\u001b[0;34m\u001b[0m\u001b[0m\n\u001b[0m\u001b[1;32m      5\u001b[0m \u001b[0;34m\u001b[0m\u001b[0m\n\u001b[1;32m      6\u001b[0m     \u001b[0mdrive\u001b[0m\u001b[0;34m.\u001b[0m\u001b[0mmount\u001b[0m\u001b[0;34m(\u001b[0m\u001b[0;34m'/content/drive'\u001b[0m\u001b[0;34m)\u001b[0m\u001b[0;34m\u001b[0m\u001b[0;34m\u001b[0m\u001b[0m\n",
      "\u001b[0;31mModuleNotFoundError\u001b[0m: No module named 'google.colab'"
     ]
    }
   ],
   "source": [
    "USE_COLAB = True\n",
    "\n",
    "if USE_COLAB:\n",
    "    from google.colab import drive\n",
    "\n",
    "    drive.mount('/content/drive')\n",
    "    import sys\n",
    "\n",
    "    sys.path.insert(1, r'/content/drive/My Drive/')"
   ]
  },
  {
   "cell_type": "code",
   "execution_count": 52,
   "metadata": {
    "pycharm": {
     "name": "#%%\n"
    }
   },
   "outputs": [],
   "source": [
    "# Other try\n",
    "# !git clone https://github.com/Alexanderstaehle/OM_project"
   ]
  },
  {
   "cell_type": "code",
   "execution_count": 53,
   "metadata": {
    "pycharm": {
     "name": "#%%\n"
    }
   },
   "outputs": [],
   "source": [
    "# import sys\n",
    "# sys.path.append(\"OM_project\")"
   ]
  },
  {
   "cell_type": "markdown",
   "metadata": {
    "pycharm": {
     "name": "#%% md\n"
    }
   },
   "source": [
    "# Imports and Setup"
   ]
  },
  {
   "cell_type": "code",
   "execution_count": 104,
   "metadata": {
    "pycharm": {
     "name": "#%%\n"
    }
   },
   "outputs": [],
   "source": [
    "import numpy as np\n",
    "import seaborn as sns\n",
    "import tensorflow as tf\n",
    "from tensorflow import keras\n",
    "\n",
    "from utils import ml_utils, visualization, data_loading, tf_models"
   ]
  },
  {
   "cell_type": "code",
   "execution_count": 105,
   "metadata": {},
   "outputs": [],
   "source": [
    "RETRAIN_FLAG = True"
   ]
  },
  {
   "cell_type": "code",
   "execution_count": 106,
   "metadata": {},
   "outputs": [],
   "source": [
    "filename_bs = lambda bs: ml_utils.path_from_filename(f'model_fixed_lr_diff_bs_{bs}', format_=\"tf\")\n",
    "filename_bs_lr = lambda bs, lr: ml_utils.path_from_filename(f'model_lr_{lr}_diff_bs_{bs}', format_=\"tf\")"
   ]
  },
  {
   "cell_type": "code",
   "execution_count": 107,
   "metadata": {},
   "outputs": [],
   "source": [
    "filename_bs_opt_sam = lambda bs, opt, sam: ml_utils.path_from_filename(\n",
    "    f'model_fixed_lr_diff_bs_{bs}_opt_{opt}_sam_{sam}', format_=\"tf\")\n",
    "filename_bs_lr_opt_sam = lambda bs, lr, opt, sam: ml_utils.path_from_filename(\n",
    "    f'model_lr_{lr}_diff_bs_{bs}_opt_{opt}_sam_{sam}', format_=\"tf\")"
   ]
  },
  {
   "cell_type": "code",
   "execution_count": 108,
   "metadata": {},
   "outputs": [],
   "source": [
    "def build_and_load_sam_model_weights(train, optimizer, filename, adaptive=False, rho=0.05):\n",
    "    model = tf_models.build_simple_cnn_sam(train, optimizer, adaptive, rho)\n",
    "    model.load_weights(filename)\n",
    "    return model"
   ]
  },
  {
   "cell_type": "code",
   "execution_count": 109,
   "metadata": {},
   "outputs": [],
   "source": [
    "def build_and_load_model_weights(train, optimizer, filename):\n",
    "    model = tf_models.build_and_compile_simple_cnn(train, optimizer)\n",
    "    model.load_weights(filename)\n",
    "    return model"
   ]
  },
  {
   "cell_type": "code",
   "execution_count": 110,
   "metadata": {},
   "outputs": [],
   "source": [
    "def callback_for_filename(filename):\n",
    "    train_callbacks = [\n",
    "        tf.keras.callbacks.EarlyStopping(\n",
    "            monitor=\"val_loss\", patience=10,\n",
    "            restore_best_weights=True\n",
    "        ),\n",
    "        tf.keras.callbacks.ModelCheckpoint(\n",
    "            filename,\n",
    "            monitor='val_loss',\n",
    "            mode='min',\n",
    "            verbose=1,\n",
    "            save_best_only=True,\n",
    "            save_weights_only=True\n",
    "        )\n",
    "    ]\n",
    "\n",
    "    return train_callbacks"
   ]
  },
  {
   "cell_type": "code",
   "execution_count": 111,
   "metadata": {},
   "outputs": [
    {
     "name": "stdout",
     "output_type": "stream",
     "text": [
      "INFO:tensorflow:Using MirroredStrategy with devices ('/job:localhost/replica:0/task:0/device:GPU:0',)\n"
     ]
    },
    {
     "name": "stderr",
     "output_type": "stream",
     "text": [
      "INFO:tensorflow:Using MirroredStrategy with devices ('/job:localhost/replica:0/task:0/device:GPU:0',)\n"
     ]
    },
    {
     "name": "stdout",
     "output_type": "stream",
     "text": [
      "Number of accelerators:  1\n"
     ]
    }
   ],
   "source": [
    "data_loading.initialize_env()\n",
    "sns.set_theme()\n",
    "color_map = sns.color_palette(as_cmap=True)\n",
    "ml_utils.check_tpu_gpu()\n",
    "# dataset_name = 'MNIST'\n",
    "dataset_name = 'Fashion_MNIST'\n",
    "EPOCHS = 500"
   ]
  },
  {
   "cell_type": "code",
   "execution_count": 112,
   "metadata": {
    "pycharm": {
     "name": "#%%\n"
    }
   },
   "outputs": [],
   "source": [
    "models = {}\n",
    "models_states = {}\n",
    "sharpnesses = ml_utils.init_sharpnesses_dict()\n",
    "initial_weights = ml_utils.init_initial_weights_dict()"
   ]
  },
  {
   "cell_type": "markdown",
   "metadata": {
    "pycharm": {
     "name": "#%% md\n"
    }
   },
   "source": [
    "# Different batch sizes with fixed learning rate"
   ]
  },
  {
   "cell_type": "markdown",
   "metadata": {},
   "source": [
    "## with sharpness aware minimization"
   ]
  },
  {
   "cell_type": "markdown",
   "metadata": {},
   "source": [
    "### SGD with Momentum + SAM"
   ]
  },
  {
   "cell_type": "code",
   "execution_count": 113,
   "metadata": {
    "pycharm": {
     "name": "#%%\n"
    }
   },
   "outputs": [],
   "source": [
    "batch_sizes = [32, 64, 128, 256, 512, 1024]\n",
    "lr = 0.001\n",
    "training_epochs = EPOCHS\n",
    "\n",
    "key = ('fixed', 'sgd', 'sam')"
   ]
  },
  {
   "cell_type": "code",
   "execution_count": 114,
   "metadata": {
    "pycharm": {
     "name": "#%%\n"
    }
   },
   "outputs": [],
   "source": [
    "if not RETRAIN_FLAG:\n",
    "    for batch_size in batch_sizes:\n",
    "        # Read training data\n",
    "        train, validation = data_loading.load_batched_and_resized_dataset(dataset_name=dataset_name,\n",
    "                                                                          batch_size=batch_size,\n",
    "                                                                          img_size=32)\n",
    "        optimizer = keras.optimizers.SGD(learning_rate=lr, momentum=0.9)\n",
    "        model = build_and_load_sam_model_weights(train, optimizer, filename_bs_opt_sam(batch_size, \"SGD-MOM\", \"SAM\"))\n",
    "        models[key + (batch_size,)] = model"
   ]
  },
  {
   "cell_type": "code",
   "execution_count": 115,
   "metadata": {},
   "outputs": [
    {
     "name": "stdout",
     "output_type": "stream",
     "text": [
      "INFO:tensorflow:Using MirroredStrategy with devices ('/job:localhost/replica:0/task:0/device:GPU:0',)\n"
     ]
    },
    {
     "name": "stderr",
     "output_type": "stream",
     "text": [
      "INFO:tensorflow:Using MirroredStrategy with devices ('/job:localhost/replica:0/task:0/device:GPU:0',)\n",
      "2022-02-24 19:25:58.231197: W tensorflow/core/grappler/optimizers/data/auto_shard.cc:547] The `assert_cardinality` transformation is currently not handled by the auto-shard rewrite and will be removed.\n"
     ]
    },
    {
     "name": "stdout",
     "output_type": "stream",
     "text": [
      "Epoch 1/5\n",
      "1491/1500 [============================>.] - ETA: 0s - loss: 0.9688 - accuracy: 0.6306"
     ]
    },
    {
     "name": "stderr",
     "output_type": "stream",
     "text": [
      "2022-02-24 19:26:04.823565: W tensorflow/core/grappler/optimizers/data/auto_shard.cc:547] The `assert_cardinality` transformation is currently not handled by the auto-shard rewrite and will be removed.\n"
     ]
    },
    {
     "name": "stdout",
     "output_type": "stream",
     "text": [
      "\n",
      "Epoch 1: val_loss improved from inf to 0.58819, saving model to tmp/model_fixed_lr_diff_bs_32_opt_SGD-MOM_sam_SAM.tf\n",
      "1500/1500 [==============================] - 8s 5ms/step - loss: 0.9666 - accuracy: 0.6312 - val_loss: 0.5882 - val_accuracy: 0.7917\n",
      "Epoch 2/5\n",
      "1493/1500 [============================>.] - ETA: 0s - loss: 0.5807 - accuracy: 0.7709\n",
      "Epoch 2: val_loss improved from 0.58819 to 0.47500, saving model to tmp/model_fixed_lr_diff_bs_32_opt_SGD-MOM_sam_SAM.tf\n",
      "1500/1500 [==============================] - 7s 4ms/step - loss: 0.5804 - accuracy: 0.7711 - val_loss: 0.4750 - val_accuracy: 0.8337\n",
      "Epoch 3/5\n",
      "1492/1500 [============================>.] - ETA: 0s - loss: 0.5038 - accuracy: 0.8019\n",
      "Epoch 3: val_loss improved from 0.47500 to 0.42742, saving model to tmp/model_fixed_lr_diff_bs_32_opt_SGD-MOM_sam_SAM.tf\n",
      "1500/1500 [==============================] - 7s 4ms/step - loss: 0.5034 - accuracy: 0.8021 - val_loss: 0.4274 - val_accuracy: 0.8512\n",
      "Epoch 4/5\n",
      "1490/1500 [============================>.] - ETA: 0s - loss: 0.4639 - accuracy: 0.8188\n",
      "Epoch 4: val_loss improved from 0.42742 to 0.39892, saving model to tmp/model_fixed_lr_diff_bs_32_opt_SGD-MOM_sam_SAM.tf\n",
      "1500/1500 [==============================] - 7s 5ms/step - loss: 0.4635 - accuracy: 0.8190 - val_loss: 0.3989 - val_accuracy: 0.8613\n",
      "Epoch 5/5\n",
      "1499/1500 [============================>.] - ETA: 0s - loss: 0.4371 - accuracy: 0.8298\n",
      "Epoch 5: val_loss improved from 0.39892 to 0.37887, saving model to tmp/model_fixed_lr_diff_bs_32_opt_SGD-MOM_sam_SAM.tf\n",
      "1500/1500 [==============================] - 7s 4ms/step - loss: 0.4372 - accuracy: 0.8298 - val_loss: 0.3789 - val_accuracy: 0.8689\n",
      "INFO:tensorflow:Using MirroredStrategy with devices ('/job:localhost/replica:0/task:0/device:GPU:0',)\n"
     ]
    },
    {
     "name": "stderr",
     "output_type": "stream",
     "text": [
      "INFO:tensorflow:Using MirroredStrategy with devices ('/job:localhost/replica:0/task:0/device:GPU:0',)\n",
      "2022-02-24 19:26:33.134392: W tensorflow/core/grappler/optimizers/data/auto_shard.cc:547] The `assert_cardinality` transformation is currently not handled by the auto-shard rewrite and will be removed.\n"
     ]
    },
    {
     "name": "stdout",
     "output_type": "stream",
     "text": [
      "Epoch 1/5\n",
      "744/750 [============================>.] - ETA: 0s - loss: 1.2430 - accuracy: 0.5277"
     ]
    },
    {
     "name": "stderr",
     "output_type": "stream",
     "text": [
      "2022-02-24 19:26:37.063554: W tensorflow/core/grappler/optimizers/data/auto_shard.cc:547] The `assert_cardinality` transformation is currently not handled by the auto-shard rewrite and will be removed.\n"
     ]
    },
    {
     "name": "stdout",
     "output_type": "stream",
     "text": [
      "\n",
      "Epoch 1: val_loss improved from inf to 0.70132, saving model to tmp/model_fixed_lr_diff_bs_64_opt_SGD-MOM_sam_SAM.tf\n",
      "750/750 [==============================] - 5s 5ms/step - loss: 1.2388 - accuracy: 0.5292 - val_loss: 0.7013 - val_accuracy: 0.7639\n",
      "Epoch 2/5\n",
      "742/750 [============================>.] - ETA: 0s - loss: 0.6951 - accuracy: 0.7294\n",
      "Epoch 2: val_loss improved from 0.70132 to 0.57597, saving model to tmp/model_fixed_lr_diff_bs_64_opt_SGD-MOM_sam_SAM.tf\n",
      "750/750 [==============================] - 4s 5ms/step - loss: 0.6941 - accuracy: 0.7297 - val_loss: 0.5760 - val_accuracy: 0.7947\n",
      "Epoch 3/5\n",
      "744/750 [============================>.] - ETA: 0s - loss: 0.5924 - accuracy: 0.7676\n",
      "Epoch 3: val_loss improved from 0.57597 to 0.50827, saving model to tmp/model_fixed_lr_diff_bs_64_opt_SGD-MOM_sam_SAM.tf\n",
      "750/750 [==============================] - 4s 5ms/step - loss: 0.5918 - accuracy: 0.7678 - val_loss: 0.5083 - val_accuracy: 0.8200\n",
      "Epoch 4/5\n",
      "741/750 [============================>.] - ETA: 0s - loss: 0.5377 - accuracy: 0.7908\n",
      "Epoch 4: val_loss improved from 0.50827 to 0.46748, saving model to tmp/model_fixed_lr_diff_bs_64_opt_SGD-MOM_sam_SAM.tf\n",
      "750/750 [==============================] - 4s 5ms/step - loss: 0.5375 - accuracy: 0.7907 - val_loss: 0.4675 - val_accuracy: 0.8376\n",
      "Epoch 5/5\n",
      "741/750 [============================>.] - ETA: 0s - loss: 0.5038 - accuracy: 0.8046\n",
      "Epoch 5: val_loss improved from 0.46748 to 0.44082, saving model to tmp/model_fixed_lr_diff_bs_64_opt_SGD-MOM_sam_SAM.tf\n",
      "750/750 [==============================] - 4s 5ms/step - loss: 0.5036 - accuracy: 0.8044 - val_loss: 0.4408 - val_accuracy: 0.8477\n",
      "INFO:tensorflow:Using MirroredStrategy with devices ('/job:localhost/replica:0/task:0/device:GPU:0',)\n"
     ]
    },
    {
     "name": "stderr",
     "output_type": "stream",
     "text": [
      "INFO:tensorflow:Using MirroredStrategy with devices ('/job:localhost/replica:0/task:0/device:GPU:0',)\n",
      "2022-02-24 19:26:54.059461: W tensorflow/core/grappler/optimizers/data/auto_shard.cc:547] The `assert_cardinality` transformation is currently not handled by the auto-shard rewrite and will be removed.\n"
     ]
    },
    {
     "name": "stdout",
     "output_type": "stream",
     "text": [
      "Epoch 1/5\n",
      "374/375 [============================>.] - ETA: 0s - loss: 1.4286 - accuracy: 0.4606"
     ]
    },
    {
     "name": "stderr",
     "output_type": "stream",
     "text": [
      "2022-02-24 19:26:58.342137: W tensorflow/core/grappler/optimizers/data/auto_shard.cc:547] The `assert_cardinality` transformation is currently not handled by the auto-shard rewrite and will be removed.\n"
     ]
    },
    {
     "name": "stdout",
     "output_type": "stream",
     "text": [
      "\n",
      "Epoch 1: val_loss improved from inf to 0.81519, saving model to tmp/model_fixed_lr_diff_bs_128_opt_SGD-MOM_sam_SAM.tf\n",
      "375/375 [==============================] - 5s 9ms/step - loss: 1.4268 - accuracy: 0.4612 - val_loss: 0.8152 - val_accuracy: 0.7138\n",
      "Epoch 2/5\n",
      "373/375 [============================>.] - ETA: 0s - loss: 0.8039 - accuracy: 0.6879\n",
      "Epoch 2: val_loss improved from 0.81519 to 0.67264, saving model to tmp/model_fixed_lr_diff_bs_128_opt_SGD-MOM_sam_SAM.tf\n",
      "375/375 [==============================] - 3s 8ms/step - loss: 0.8033 - accuracy: 0.6882 - val_loss: 0.6726 - val_accuracy: 0.7736\n",
      "Epoch 3/5\n",
      "374/375 [============================>.] - ETA: 0s - loss: 0.6945 - accuracy: 0.7320\n",
      "Epoch 3: val_loss improved from 0.67264 to 0.60986, saving model to tmp/model_fixed_lr_diff_bs_128_opt_SGD-MOM_sam_SAM.tf\n",
      "375/375 [==============================] - 3s 8ms/step - loss: 0.6941 - accuracy: 0.7322 - val_loss: 0.6099 - val_accuracy: 0.7882\n",
      "Epoch 4/5\n",
      "373/375 [============================>.] - ETA: 0s - loss: 0.6358 - accuracy: 0.7527\n",
      "Epoch 4: val_loss improved from 0.60986 to 0.56370, saving model to tmp/model_fixed_lr_diff_bs_128_opt_SGD-MOM_sam_SAM.tf\n",
      "375/375 [==============================] - 3s 8ms/step - loss: 0.6354 - accuracy: 0.7528 - val_loss: 0.5637 - val_accuracy: 0.8025\n",
      "Epoch 5/5\n",
      "371/375 [============================>.] - ETA: 0s - loss: 0.5930 - accuracy: 0.7682\n",
      "Epoch 5: val_loss improved from 0.56370 to 0.52764, saving model to tmp/model_fixed_lr_diff_bs_128_opt_SGD-MOM_sam_SAM.tf\n",
      "375/375 [==============================] - 3s 8ms/step - loss: 0.5927 - accuracy: 0.7684 - val_loss: 0.5276 - val_accuracy: 0.8166\n",
      "INFO:tensorflow:Using MirroredStrategy with devices ('/job:localhost/replica:0/task:0/device:GPU:0',)\n"
     ]
    },
    {
     "name": "stderr",
     "output_type": "stream",
     "text": [
      "INFO:tensorflow:Using MirroredStrategy with devices ('/job:localhost/replica:0/task:0/device:GPU:0',)\n",
      "2022-02-24 19:27:11.276144: W tensorflow/core/grappler/optimizers/data/auto_shard.cc:547] The `assert_cardinality` transformation is currently not handled by the auto-shard rewrite and will be removed.\n"
     ]
    },
    {
     "name": "stdout",
     "output_type": "stream",
     "text": [
      "Epoch 1/5\n",
      "186/188 [============================>.] - ETA: 0s - loss: 1.9668 - accuracy: 0.3541"
     ]
    },
    {
     "name": "stderr",
     "output_type": "stream",
     "text": [
      "2022-02-24 19:27:15.555427: W tensorflow/core/grappler/optimizers/data/auto_shard.cc:547] The `assert_cardinality` transformation is currently not handled by the auto-shard rewrite and will be removed.\n"
     ]
    },
    {
     "name": "stdout",
     "output_type": "stream",
     "text": [
      "\n",
      "Epoch 1: val_loss improved from inf to 1.12079, saving model to tmp/model_fixed_lr_diff_bs_256_opt_SGD-MOM_sam_SAM.tf\n",
      "188/188 [==============================] - 5s 15ms/step - loss: 1.9605 - accuracy: 0.3555 - val_loss: 1.1208 - val_accuracy: 0.6469\n",
      "Epoch 2/5\n",
      "186/188 [============================>.] - ETA: 0s - loss: 0.9806 - accuracy: 0.6023\n",
      "Epoch 2: val_loss improved from 1.12079 to 0.80269, saving model to tmp/model_fixed_lr_diff_bs_256_opt_SGD-MOM_sam_SAM.tf\n",
      "188/188 [==============================] - 2s 13ms/step - loss: 0.9795 - accuracy: 0.6028 - val_loss: 0.8027 - val_accuracy: 0.7205\n",
      "Epoch 3/5\n",
      "186/188 [============================>.] - ETA: 0s - loss: 0.8295 - accuracy: 0.6777\n",
      "Epoch 3: val_loss improved from 0.80269 to 0.71841, saving model to tmp/model_fixed_lr_diff_bs_256_opt_SGD-MOM_sam_SAM.tf\n",
      "188/188 [==============================] - 2s 13ms/step - loss: 0.8288 - accuracy: 0.6781 - val_loss: 0.7184 - val_accuracy: 0.7552\n",
      "Epoch 4/5\n",
      "186/188 [============================>.] - ETA: 0s - loss: 0.7542 - accuracy: 0.7121\n",
      "Epoch 4: val_loss improved from 0.71841 to 0.65984, saving model to tmp/model_fixed_lr_diff_bs_256_opt_SGD-MOM_sam_SAM.tf\n",
      "188/188 [==============================] - 2s 13ms/step - loss: 0.7535 - accuracy: 0.7124 - val_loss: 0.6598 - val_accuracy: 0.7832\n",
      "Epoch 5/5\n",
      "186/188 [============================>.] - ETA: 0s - loss: 0.7019 - accuracy: 0.7313\n",
      "Epoch 5: val_loss improved from 0.65984 to 0.62152, saving model to tmp/model_fixed_lr_diff_bs_256_opt_SGD-MOM_sam_SAM.tf\n",
      "188/188 [==============================] - 2s 13ms/step - loss: 0.7011 - accuracy: 0.7314 - val_loss: 0.6215 - val_accuracy: 0.7920\n",
      "INFO:tensorflow:Using MirroredStrategy with devices ('/job:localhost/replica:0/task:0/device:GPU:0',)\n"
     ]
    },
    {
     "name": "stderr",
     "output_type": "stream",
     "text": [
      "INFO:tensorflow:Using MirroredStrategy with devices ('/job:localhost/replica:0/task:0/device:GPU:0',)\n",
      "2022-02-24 19:27:26.489209: W tensorflow/core/grappler/optimizers/data/auto_shard.cc:547] The `assert_cardinality` transformation is currently not handled by the auto-shard rewrite and will be removed.\n"
     ]
    },
    {
     "name": "stdout",
     "output_type": "stream",
     "text": [
      "Epoch 1/5\n",
      "94/94 [==============================] - ETA: 0s - loss: 2.2658 - accuracy: 0.1875"
     ]
    },
    {
     "name": "stderr",
     "output_type": "stream",
     "text": [
      "2022-02-24 19:27:29.018315: W tensorflow/core/grappler/optimizers/data/auto_shard.cc:547] The `assert_cardinality` transformation is currently not handled by the auto-shard rewrite and will be removed.\n"
     ]
    },
    {
     "name": "stdout",
     "output_type": "stream",
     "text": [
      "\n",
      "Epoch 1: val_loss improved from inf to 2.20263, saving model to tmp/model_fixed_lr_diff_bs_512_opt_SGD-MOM_sam_SAM.tf\n",
      "94/94 [==============================] - 3s 26ms/step - loss: 2.2658 - accuracy: 0.1875 - val_loss: 2.2026 - val_accuracy: 0.3728\n",
      "Epoch 2/5\n",
      "94/94 [==============================] - ETA: 0s - loss: 2.0455 - accuracy: 0.4154\n",
      "Epoch 2: val_loss improved from 2.20263 to 1.66869, saving model to tmp/model_fixed_lr_diff_bs_512_opt_SGD-MOM_sam_SAM.tf\n",
      "94/94 [==============================] - 2s 23ms/step - loss: 2.0455 - accuracy: 0.4154 - val_loss: 1.6687 - val_accuracy: 0.5748\n",
      "Epoch 3/5\n",
      "94/94 [==============================] - ETA: 0s - loss: 1.2297 - accuracy: 0.5623\n",
      "Epoch 3: val_loss improved from 1.66869 to 0.91400, saving model to tmp/model_fixed_lr_diff_bs_512_opt_SGD-MOM_sam_SAM.tf\n",
      "94/94 [==============================] - 2s 24ms/step - loss: 1.2297 - accuracy: 0.5623 - val_loss: 0.9140 - val_accuracy: 0.6933\n",
      "Epoch 4/5\n",
      "94/94 [==============================] - ETA: 0s - loss: 0.9381 - accuracy: 0.6209\n",
      "Epoch 4: val_loss improved from 0.91400 to 0.80744, saving model to tmp/model_fixed_lr_diff_bs_512_opt_SGD-MOM_sam_SAM.tf\n",
      "94/94 [==============================] - 2s 24ms/step - loss: 0.9381 - accuracy: 0.6209 - val_loss: 0.8074 - val_accuracy: 0.7346\n",
      "Epoch 5/5\n",
      "94/94 [==============================] - ETA: 0s - loss: 0.8572 - accuracy: 0.6641\n",
      "Epoch 5: val_loss improved from 0.80744 to 0.75284, saving model to tmp/model_fixed_lr_diff_bs_512_opt_SGD-MOM_sam_SAM.tf\n",
      "94/94 [==============================] - 2s 24ms/step - loss: 0.8572 - accuracy: 0.6641 - val_loss: 0.7528 - val_accuracy: 0.7542\n",
      "INFO:tensorflow:Using MirroredStrategy with devices ('/job:localhost/replica:0/task:0/device:GPU:0',)\n"
     ]
    },
    {
     "name": "stderr",
     "output_type": "stream",
     "text": [
      "INFO:tensorflow:Using MirroredStrategy with devices ('/job:localhost/replica:0/task:0/device:GPU:0',)\n",
      "2022-02-24 19:27:39.011878: W tensorflow/core/grappler/optimizers/data/auto_shard.cc:547] The `assert_cardinality` transformation is currently not handled by the auto-shard rewrite and will be removed.\n"
     ]
    },
    {
     "name": "stdout",
     "output_type": "stream",
     "text": [
      "Epoch 1/5\n",
      "47/47 [==============================] - ETA: 0s - loss: 2.2642 - accuracy: 0.1389"
     ]
    },
    {
     "name": "stderr",
     "output_type": "stream",
     "text": [
      "2022-02-24 19:27:41.533040: W tensorflow/core/grappler/optimizers/data/auto_shard.cc:547] The `assert_cardinality` transformation is currently not handled by the auto-shard rewrite and will be removed.\n"
     ]
    },
    {
     "name": "stdout",
     "output_type": "stream",
     "text": [
      "\n",
      "Epoch 1: val_loss improved from inf to 2.20089, saving model to tmp/model_fixed_lr_diff_bs_1024_opt_SGD-MOM_sam_SAM.tf\n",
      "47/47 [==============================] - 3s 54ms/step - loss: 2.2642 - accuracy: 0.1389 - val_loss: 2.2009 - val_accuracy: 0.2371\n",
      "Epoch 2/5\n",
      "47/47 [==============================] - ETA: 0s - loss: 2.1297 - accuracy: 0.2597\n",
      "Epoch 2: val_loss improved from 2.20089 to 1.98463, saving model to tmp/model_fixed_lr_diff_bs_1024_opt_SGD-MOM_sam_SAM.tf\n",
      "47/47 [==============================] - 2s 43ms/step - loss: 2.1297 - accuracy: 0.2597 - val_loss: 1.9846 - val_accuracy: 0.3422\n",
      "Epoch 3/5\n",
      "47/47 [==============================] - ETA: 0s - loss: 1.7642 - accuracy: 0.4867\n",
      "Epoch 3: val_loss improved from 1.98463 to 1.41514, saving model to tmp/model_fixed_lr_diff_bs_1024_opt_SGD-MOM_sam_SAM.tf\n",
      "47/47 [==============================] - 2s 44ms/step - loss: 1.7642 - accuracy: 0.4867 - val_loss: 1.4151 - val_accuracy: 0.6011\n",
      "Epoch 4/5\n",
      "47/47 [==============================] - ETA: 0s - loss: 1.2181 - accuracy: 0.5608\n",
      "Epoch 4: val_loss improved from 1.41514 to 1.00670, saving model to tmp/model_fixed_lr_diff_bs_1024_opt_SGD-MOM_sam_SAM.tf\n",
      "47/47 [==============================] - 2s 44ms/step - loss: 1.2181 - accuracy: 0.5608 - val_loss: 1.0067 - val_accuracy: 0.6475\n",
      "Epoch 5/5\n",
      "47/47 [==============================] - ETA: 0s - loss: 1.0168 - accuracy: 0.5806\n",
      "Epoch 5: val_loss improved from 1.00670 to 0.89610, saving model to tmp/model_fixed_lr_diff_bs_1024_opt_SGD-MOM_sam_SAM.tf\n",
      "47/47 [==============================] - 2s 45ms/step - loss: 1.0168 - accuracy: 0.5806 - val_loss: 0.8961 - val_accuracy: 0.6743\n"
     ]
    }
   ],
   "source": [
    "if RETRAIN_FLAG:\n",
    "    models_states[key] = {}\n",
    "    for batch_size in batch_sizes:\n",
    "        with tf.distribute.MirroredStrategy().scope():\n",
    "            # Read training data\n",
    "            train, validation = data_loading.load_batched_and_resized_dataset(dataset_name=dataset_name,\n",
    "                                                                              batch_size=batch_size,\n",
    "                                                                              img_size=32)\n",
    "\n",
    "            optimizer = keras.optimizers.SGD(learning_rate=lr, momentum=0.9)\n",
    "            model = tf_models.build_simple_cnn_sam(train, optimizer)\n",
    "            train_callbacks = callback_for_filename(filename_bs_opt_sam(batch_size, \"SGD-MOM\", \"SAM\"))\n",
    "\n",
    "            models_states[key][batch_size] = ml_utils.train_model(model, train, validation, epochs=training_epochs,\n",
    "                                                                  extra_callbacks=train_callbacks, verbose=1)\n",
    "            models[key + (batch_size,)] = model\n",
    "            initial_weights[key + (batch_size,)] = model.get_weights()"
   ]
  },
  {
   "cell_type": "code",
   "execution_count": 116,
   "metadata": {
    "pycharm": {
     "name": "#%%\n"
    }
   },
   "outputs": [],
   "source": [
    "fixed_lr_state_filename = 'model_fixed_lr_diff_bs_state'"
   ]
  },
  {
   "cell_type": "code",
   "execution_count": 117,
   "metadata": {},
   "outputs": [],
   "source": [
    "if RETRAIN_FLAG:\n",
    "    ml_utils.save_model_state(models_states[key], fixed_lr_state_filename)\n",
    "else:\n",
    "    models_states[key] = ml_utils.load_model_state(fixed_lr_state_filename)"
   ]
  },
  {
   "cell_type": "code",
   "execution_count": 118,
   "metadata": {
    "pycharm": {
     "name": "#%%\n"
    }
   },
   "outputs": [
    {
     "data": {
      "image/png": "[encoded data removed]",
      "text/plain": [
       "<Figure size 1600x560 with 2 Axes>"
      ]
     },
     "metadata": {},
     "output_type": "display_data"
    }
   ],
   "source": [
    "visualization.plot_loss_by_param(models_states[key], 'batch size with fixed learning rate', 'fixed_lr_diff_bs_SGD_SAM')"
   ]
  },
  {
   "cell_type": "markdown",
   "metadata": {
    "pycharm": {
     "name": "#%% md\n"
    }
   },
   "source": [
    "#### Sharpness"
   ]
  },
  {
   "cell_type": "code",
   "execution_count": 119,
   "metadata": {
    "pycharm": {
     "name": "#%%\n"
    }
   },
   "outputs": [
    {
     "name": "stderr",
     "output_type": "stream",
     "text": [
      "2022-02-24 19:27:51.319914: W tensorflow/core/grappler/optimizers/data/auto_shard.cc:547] The `assert_cardinality` transformation is currently not handled by the auto-shard rewrite and will be removed.\n"
     ]
    },
    {
     "name": "stdout",
     "output_type": "stream",
     "text": [
      "47/47 [==============================] - 1s 10ms/step - loss: 0.3821 - accuracy: 0.8688\n",
      "47/47 [==============================] - 1s 11ms/step - loss: 0.3821 - accuracy: 0.8688\n",
      "RUNNING THE L-BFGS-B CODE\n",
      "\n",
      "           * * *\n",
      "\n",
      "Machine precision = 2.220D-16\n",
      " N =        59786     M =           10\n",
      "\n",
      "At X0         0 variables are exactly at the bounds\n",
      "\n",
      "At iterate    0    f= -3.82104D-01    |proj g|=  1.48432D-02\n",
      "47/47 [==============================] - 1s 11ms/step - loss: 10.9006 - accuracy: 0.2934\n",
      "\n",
      "At iterate    1    f= -1.09006D+01    |proj g|=  2.96863D-02\n",
      "  ys=-9.166E+02  -gs= 1.795E+01 BFGS update SKIPPED\n",
      "47/47 [==============================] - 1s 11ms/step - loss: 32.0581 - accuracy: 0.1501\n",
      "\n",
      "At iterate    2    f= -3.20581D+01    |proj g|=  2.61104D-02\n",
      "  ys=-1.157E+03  -gs= 4.278E+02 BFGS update SKIPPED\n",
      "47/47 [==============================] - 1s 10ms/step - loss: 43.2347 - accuracy: 0.0998\n",
      "\n",
      "At iterate    3    f= -4.32347D+01    |proj g|=  2.57211D-02\n",
      "  ys=-3.584E+02  -gs= 2.484E+02 BFGS update SKIPPED\n",
      "47/47 [==============================] - 1s 13ms/step - loss: 44.5864 - accuracy: 0.0998\n",
      "\n",
      "At iterate    4    f= -4.45864D+01    |proj g|=  2.35588D-02\n",
      "  ys=-5.944E+01  -gs= 3.273E+01 BFGS update SKIPPED\n",
      "47/47 [==============================] - 1s 12ms/step - loss: 45.0338 - accuracy: 0.0998\n",
      "\n",
      "At iterate    5    f= -4.50338D+01    |proj g|=  2.26199D-02\n",
      "  ys=-1.937E+01  -gs= 1.296E+01 BFGS update SKIPPED\n",
      "47/47 [==============================] - 1s 11ms/step - loss: 45.6478 - accuracy: 0.0998\n",
      "\n",
      "At iterate    6    f= -4.56478D+01    |proj g|=  2.19770D-02\n",
      "  ys=-2.057E+01  -gs= 1.402E+01 BFGS update SKIPPED\n",
      "47/47 [==============================] - 1s 12ms/step - loss: 45.8920 - accuracy: 0.0998\n",
      "\n",
      "At iterate    7    f= -4.58920D+01    |proj g|=  2.22908D-02\n",
      "  ys=-7.432E+00  -gs= 6.744E+00 BFGS update SKIPPED\n",
      "47/47 [==============================] - 1s 11ms/step - loss: 45.9205 - accuracy: 0.0998\n",
      "\n",
      "At iterate    8    f= -4.59205D+01    |proj g|=  2.11629D-02\n",
      "  ys=-1.153E-02  -gs= 1.334E+00 BFGS update SKIPPED\n",
      "47/47 [==============================] - 1s 12ms/step - loss: 45.9206 - accuracy: 0.0998\n",
      "\n",
      "At iterate    9    f= -4.59206D+01    |proj g|=  2.11629D-02\n",
      "47/47 [==============================] - 1s 11ms/step - loss: 45.9206 - accuracy: 0.0998\n",
      "12/47 [======>.......................] - ETA: 0s - loss: 46.0651 - accuracy: 0.0969"
     ]
    },
    {
     "name": "stderr",
     "output_type": "stream",
     "text": [
      "\n",
      " Bad direction in the line search;\n",
      "   refresh the lbfgs memory and restart the iteration.\n"
     ]
    },
    {
     "name": "stdout",
     "output_type": "stream",
     "text": [
      "47/47 [==============================] - 1s 12ms/step - loss: 45.9205 - accuracy: 0.0998\n"
     ]
    },
    {
     "name": "stderr",
     "output_type": "stream",
     "text": [
      "\n",
      " Line search cannot locate an adequate point after MAXLS\n",
      "  function and gradient evaluations.\n",
      "  Previous x, f and g restored.\n",
      " Possible causes: 1 error in function or gradient evaluation;\n",
      "                  2 rounding error dominate computation.\n",
      "2022-02-24 19:28:17.384327: W tensorflow/core/grappler/optimizers/data/auto_shard.cc:547] The `assert_cardinality` transformation is currently not handled by the auto-shard rewrite and will be removed.\n"
     ]
    },
    {
     "name": "stdout",
     "output_type": "stream",
     "text": [
      "\n",
      "           * * *\n",
      "\n",
      "Tit   = total number of iterations\n",
      "Tnf   = total number of function evaluations\n",
      "Tnint = total number of segments explored during Cauchy searches\n",
      "Skip  = number of BFGS updates skipped\n",
      "Nact  = number of active bounds at final generalized Cauchy point\n",
      "Projg = norm of the final projected gradient\n",
      "F     = final function value\n",
      "\n",
      "           * * *\n",
      "\n",
      "   N    Tit     Tnf  Tnint  Skip  Nact     Projg        F\n",
      "59786     10     12  70282     8 56775   2.116D-02  -4.592D+01\n",
      "  F =  -45.920604705810547     \n",
      "\n",
      "ABNORMAL_TERMINATION_IN_LNSRCH                              \n",
      "47/47 [==============================] - 2s 10ms/step - loss: 0.4465 - accuracy: 0.8459\n",
      "47/47 [==============================] - 1s 13ms/step - loss: 0.4465 - accuracy: 0.8459\n",
      "RUNNING THE L-BFGS-B CODE\n",
      "\n",
      "           * * *\n",
      "\n",
      "Machine precision = 2.220D-16\n",
      " N =        59786     M =           10\n",
      "\n",
      "At X0         0 variables are exactly at the bounds\n",
      "\n",
      "At iterate    0    f= -4.46456D-01    |proj g|=  1.45990D-02\n",
      "47/47 [==============================] - 1s 11ms/step - loss: 13.4400 - accuracy: 0.1292\n",
      "\n",
      "At iterate    1    f= -1.34400D+01    |proj g|=  2.91979D-02\n",
      "  ys=-1.060E+03  -gs= 2.458E+01 BFGS update SKIPPED\n",
      "47/47 [==============================] - 1s 12ms/step - loss: 40.4632 - accuracy: 0.0998\n",
      "\n",
      "At iterate    2    f= -4.04632D+01    |proj g|=  2.23140D-02\n",
      "  ys=-1.219E+03  -gs= 6.351E+02 BFGS update SKIPPED\n",
      "47/47 [==============================] - 1s 11ms/step - loss: 45.6888 - accuracy: 0.0998\n",
      "\n",
      "At iterate    3    f= -4.56888D+01    |proj g|=  2.24185D-02\n",
      "  ys=-2.705E+02  -gs= 1.048E+02 BFGS update SKIPPED\n",
      "47/47 [==============================] - 1s 11ms/step - loss: 47.4208 - accuracy: 0.0998\n",
      "\n",
      "At iterate    4    f= -4.74208D+01    |proj g|=  2.18665D-02\n",
      "  ys=-8.391E+01  -gs= 4.023E+01 BFGS update SKIPPED\n",
      "47/47 [==============================] - 1s 11ms/step - loss: 48.0698 - accuracy: 0.0998\n",
      "\n",
      "At iterate    5    f= -4.80698D+01    |proj g|=  2.25134D-02\n",
      "  ys=-2.657E+01  -gs= 2.006E+01 BFGS update SKIPPED\n",
      "47/47 [==============================] - 1s 12ms/step - loss: 48.0907 - accuracy: 0.0998\n",
      "\n",
      "At iterate    6    f= -4.80907D+01    |proj g|=  2.18374D-02\n",
      "47/47 [==============================] - 1s 10ms/step - loss: 48.0907 - accuracy: 0.0998\n",
      "\n",
      "At iterate    7    f= -4.80907D+01    |proj g|=  2.18330D-02\n",
      "  ys=-1.073E-06  -gs= 1.094E-03 BFGS update SKIPPED\n",
      "47/47 [==============================] - 1s 11ms/step - loss: 48.0907 - accuracy: 0.0998\n",
      "12/47 [======>.......................] - ETA: 0s - loss: 48.2681 - accuracy: 0.0969"
     ]
    },
    {
     "name": "stderr",
     "output_type": "stream",
     "text": [
      "\n",
      " Bad direction in the line search;\n",
      "   refresh the lbfgs memory and restart the iteration.\n"
     ]
    },
    {
     "name": "stdout",
     "output_type": "stream",
     "text": [
      "47/47 [==============================] - 1s 11ms/step - loss: 48.1075 - accuracy: 0.0998\n",
      "\n",
      "At iterate    8    f= -4.81075D+01    |proj g|=  2.19833D-02\n",
      "47/47 [==============================] - 1s 11ms/step - loss: 48.1077 - accuracy: 0.0998\n",
      "\n",
      "At iterate    9    f= -4.81077D+01    |proj g|=  2.19628D-02\n",
      "  ys=-1.191E-05  -gs= 7.254E-03 BFGS update SKIPPED\n",
      "47/47 [==============================] - 1s 11ms/step - loss: 48.1078 - accuracy: 0.0998\n",
      "\n",
      "At iterate   10    f= -4.81078D+01    |proj g|=  2.19425D-02\n",
      "\n",
      "           * * *\n",
      "\n",
      "Tit   = total number of iterations\n",
      "Tnf   = total number of function evaluations\n",
      "Tnint = total number of segments explored during Cauchy searches\n",
      "Skip  = number of BFGS updates skipped\n",
      "Nact  = number of active bounds at final generalized Cauchy point\n",
      "Projg = norm of the final projected gradient\n",
      "F     = final function value\n",
      "\n",
      "           * * *\n",
      "\n",
      "   N    Tit     Tnf  Tnint  Skip  Nact     Projg        F\n",
      "59786     10     12  65457     7 53216   2.194D-02  -4.811D+01\n",
      "  F =  -48.107845306396484     \n",
      "\n",
      "STOP: TOTAL NO. of ITERATIONS REACHED LIMIT                 \n"
     ]
    },
    {
     "name": "stderr",
     "output_type": "stream",
     "text": [
      "2022-02-24 19:28:44.507801: W tensorflow/core/grappler/optimizers/data/auto_shard.cc:547] The `assert_cardinality` transformation is currently not handled by the auto-shard rewrite and will be removed.\n"
     ]
    },
    {
     "name": "stdout",
     "output_type": "stream",
     "text": [
      "47/47 [==============================] - 2s 10ms/step - loss: 0.5334 - accuracy: 0.8130\n",
      "47/47 [==============================] - 1s 13ms/step - loss: 0.5334 - accuracy: 0.8130\n",
      "RUNNING THE L-BFGS-B CODE\n",
      "\n",
      "           * * *\n",
      "\n",
      "Machine precision = 2.220D-16\n",
      " N =        59786     M =           10\n",
      "\n",
      "At X0         0 variables are exactly at the bounds\n",
      "\n",
      "At iterate    0    f= -5.33446D-01    |proj g|=  1.37752D-02\n",
      "47/47 [==============================] - 1s 13ms/step - loss: 8.7002 - accuracy: 0.2440\n",
      "\n",
      "At iterate    1    f= -8.70018D+00    |proj g|=  2.75503D-02\n",
      "  ys=-4.751E+02  -gs= 3.640E+01 BFGS update SKIPPED\n",
      "47/47 [==============================] - 1s 11ms/step - loss: 37.2603 - accuracy: 0.1684\n",
      "\n",
      "At iterate    2    f= -3.72603D+01    |proj g|=  2.29038D-02\n",
      "  ys=-1.763E+03  -gs= 5.077E+02 BFGS update SKIPPED\n",
      "47/47 [==============================] - 1s 11ms/step - loss: 51.3132 - accuracy: 0.0998\n",
      "\n",
      "At iterate    3    f= -5.13132D+01    |proj g|=  2.21994D-02\n",
      "  ys=-3.611E+02  -gs= 4.706E+02 BFGS update SKIPPED\n",
      "47/47 [==============================] - 1s 12ms/step - loss: 56.7966 - accuracy: 0.0998\n",
      "\n",
      "At iterate    4    f= -5.67966D+01    |proj g|=  2.19651D-02\n",
      "  ys=-2.517E+00  -gs= 2.558E+02 BFGS update SKIPPED\n",
      "47/47 [==============================] - 1s 12ms/step - loss: 57.0229 - accuracy: 0.0998\n",
      "\n",
      "At iterate    5    f= -5.70229D+01    |proj g|=  2.19651D-02\n",
      "47/47 [==============================] - 1s 12ms/step - loss: 57.0229 - accuracy: 0.0998\n",
      "\n",
      "At iterate    6    f= -5.70229D+01    |proj g|=  2.18425D-02\n",
      "  ys=-1.191E-05  -gs= 1.588E-03 BFGS update SKIPPED\n",
      "47/47 [==============================] - 1s 11ms/step - loss: 57.0230 - accuracy: 0.0998\n",
      "10/47 [=====>........................] - ETA: 0s - loss: 57.1219 - accuracy: 0.0957"
     ]
    },
    {
     "name": "stderr",
     "output_type": "stream",
     "text": [
      "\n",
      " Bad direction in the line search;\n",
      "   refresh the lbfgs memory and restart the iteration.\n"
     ]
    },
    {
     "name": "stdout",
     "output_type": "stream",
     "text": [
      "47/47 [==============================] - 1s 13ms/step - loss: 56.7894 - accuracy: 0.0998\n",
      "\n",
      "           * * *\n",
      "\n",
      "Tit   = total number of iterations\n",
      "Tnf   = total number of function evaluations\n",
      "Tnint = total number of segments explored during Cauchy searches\n",
      "Skip  = number of BFGS updates skipped\n",
      "Nact  = number of active bounds at final generalized Cauchy point\n",
      "Projg = norm of the final projected gradient\n",
      "F     = final function value\n",
      "\n",
      "           * * *\n",
      "\n",
      "   N    Tit     Tnf  Tnint  Skip  Nact     Projg        F\n",
      "59786      7      9  72643     5 55509   2.184D-02  -5.702D+01\n",
      "  F =  -57.022949218750000     \n",
      "\n",
      "ABNORMAL_TERMINATION_IN_LNSRCH                              \n"
     ]
    },
    {
     "name": "stderr",
     "output_type": "stream",
     "text": [
      "\n",
      " Line search cannot locate an adequate point after MAXLS\n",
      "  function and gradient evaluations.\n",
      "  Previous x, f and g restored.\n",
      " Possible causes: 1 error in function or gradient evaluation;\n",
      "                  2 rounding error dominate computation.\n",
      "2022-02-24 19:29:05.782656: W tensorflow/core/grappler/optimizers/data/auto_shard.cc:547] The `assert_cardinality` transformation is currently not handled by the auto-shard rewrite and will be removed.\n"
     ]
    },
    {
     "name": "stdout",
     "output_type": "stream",
     "text": [
      "47/47 [==============================] - 2s 9ms/step - loss: 0.6268 - accuracy: 0.7892\n",
      "47/47 [==============================] - 1s 10ms/step - loss: 0.6268 - accuracy: 0.7892\n",
      "RUNNING THE L-BFGS-B CODE\n",
      "\n",
      "           * * *\n",
      "\n",
      "Machine precision = 2.220D-16\n",
      " N =        59786     M =           10\n",
      "\n",
      "At X0         0 variables are exactly at the bounds\n",
      "\n",
      "At iterate    0    f= -6.26811D-01    |proj g|=  1.28521D-02\n",
      "47/47 [==============================] - 1s 11ms/step - loss: 3.2911 - accuracy: 0.2410\n",
      "\n",
      "At iterate    1    f= -3.29115D+00    |proj g|=  2.55363D-02\n",
      "  ys=-8.369E+01  -gs= 1.766E+01 BFGS update SKIPPED\n",
      "47/47 [==============================] - 1s 11ms/step - loss: 27.7148 - accuracy: 0.1766\n",
      "\n",
      "At iterate    2    f= -2.77148D+01    |proj g|=  2.57041D-02\n",
      "  ys=-1.718E+03  -gs= 3.084E+02 BFGS update SKIPPED\n",
      "47/47 [==============================] - 1s 13ms/step - loss: 44.5194 - accuracy: 0.1902\n",
      "\n",
      "At iterate    3    f= -4.45194D+01    |proj g|=  2.22757D-02\n",
      "  ys=-5.986E+02  -gs= 5.089E+02 BFGS update SKIPPED\n",
      "47/47 [==============================] - 1s 10ms/step - loss: 46.9818 - accuracy: 0.1944\n",
      "\n",
      "At iterate    4    f= -4.69818D+01    |proj g|=  2.17648D-02\n",
      "  ys=-1.038E+02  -gs= 6.560E+01 BFGS update SKIPPED\n",
      "47/47 [==============================] - 1s 11ms/step - loss: 48.6362 - accuracy: 0.1949\n",
      "\n",
      "At iterate    5    f= -4.86362D+01    |proj g|=  2.16156D-02\n",
      "  ys=-9.799E+01  -gs= 3.172E+01 BFGS update SKIPPED\n",
      "47/47 [==============================] - 1s 11ms/step - loss: 48.9037 - accuracy: 0.1950\n",
      "\n",
      "At iterate    6    f= -4.89037D+01    |proj g|=  2.15348D-02\n",
      "  ys=-1.881E+01  -gs= 5.644E+00 BFGS update SKIPPED\n",
      "47/47 [==============================] - 1s 12ms/step - loss: 48.9932 - accuracy: 0.1950\n",
      "\n",
      "At iterate    7    f= -4.89932D+01    |proj g|=  5.16547D-03\n",
      "  ys=-1.900E+00  -gs= 3.300E+00 BFGS update SKIPPED\n",
      "47/47 [==============================] - 1s 11ms/step - loss: 48.9932 - accuracy: 0.1950\n",
      "\n",
      "At iterate    8    f= -4.89932D+01    |proj g|=  3.36226D-03\n",
      "47/47 [==============================] - 1s 11ms/step - loss: 48.9932 - accuracy: 0.1950\n",
      "13/47 [=======>......................] - ETA: 0s - loss: 49.2817 - accuracy: 0.1910"
     ]
    },
    {
     "name": "stderr",
     "output_type": "stream",
     "text": [
      "\n",
      " Bad direction in the line search;\n",
      "   refresh the lbfgs memory and restart the iteration.\n"
     ]
    },
    {
     "name": "stdout",
     "output_type": "stream",
     "text": [
      "47/47 [==============================] - 1s 11ms/step - loss: 48.9932 - accuracy: 0.1950\n",
      "\n",
      "           * * *\n",
      "\n",
      "Tit   = total number of iterations\n",
      "Tnf   = total number of function evaluations\n",
      "Tnint = total number of segments explored during Cauchy searches\n",
      "Skip  = number of BFGS updates skipped\n",
      "Nact  = number of active bounds at final generalized Cauchy point\n",
      "Projg = norm of the final projected gradient\n",
      "F     = final function value\n",
      "\n",
      "           * * *\n",
      "\n",
      "   N    Tit     Tnf  Tnint  Skip  Nact     Projg        F\n",
      "59786      9     11  75709     7 56253   3.362D-03  -4.899D+01\n",
      "  F =  -48.993171691894531     \n",
      "\n",
      "ABNORMAL_TERMINATION_IN_LNSRCH                              \n"
     ]
    },
    {
     "name": "stderr",
     "output_type": "stream",
     "text": [
      "\n",
      " Line search cannot locate an adequate point after MAXLS\n",
      "  function and gradient evaluations.\n",
      "  Previous x, f and g restored.\n",
      " Possible causes: 1 error in function or gradient evaluation;\n",
      "                  2 rounding error dominate computation.\n",
      "2022-02-24 19:29:30.667466: W tensorflow/core/grappler/optimizers/data/auto_shard.cc:547] The `assert_cardinality` transformation is currently not handled by the auto-shard rewrite and will be removed.\n"
     ]
    },
    {
     "name": "stdout",
     "output_type": "stream",
     "text": [
      "47/47 [==============================] - 2s 10ms/step - loss: 0.7575 - accuracy: 0.7512\n",
      "47/47 [==============================] - 1s 13ms/step - loss: 0.7575 - accuracy: 0.7512\n",
      "RUNNING THE L-BFGS-B CODE\n",
      "\n",
      "           * * *\n",
      "\n",
      "Machine precision = 2.220D-16\n",
      " N =        59786     M =           10\n",
      "\n",
      "At X0         0 variables are exactly at the bounds\n",
      "\n",
      "At iterate    0    f= -7.57471D-01    |proj g|=  1.27845D-02\n",
      "47/47 [==============================] - 1s 11ms/step - loss: 4.3708 - accuracy: 0.2079\n",
      "\n",
      "At iterate    1    f= -4.37081D+00    |proj g|=  2.55690D-02\n",
      "  ys=-7.075E+01  -gs= 2.855E+01 BFGS update SKIPPED\n",
      "47/47 [==============================] - 1s 11ms/step - loss: 29.1616 - accuracy: 0.1931\n",
      "\n",
      "At iterate    2    f= -2.91616D+01    |proj g|=  2.39305D-02\n",
      "  ys=-1.415E+03  -gs= 4.764E+02 BFGS update SKIPPED\n",
      "47/47 [==============================] - 1s 10ms/step - loss: 38.7175 - accuracy: 0.1931\n",
      "\n",
      "At iterate    3    f= -3.87175D+01    |proj g|=  2.16853D-02\n",
      "  ys=-3.400E+02  -gs= 3.038E+02 BFGS update SKIPPED\n",
      "47/47 [==============================] - 1s 11ms/step - loss: 39.7317 - accuracy: 0.1930\n",
      "\n",
      "At iterate    4    f= -3.97317D+01    |proj g|=  2.16772D-02\n",
      "  ys=-3.843E+01  -gs= 2.873E+01 BFGS update SKIPPED\n",
      "47/47 [==============================] - 1s 11ms/step - loss: 39.7721 - accuracy: 0.1930\n",
      "\n",
      "At iterate    5    f= -3.97721D+01    |proj g|=  2.14671D-02\n",
      "  ys=-4.553E-01  -gs= 1.717E+00 BFGS update SKIPPED\n",
      "47/47 [==============================] - 1s 12ms/step - loss: 39.7872 - accuracy: 0.1930\n",
      "\n",
      "At iterate    6    f= -3.97872D+01    |proj g|=  2.15229D-02\n",
      "  ys=-3.922E-01  -gs= 5.324E-01 BFGS update SKIPPED\n",
      "47/47 [==============================] - 1s 12ms/step - loss: 39.8094 - accuracy: 0.1930\n",
      "\n",
      "At iterate    7    f= -3.98094D+01    |proj g|=  1.03678D-02\n",
      "  ys=-1.340E+00  -gs= 6.311E-01 BFGS update SKIPPED\n",
      "47/47 [==============================] - 1s 11ms/step - loss: 39.8122 - accuracy: 0.1931\n",
      "\n",
      "At iterate    8    f= -3.98122D+01    |proj g|=  5.46820D-03\n",
      "  ys=-2.572E-02  -gs= 1.207E-01 BFGS update SKIPPED\n",
      "47/47 [==============================] - 1s 11ms/step - loss: 39.8122 - accuracy: 0.1931\n",
      "\n",
      "At iterate    9    f= -3.98122D+01    |proj g|=  3.19937D-03\n",
      "  ys=-3.042E-07  -gs= 3.752E-04 BFGS update SKIPPED\n",
      "47/47 [==============================] - 1s 11ms/step - loss: 39.8122 - accuracy: 0.1931\n",
      "\n",
      "           * * *\n",
      "\n",
      "Tit   = total number of iterations\n",
      "Tnf   = total number of function evaluations\n",
      "Tnint = total number of segments explored during Cauchy searches\n",
      "Skip  = number of BFGS updates skipped\n",
      "Nact  = number of active bounds at final generalized Cauchy point\n",
      "Projg = norm of the final projected gradient\n",
      "F     = final function value\n",
      "\n",
      "           * * *\n",
      "\n",
      "   N    Tit     Tnf  Tnint  Skip  Nact     Projg        F\n",
      "59786     10     11  72669     9 57153   3.199D-03  -3.981D+01\n",
      "  F =  -39.812210083007812     \n",
      "\n",
      "ABNORMAL_TERMINATION_IN_LNSRCH                              \n"
     ]
    },
    {
     "name": "stderr",
     "output_type": "stream",
     "text": [
      "\n",
      " Line search cannot locate an adequate point after MAXLS\n",
      "  function and gradient evaluations.\n",
      "  Previous x, f and g restored.\n",
      " Possible causes: 1 error in function or gradient evaluation;\n",
      "                  2 rounding error dominate computation.\n",
      "2022-02-24 19:29:55.719686: W tensorflow/core/grappler/optimizers/data/auto_shard.cc:547] The `assert_cardinality` transformation is currently not handled by the auto-shard rewrite and will be removed.\n"
     ]
    },
    {
     "name": "stdout",
     "output_type": "stream",
     "text": [
      "47/47 [==============================] - 2s 10ms/step - loss: 0.8996 - accuracy: 0.6743\n",
      "47/47 [==============================] - 1s 12ms/step - loss: 0.8996 - accuracy: 0.6743\n",
      "RUNNING THE L-BFGS-B CODE\n",
      "\n",
      "           * * *\n",
      "\n",
      "Machine precision = 2.220D-16\n",
      " N =        59786     M =           10\n",
      "\n",
      "At X0         0 variables are exactly at the bounds\n",
      "\n",
      "At iterate    0    f= -8.99626D-01    |proj g|=  1.26154D-02\n",
      "47/47 [==============================] - 1s 13ms/step - loss: 7.5506 - accuracy: 0.2630\n",
      "\n",
      "At iterate    1    f= -7.55060D+00    |proj g|=  2.52308D-02\n",
      "  ys=-1.924E+02  -gs= 6.021E+01 BFGS update SKIPPED\n",
      "47/47 [==============================] - 1s 11ms/step - loss: 29.6365 - accuracy: 0.2852\n",
      "\n",
      "At iterate    2    f= -2.96365D+01    |proj g|=  2.27951D-02\n",
      "  ys=-1.097E+03  -gs= 5.133E+02 BFGS update SKIPPED\n",
      "47/47 [==============================] - 1s 11ms/step - loss: 36.9687 - accuracy: 0.2829\n",
      "\n",
      "At iterate    3    f= -3.69687D+01    |proj g|=  2.16354D-02\n",
      "  ys=-3.614E+02  -gs= 1.831E+02 BFGS update SKIPPED\n",
      "47/47 [==============================] - 1s 11ms/step - loss: 37.7793 - accuracy: 0.2826\n",
      "\n",
      "At iterate    4    f= -3.77793D+01    |proj g|=  2.16670D-02\n",
      "  ys=-1.189E+01  -gs= 3.251E+01 BFGS update SKIPPED\n",
      "47/47 [==============================] - 1s 11ms/step - loss: 38.2097 - accuracy: 0.2828\n",
      "\n",
      "At iterate    5    f= -3.82097D+01    |proj g|=  2.07425D-02\n",
      "  ys=-2.615E+01  -gs= 8.078E+00 BFGS update SKIPPED\n",
      "47/47 [==============================] - 1s 10ms/step - loss: 38.5624 - accuracy: 0.2831\n",
      "\n",
      "At iterate    6    f= -3.85624D+01    |proj g|=  1.70835D-03\n",
      "  ys=-3.594E+00  -gs= 1.479E+01 BFGS update SKIPPED\n",
      "47/47 [==============================] - 1s 11ms/step - loss: 38.5624 - accuracy: 0.2831\n",
      "\n",
      "           * * *\n",
      "\n",
      "Tit   = total number of iterations\n",
      "Tnf   = total number of function evaluations\n",
      "Tnint = total number of segments explored during Cauchy searches\n",
      "Skip  = number of BFGS updates skipped\n",
      "Nact  = number of active bounds at final generalized Cauchy point\n",
      "Projg = norm of the final projected gradient\n",
      "F     = final function value\n",
      "\n",
      "           * * *\n",
      "\n",
      "   N    Tit     Tnf  Tnint  Skip  Nact     Projg        F\n"
     ]
    },
    {
     "name": "stderr",
     "output_type": "stream",
     "text": [
      "\n",
      " Line search cannot locate an adequate point after MAXLS\n",
      "  function and gradient evaluations.\n",
      "  Previous x, f and g restored.\n",
      " Possible causes: 1 error in function or gradient evaluation;\n",
      "                  2 rounding error dominate computation.\n"
     ]
    },
    {
     "name": "stdout",
     "output_type": "stream",
     "text": [
      "59786      7      8  69265     6 55090   1.708D-03  -3.856D+01\n",
      "  F =  -38.562416076660156     \n",
      "\n",
      "ABNORMAL_TERMINATION_IN_LNSRCH                              \n"
     ]
    }
   ],
   "source": [
    "if RETRAIN_FLAG:\n",
    "    for batch_size in batch_sizes:\n",
    "        model = models[key + (batch_size,)]\n",
    "\n",
    "        sharpness_bs = visualization.get_sharpness(model.base_model, train)\n",
    "        sharpnesses[key + (batch_size,)] = sharpness_bs\n",
    "\n",
    "        ml_utils.save_sharpnesses_dict(sharpnesses)\n",
    "\n",
    "if not RETRAIN_FLAG:\n",
    "    sharpnesses = ml_utils.load_sharpnesses_dict()"
   ]
  },
  {
   "cell_type": "code",
   "execution_count": 120,
   "metadata": {},
   "outputs": [
    {
     "data": {
      "image/png": "[encoded data removed]",
      "text/plain": [
       "<Figure size 432x288 with 1 Axes>"
      ]
     },
     "metadata": {},
     "output_type": "display_data"
    }
   ],
   "source": [
    "visualization.plot_sharpness(batch_sizes, sharpnesses, key)"
   ]
  },
  {
   "cell_type": "markdown",
   "metadata": {},
   "source": [
    "#### Distance from initial weights"
   ]
  },
  {
   "cell_type": "code",
   "execution_count": 121,
   "metadata": {},
   "outputs": [
    {
     "name": "stdout",
     "output_type": "stream",
     "text": [
      "Batch size: 32, distance: 0.0\n",
      "Batch size: 64, distance: 0.0\n",
      "Batch size: 128, distance: 0.0\n",
      "Batch size: 256, distance: 0.0\n",
      "Batch size: 512, distance: 0.0\n",
      "Batch size: 1024, distance: 0.0\n"
     ]
    },
    {
     "data": {
      "image/png": "[encoded data removed]",
      "text/plain": [
       "<Figure size 432x288 with 1 Axes>"
      ]
     },
     "metadata": {},
     "output_type": "display_data"
    },
    {
     "data": {
      "text/plain": [
       "<Figure size 432x288 with 0 Axes>"
      ]
     },
     "metadata": {},
     "output_type": "display_data"
    }
   ],
   "source": [
    "visualization.plot_distance_from_initial_weight(models, initial_weights, batch_sizes, key)"
   ]
  },
  {
   "cell_type": "markdown",
   "metadata": {
    "pycharm": {
     "name": "#%% md\n"
    }
   },
   "source": [
    "#### Runtime"
   ]
  },
  {
   "cell_type": "code",
   "execution_count": 122,
   "metadata": {
    "pycharm": {
     "name": "#%%\n"
    }
   },
   "outputs": [
    {
     "name": "stdout",
     "output_type": "stream",
     "text": [
      "Batch size:  32\n",
      "\tMean time per epoch:  6.868595314025879\n",
      "\tConverged in 4 epochs\n",
      "\tOverall training time (in seconds) until convergence:  27.735214710235596\n",
      "Batch size:  64\n",
      "\tMean time per epoch:  4.081904792785645\n",
      "\tConverged in 4 epochs\n",
      "\tOverall training time (in seconds) until convergence:  16.400123357772827\n",
      "Batch size:  128\n",
      "\tMean time per epoch:  3.339431953430176\n",
      "\tConverged in 4 epochs\n",
      "\tOverall training time (in seconds) until convergence:  13.72858190536499\n",
      "Batch size:  256\n",
      "\tMean time per epoch:  2.9288652896881104\n",
      "\tConverged in 4 epochs\n",
      "\tOverall training time (in seconds) until convergence:  12.193986654281616\n",
      "Batch size:  512\n",
      "\tMean time per epoch:  2.3830679416656495\n",
      "\tConverged in 4 epochs\n",
      "\tOverall training time (in seconds) until convergence:  9.718336343765259\n",
      "Batch size:  1024\n",
      "\tMean time per epoch:  2.269138956069946\n",
      "\tConverged in 4 epochs\n",
      "\tOverall training time (in seconds) until convergence:  9.262920379638672\n"
     ]
    }
   ],
   "source": [
    "mean_times, convergence_epochs, overall_training_times = visualization.extract_times_for_batch_sizes(models_states,\n",
    "                                                                                                     batch_sizes, key)"
   ]
  },
  {
   "cell_type": "code",
   "execution_count": 123,
   "metadata": {},
   "outputs": [
    {
     "data": {
      "image/png": "[encoded data removed]",
      "text/plain": [
       "<Figure size 432x288 with 1 Axes>"
      ]
     },
     "metadata": {},
     "output_type": "display_data"
    }
   ],
   "source": [
    "visualization.plot_mean_time_per_epoch(batch_sizes, mean_times)"
   ]
  },
  {
   "cell_type": "code",
   "execution_count": 124,
   "metadata": {},
   "outputs": [
    {
     "data": {
      "image/png": "[encoded data removed]",
      "text/plain": [
       "<Figure size 432x288 with 1 Axes>"
      ]
     },
     "metadata": {},
     "output_type": "display_data"
    }
   ],
   "source": [
    "visualization.histogram_num_of_train_epochs_until_conv(batch_sizes, convergence_epochs)"
   ]
  },
  {
   "cell_type": "code",
   "execution_count": 125,
   "metadata": {},
   "outputs": [
    {
     "data": {
      "image/png": "[encoded data removed]",
      "text/plain": [
       "<Figure size 432x288 with 1 Axes>"
      ]
     },
     "metadata": {},
     "output_type": "display_data"
    }
   ],
   "source": [
    "visualization.histogram_overall_time_until_end_of_epochs(batch_sizes, overall_training_times)"
   ]
  },
  {
   "cell_type": "code",
   "execution_count": 127,
   "metadata": {},
   "outputs": [
    {
     "data": {
      "image/png": "[encoded data removed]",
      "text/plain": [
       "<Figure size 432x288 with 1 Axes>"
      ]
     },
     "metadata": {},
     "output_type": "display_data"
    }
   ],
   "source": [
    "visualization.plot_sharpness_times_runtime(batch_sizes, overall_training_times, sharpnesses, key)"
   ]
  },
  {
   "cell_type": "markdown",
   "metadata": {},
   "source": [
    "### SGD with Momentum + ASAM"
   ]
  },
  {
   "cell_type": "code",
   "execution_count": 95,
   "metadata": {
    "pycharm": {
     "name": "#%%\n"
    }
   },
   "outputs": [],
   "source": [
    "models_dict_fixed_sgd_asam = {}\n",
    "batch_sizes = [32, 64, 128, 256, 512, 1024]\n",
    "#batch_sizes = [32]\n",
    "lr = 0.001\n",
    "training_epochs = EPOCHS\n",
    "\n",
    "key = ('fixed', 'sgd', 'asam')"
   ]
  },
  {
   "cell_type": "code",
   "execution_count": 96,
   "metadata": {},
   "outputs": [],
   "source": [
    "models_by_batch_size_fixed_lr_sgd_asam = {}"
   ]
  },
  {
   "cell_type": "code",
   "execution_count": 97,
   "metadata": {},
   "outputs": [],
   "source": [
    "if not RETRAIN_FLAG:\n",
    "    for batch_size in batch_sizes:\n",
    "        # Read training data\n",
    "        train, validation = data_loading.load_batched_and_resized_dataset(dataset_name=dataset_name,\n",
    "                                                                          batch_size=batch_size,\n",
    "                                                                          img_size=32)\n",
    "        optimizer = keras.optimizers.SGD(learning_rate=lr, momentum=0.9)\n",
    "        model = build_and_load_sam_model_weights(train, optimizer, filename_bs_opt_sam(batch_size, \"SGD-MOM\", \"ASAM\"))\n",
    "        models_by_batch_size_fixed_lr_sgd_asam[batch_size] = model\n",
    "        models[key + (batch_size,)] = model\n",
    "        initial_weights[key + (batch_size,)] = model.get_weights()"
   ]
  },
  {
   "cell_type": "code",
   "execution_count": 98,
   "metadata": {},
   "outputs": [
    {
     "name": "stdout",
     "output_type": "stream",
     "text": [
      "INFO:tensorflow:Using MirroredStrategy with devices ('/job:localhost/replica:0/task:0/device:GPU:0',)\n"
     ]
    },
    {
     "name": "stderr",
     "output_type": "stream",
     "text": [
      "INFO:tensorflow:Using MirroredStrategy with devices ('/job:localhost/replica:0/task:0/device:GPU:0',)\n",
      "2022-02-24 19:00:44.343015: W tensorflow/core/grappler/optimizers/data/auto_shard.cc:547] The `assert_cardinality` transformation is currently not handled by the auto-shard rewrite and will be removed.\n"
     ]
    },
    {
     "name": "stdout",
     "output_type": "stream",
     "text": [
      "1499/1500 [============================>.] - ETA: 0s - loss: 0.9652 - accuracy: 0.6265"
     ]
    },
    {
     "name": "stderr",
     "output_type": "stream",
     "text": [
      "2022-02-24 19:00:51.294123: W tensorflow/core/grappler/optimizers/data/auto_shard.cc:547] The `assert_cardinality` transformation is currently not handled by the auto-shard rewrite and will be removed.\n"
     ]
    },
    {
     "name": "stdout",
     "output_type": "stream",
     "text": [
      "\n",
      "Epoch 1: val_loss improved from inf to 0.57231, saving model to tmp/model_fixed_lr_diff_bs_32_opt_SGD-MOM_sam_ASAM.tf\n",
      "1500/1500 [==============================] - 9s 5ms/step - loss: 0.9651 - accuracy: 0.6265 - val_loss: 0.5723 - val_accuracy: 0.7943\n",
      "INFO:tensorflow:Using MirroredStrategy with devices ('/job:localhost/replica:0/task:0/device:GPU:0',)\n"
     ]
    },
    {
     "name": "stderr",
     "output_type": "stream",
     "text": [
      "INFO:tensorflow:Using MirroredStrategy with devices ('/job:localhost/replica:0/task:0/device:GPU:0',)\n",
      "2022-02-24 19:00:53.526278: W tensorflow/core/grappler/optimizers/data/auto_shard.cc:547] The `assert_cardinality` transformation is currently not handled by the auto-shard rewrite and will be removed.\n"
     ]
    },
    {
     "name": "stdout",
     "output_type": "stream",
     "text": [
      "741/750 [============================>.] - ETA: 0s - loss: 1.4259 - accuracy: 0.4940"
     ]
    },
    {
     "name": "stderr",
     "output_type": "stream",
     "text": [
      "2022-02-24 19:00:57.844146: W tensorflow/core/grappler/optimizers/data/auto_shard.cc:547] The `assert_cardinality` transformation is currently not handled by the auto-shard rewrite and will be removed.\n"
     ]
    },
    {
     "name": "stdout",
     "output_type": "stream",
     "text": [
      "\n",
      "Epoch 1: val_loss improved from inf to 0.69402, saving model to tmp/model_fixed_lr_diff_bs_64_opt_SGD-MOM_sam_ASAM.tf\n",
      "750/750 [==============================] - 5s 6ms/step - loss: 1.4183 - accuracy: 0.4963 - val_loss: 0.6940 - val_accuracy: 0.7625\n",
      "INFO:tensorflow:Using MirroredStrategy with devices ('/job:localhost/replica:0/task:0/device:GPU:0',)\n"
     ]
    },
    {
     "name": "stderr",
     "output_type": "stream",
     "text": [
      "INFO:tensorflow:Using MirroredStrategy with devices ('/job:localhost/replica:0/task:0/device:GPU:0',)\n",
      "2022-02-24 19:00:58.825647: W tensorflow/core/grappler/optimizers/data/auto_shard.cc:547] The `assert_cardinality` transformation is currently not handled by the auto-shard rewrite and will be removed.\n"
     ]
    },
    {
     "name": "stdout",
     "output_type": "stream",
     "text": [
      "368/375 [============================>.] - ETA: 0s - loss: 1.8270 - accuracy: 0.3619"
     ]
    },
    {
     "name": "stderr",
     "output_type": "stream",
     "text": [
      "2022-02-24 19:01:02.194149: W tensorflow/core/grappler/optimizers/data/auto_shard.cc:547] The `assert_cardinality` transformation is currently not handled by the auto-shard rewrite and will be removed.\n"
     ]
    },
    {
     "name": "stdout",
     "output_type": "stream",
     "text": [
      "\n",
      "Epoch 1: val_loss improved from inf to 0.89222, saving model to tmp/model_fixed_lr_diff_bs_128_opt_SGD-MOM_sam_ASAM.tf\n",
      "375/375 [==============================] - 4s 9ms/step - loss: 1.8108 - accuracy: 0.3666 - val_loss: 0.8922 - val_accuracy: 0.6712\n",
      "INFO:tensorflow:Using MirroredStrategy with devices ('/job:localhost/replica:0/task:0/device:GPU:0',)\n"
     ]
    },
    {
     "name": "stderr",
     "output_type": "stream",
     "text": [
      "INFO:tensorflow:Using MirroredStrategy with devices ('/job:localhost/replica:0/task:0/device:GPU:0',)\n",
      "2022-02-24 19:01:03.088256: W tensorflow/core/grappler/optimizers/data/auto_shard.cc:547] The `assert_cardinality` transformation is currently not handled by the auto-shard rewrite and will be removed.\n"
     ]
    },
    {
     "name": "stdout",
     "output_type": "stream",
     "text": [
      "184/188 [============================>.] - ETA: 0s - loss: 2.1166 - accuracy: 0.3226"
     ]
    },
    {
     "name": "stderr",
     "output_type": "stream",
     "text": [
      "2022-02-24 19:01:06.906973: W tensorflow/core/grappler/optimizers/data/auto_shard.cc:547] The `assert_cardinality` transformation is currently not handled by the auto-shard rewrite and will be removed.\n"
     ]
    },
    {
     "name": "stdout",
     "output_type": "stream",
     "text": [
      "\n",
      "Epoch 1: val_loss improved from inf to 1.46472, saving model to tmp/model_fixed_lr_diff_bs_256_opt_SGD-MOM_sam_ASAM.tf\n",
      "188/188 [==============================] - 4s 15ms/step - loss: 2.1068 - accuracy: 0.3264 - val_loss: 1.4647 - val_accuracy: 0.5669\n",
      "INFO:tensorflow:Using MirroredStrategy with devices ('/job:localhost/replica:0/task:0/device:GPU:0',)\n"
     ]
    },
    {
     "name": "stderr",
     "output_type": "stream",
     "text": [
      "INFO:tensorflow:Using MirroredStrategy with devices ('/job:localhost/replica:0/task:0/device:GPU:0',)\n",
      "2022-02-24 19:01:07.773699: W tensorflow/core/grappler/optimizers/data/auto_shard.cc:547] The `assert_cardinality` transformation is currently not handled by the auto-shard rewrite and will be removed.\n"
     ]
    },
    {
     "name": "stdout",
     "output_type": "stream",
     "text": [
      "94/94 [==============================] - ETA: 0s - loss: 2.2598 - accuracy: 0.2289"
     ]
    },
    {
     "name": "stderr",
     "output_type": "stream",
     "text": [
      "2022-02-24 19:01:10.348680: W tensorflow/core/grappler/optimizers/data/auto_shard.cc:547] The `assert_cardinality` transformation is currently not handled by the auto-shard rewrite and will be removed.\n"
     ]
    },
    {
     "name": "stdout",
     "output_type": "stream",
     "text": [
      "\n",
      "Epoch 1: val_loss improved from inf to 2.15743, saving model to tmp/model_fixed_lr_diff_bs_512_opt_SGD-MOM_sam_ASAM.tf\n",
      "94/94 [==============================] - 3s 27ms/step - loss: 2.2598 - accuracy: 0.2289 - val_loss: 2.1574 - val_accuracy: 0.3121\n",
      "INFO:tensorflow:Using MirroredStrategy with devices ('/job:localhost/replica:0/task:0/device:GPU:0',)\n"
     ]
    },
    {
     "name": "stderr",
     "output_type": "stream",
     "text": [
      "INFO:tensorflow:Using MirroredStrategy with devices ('/job:localhost/replica:0/task:0/device:GPU:0',)\n",
      "2022-02-24 19:01:11.155950: W tensorflow/core/grappler/optimizers/data/auto_shard.cc:547] The `assert_cardinality` transformation is currently not handled by the auto-shard rewrite and will be removed.\n"
     ]
    },
    {
     "name": "stdout",
     "output_type": "stream",
     "text": [
      "46/47 [============================>.] - ETA: 0s - loss: 2.2959 - accuracy: 0.0659"
     ]
    },
    {
     "name": "stderr",
     "output_type": "stream",
     "text": [
      "2022-02-24 19:01:14.698916: W tensorflow/core/grappler/optimizers/data/auto_shard.cc:547] The `assert_cardinality` transformation is currently not handled by the auto-shard rewrite and will be removed.\n"
     ]
    },
    {
     "name": "stdout",
     "output_type": "stream",
     "text": [
      "\n",
      "Epoch 1: val_loss improved from inf to 2.23963, saving model to tmp/model_fixed_lr_diff_bs_1024_opt_SGD-MOM_sam_ASAM.tf\n",
      "47/47 [==============================] - 4s 52ms/step - loss: 2.2952 - accuracy: 0.0665 - val_loss: 2.2396 - val_accuracy: 0.1185\n"
     ]
    }
   ],
   "source": [
    "if RETRAIN_FLAG:\n",
    "    models_states[key] = {}\n",
    "    for batch_size in batch_sizes:\n",
    "        with tf.distribute.MirroredStrategy().scope():\n",
    "            # Read training data\n",
    "            train, validation = data_loading.load_batched_and_resized_dataset(dataset_name=dataset_name,\n",
    "                                                                              batch_size=batch_size,\n",
    "                                                                              img_size=32)\n",
    "\n",
    "            optimizer = keras.optimizers.SGD(learning_rate=lr, momentum=0.9)\n",
    "            model = tf_models.build_simple_cnn_sam(train, optimizer, adaptive=True, rho=2.0)\n",
    "            train_callbacks = callback_for_filename(filename_bs_opt_sam(batch_size, \"SGD-MOM\", \"ASAM\"))\n",
    "\n",
    "            models_states[key][batch_size] = ml_utils.train_model(model, train, validation, epochs=training_epochs,\n",
    "                                                                  extra_callbacks=train_callbacks, verbose=1)\n",
    "            models[key + (batch_size,)] = model"
   ]
  },
  {
   "cell_type": "code",
   "execution_count": 99,
   "metadata": {},
   "outputs": [],
   "source": [
    "fixed_lr_sgd_asam_state_filename = 'model_fixed_lr_diff_bs_sgd_asam_state'"
   ]
  },
  {
   "cell_type": "code",
   "execution_count": 100,
   "metadata": {},
   "outputs": [],
   "source": [
    "if RETRAIN_FLAG:\n",
    "    ml_utils.save_model_state(models_states[key], fixed_lr_sgd_asam_state_filename)\n",
    "else:\n",
    "    models_states[key] = ml_utils.load_model_state(fixed_lr_sgd_asam_state_filename)"
   ]
  },
  {
   "cell_type": "code",
   "execution_count": 101,
   "metadata": {},
   "outputs": [
    {
     "data": {
      "image/png": "[encoded data removed]",
      "text/plain": [
       "<Figure size 1600x560 with 2 Axes>"
      ]
     },
     "metadata": {},
     "output_type": "display_data"
    }
   ],
   "source": [
    "visualization.plot_loss_by_param(models_states[key], 'batch size with fixed learning rate, SGD and ASAM',\n",
    "                                 'model_fixed_lr_diff_bs_sgd_asam_state')"
   ]
  },
  {
   "cell_type": "markdown",
   "metadata": {
    "pycharm": {
     "name": "#%% md\n"
    }
   },
   "source": [
    "#### Sharpness"
   ]
  },
  {
   "cell_type": "code",
   "execution_count": 102,
   "metadata": {
    "pycharm": {
     "name": "#%%\n"
    }
   },
   "outputs": [
    {
     "name": "stderr",
     "output_type": "stream",
     "text": [
      "2022-02-24 19:01:15.963502: W tensorflow/core/grappler/optimizers/data/auto_shard.cc:547] The `assert_cardinality` transformation is currently not handled by the auto-shard rewrite and will be removed.\n"
     ]
    },
    {
     "name": "stdout",
     "output_type": "stream",
     "text": [
      "47/47 [==============================] - 1s 10ms/step - loss: 0.5798 - accuracy: 0.7921\n",
      "47/47 [==============================] - 1s 11ms/step - loss: 0.5798 - accuracy: 0.7921\n",
      "RUNNING THE L-BFGS-B CODE\n",
      "\n",
      "           * * *\n",
      "\n",
      "Machine precision = 2.220D-16\n",
      " N =        59786     M =           10\n",
      "\n",
      "At X0         0 variables are exactly at the bounds\n",
      "\n",
      "At iterate    0    f= -5.79830D-01    |proj g|=  1.27983D-02\n",
      "47/47 [==============================] - 1s 11ms/step - loss: 5.0367 - accuracy: 0.3887\n",
      "\n",
      "At iterate    1    f= -5.03668D+00    |proj g|=  2.55966D-02\n",
      "  ys=-2.131E+02  -gs= 5.122E+01 BFGS update SKIPPED\n",
      "47/47 [==============================] - 1s 11ms/step - loss: 31.0837 - accuracy: 0.2661\n",
      "\n",
      "At iterate    2    f= -3.10837D+01    |proj g|=  2.28635D-02\n",
      "  ys=-1.721E+03  -gs= 3.764E+02 BFGS update SKIPPED\n",
      "47/47 [==============================] - 1s 11ms/step - loss: 40.2201 - accuracy: 0.2505\n",
      "\n",
      "At iterate    3    f= -4.02201D+01    |proj g|=  2.27585D-02\n",
      "  ys=-1.814E+02  -gs= 3.308E+02 BFGS update SKIPPED\n",
      "47/47 [==============================] - 1s 11ms/step - loss: 41.3529 - accuracy: 0.2292\n",
      "\n",
      "At iterate    4    f= -4.13529D+01    |proj g|=  2.24714D-02\n",
      "  ys=-6.256E+01  -gs= 2.663E+01 BFGS update SKIPPED\n",
      "47/47 [==============================] - 1s 11ms/step - loss: 49.4964 - accuracy: 0.1959\n",
      "\n",
      "At iterate    5    f= -4.94964D+01    |proj g|=  2.16667D-02\n",
      "  ys=-2.622E+02  -gs= 1.930E+02 BFGS update SKIPPED\n",
      "47/47 [==============================] - 1s 11ms/step - loss: 49.7635 - accuracy: 0.1950\n",
      "\n",
      "At iterate    6    f= -4.97635D+01    |proj g|=  6.54923D-03\n",
      "  ys=-2.068E+00  -gs= 1.150E+01 BFGS update SKIPPED\n",
      "47/47 [==============================] - 1s 10ms/step - loss: 49.7635 - accuracy: 0.1950\n",
      "\n",
      "At iterate    7    f= -4.97635D+01    |proj g|=  5.14533D-03\n",
      "47/47 [==============================] - 1s 11ms/step - loss: 49.7635 - accuracy: 0.1950\n",
      "12/47 [======>.......................] - ETA: 0s - loss: 49.9014 - accuracy: 0.1927"
     ]
    },
    {
     "name": "stderr",
     "output_type": "stream",
     "text": [
      "\n",
      " Bad direction in the line search;\n",
      "   refresh the lbfgs memory and restart the iteration.\n"
     ]
    },
    {
     "name": "stdout",
     "output_type": "stream",
     "text": [
      "47/47 [==============================] - 1s 12ms/step - loss: 49.7635 - accuracy: 0.1950\n",
      "\n",
      "At iterate    8    f= -4.97635D+01    |proj g|=  4.19821D-03\n",
      "47/47 [==============================] - 1s 11ms/step - loss: 49.7635 - accuracy: 0.1950\n",
      "12/47 [======>.......................] - ETA: 0s - loss: 49.9014 - accuracy: 0.1927"
     ]
    },
    {
     "name": "stderr",
     "output_type": "stream",
     "text": [
      "\n",
      " Bad direction in the line search;\n",
      "   refresh the lbfgs memory and restart the iteration.\n"
     ]
    },
    {
     "name": "stdout",
     "output_type": "stream",
     "text": [
      "47/47 [==============================] - 1s 11ms/step - loss: 49.7635 - accuracy: 0.1950\n",
      "\n",
      "At iterate    9    f= -4.97635D+01    |proj g|=  3.16475D-03\n",
      "47/47 [==============================] - 1s 11ms/step - loss: 49.7635 - accuracy: 0.1950\n",
      "\n",
      "At iterate   10    f= -4.97635D+01    |proj g|=  3.16475D-03\n",
      "\n",
      "           * * *\n",
      "\n",
      "Tit   = total number of iterations\n",
      "Tnf   = total number of function evaluations\n",
      "Tnint = total number of segments explored during Cauchy searches\n",
      "Skip  = number of BFGS updates skipped\n",
      "Nact  = number of active bounds at final generalized Cauchy point\n",
      "Projg = norm of the final projected gradient\n",
      "F     = final function value\n",
      "\n",
      "           * * *\n",
      "\n",
      "   N    Tit     Tnf  Tnint  Skip  Nact     Projg        F\n",
      "59786     10     13  74021     6 55068   3.165D-03  -4.976D+01\n",
      "  F =  -49.763477325439453     \n",
      "\n",
      "STOP: TOTAL NO. of ITERATIONS REACHED LIMIT                 \n"
     ]
    },
    {
     "name": "stderr",
     "output_type": "stream",
     "text": [
      "2022-02-24 19:01:43.673177: W tensorflow/core/grappler/optimizers/data/auto_shard.cc:547] The `assert_cardinality` transformation is currently not handled by the auto-shard rewrite and will be removed.\n"
     ]
    },
    {
     "name": "stdout",
     "output_type": "stream",
     "text": [
      "47/47 [==============================] - 1s 10ms/step - loss: 0.6989 - accuracy: 0.7593\n",
      "47/47 [==============================] - 1s 13ms/step - loss: 0.6989 - accuracy: 0.7593\n",
      "RUNNING THE L-BFGS-B CODE\n",
      "\n",
      "           * * *\n",
      "\n",
      "Machine precision = 2.220D-16\n",
      " N =        59786     M =           10\n",
      "\n",
      "At X0         0 variables are exactly at the bounds\n",
      "\n",
      "At iterate    0    f= -6.98927D-01    |proj g|=  1.29323D-02\n",
      "47/47 [==============================] - 1s 11ms/step - loss: 7.2590 - accuracy: 0.3909\n",
      "\n",
      "At iterate    1    f= -7.25903D+00    |proj g|=  2.58646D-02\n",
      "  ys=-2.599E+02  -gs= 6.490E+01 BFGS update SKIPPED\n",
      "47/47 [==============================] - 1s 12ms/step - loss: 31.5397 - accuracy: 0.2934\n",
      "\n",
      "At iterate    2    f= -3.15397D+01    |proj g|=  2.27455D-02\n",
      "  ys=-1.328E+03  -gs= 4.909E+02 BFGS update SKIPPED\n",
      "47/47 [==============================] - 1s 11ms/step - loss: 41.7307 - accuracy: 0.2848\n",
      "\n",
      "At iterate    3    f= -4.17307D+01    |proj g|=  2.16625D-02\n",
      "  ys=-2.213E+02  -gs= 3.315E+02 BFGS update SKIPPED\n",
      "47/47 [==============================] - 1s 11ms/step - loss: 42.3474 - accuracy: 0.2835\n",
      "\n",
      "At iterate    4    f= -4.23474D+01    |proj g|=  2.01249D-02\n",
      "  ys=-4.998E+01  -gs= 9.396E+00 BFGS update SKIPPED\n",
      "47/47 [==============================] - 1s 11ms/step - loss: 42.3742 - accuracy: 0.2836\n",
      "\n",
      "At iterate    5    f= -4.23742D+01    |proj g|=  2.14938D-02\n",
      "  ys=-1.409E-01  -gs= 1.197E+00 BFGS update SKIPPED\n",
      "47/47 [==============================] - 1s 11ms/step - loss: 42.4049 - accuracy: 0.2835\n",
      "\n",
      "At iterate    6    f= -4.24049D+01    |proj g|=  2.14941D-02\n",
      "  ys=-2.991E+00  -gs= 1.728E-01 BFGS update SKIPPED\n",
      "47/47 [==============================] - 1s 11ms/step - loss: 42.5073 - accuracy: 0.2834\n",
      "\n",
      "At iterate    7    f= -4.25073D+01    |proj g|=  2.15415D-02\n",
      "  ys=-7.122E+00  -gs= 1.722E+00 BFGS update SKIPPED\n",
      "47/47 [==============================] - 1s 11ms/step - loss: 42.5680 - accuracy: 0.2833\n",
      "\n",
      "At iterate    8    f= -4.25680D+01    |proj g|=  8.34451D-03\n",
      "  ys=-8.880E-01  -gs= 2.398E+00 BFGS update SKIPPED\n",
      "47/47 [==============================] - 1s 11ms/step - loss: 42.5680 - accuracy: 0.2833\n",
      "\n",
      "           * * *\n",
      "\n",
      "Tit   = total number of iterations\n",
      "Tnf   = total number of function evaluations\n",
      "Tnint = total number of segments explored during Cauchy searches\n",
      "Skip  = number of BFGS updates skipped\n",
      "Nact  = number of active bounds at final generalized Cauchy point\n",
      "Projg = norm of the final projected gradient\n",
      "F     = final function value\n",
      "\n",
      "           * * *\n",
      "\n",
      "   N    Tit     Tnf  Tnint  Skip  Nact     Projg        F\n",
      "59786      9     10  72763     8 57035   8.345D-03  -4.257D+01\n",
      "  F =  -42.568046569824219     \n",
      "\n",
      "ABNORMAL_TERMINATION_IN_LNSRCH                              \n"
     ]
    },
    {
     "name": "stderr",
     "output_type": "stream",
     "text": [
      "\n",
      " Line search cannot locate an adequate point after MAXLS\n",
      "  function and gradient evaluations.\n",
      "  Previous x, f and g restored.\n",
      " Possible causes: 1 error in function or gradient evaluation;\n",
      "                  2 rounding error dominate computation.\n",
      "2022-02-24 19:02:05.138087: W tensorflow/core/grappler/optimizers/data/auto_shard.cc:547] The `assert_cardinality` transformation is currently not handled by the auto-shard rewrite and will be removed.\n"
     ]
    },
    {
     "name": "stdout",
     "output_type": "stream",
     "text": [
      "47/47 [==============================] - 1s 10ms/step - loss: 0.8958 - accuracy: 0.6676\n",
      "47/47 [==============================] - 1s 12ms/step - loss: 0.8958 - accuracy: 0.6676\n",
      "RUNNING THE L-BFGS-B CODE\n",
      "\n",
      "           * * *\n",
      "\n",
      "Machine precision = 2.220D-16\n",
      " N =        59786     M =           10\n",
      "\n",
      "At X0         0 variables are exactly at the bounds\n",
      "\n",
      "At iterate    0    f= -8.95821D-01    |proj g|=  1.30624D-02\n",
      "47/47 [==============================] - 1s 11ms/step - loss: 8.5385 - accuracy: 0.1706\n",
      "\n",
      "At iterate    1    f= -8.53852D+00    |proj g|=  2.61249D-02\n",
      "  ys=-2.926E+02  -gs= 1.017E+02 BFGS update SKIPPED\n",
      "47/47 [==============================] - 1s 11ms/step - loss: 28.6155 - accuracy: 0.1133\n",
      "\n",
      "At iterate    2    f= -2.86155D+01    |proj g|=  2.30982D-02\n",
      "  ys=-9.551E+02  -gs= 4.810E+02 BFGS update SKIPPED\n",
      "47/47 [==============================] - 1s 12ms/step - loss: 36.2116 - accuracy: 0.1010\n",
      "\n",
      "At iterate    3    f= -3.62116D+01    |proj g|=  2.16826D-02\n",
      "  ys=-2.484E+02  -gs= 2.512E+02 BFGS update SKIPPED\n",
      "47/47 [==============================] - 1s 12ms/step - loss: 38.2900 - accuracy: 0.1000\n",
      "\n",
      "At iterate    4    f= -3.82900D+01    |proj g|=  2.16052D-02\n",
      "  ys=-1.032E+02  -gs= 2.995E+01 BFGS update SKIPPED\n",
      "47/47 [==============================] - 1s 12ms/step - loss: 40.9212 - accuracy: 0.1000\n",
      "\n",
      "At iterate    5    f= -4.09212D+01    |proj g|=  2.13861D-02\n",
      "  ys=-3.712E+01  -gs= 1.067E+02 BFGS update SKIPPED\n",
      "47/47 [==============================] - 1s 11ms/step - loss: 41.0508 - accuracy: 0.1000\n",
      "\n",
      "At iterate    6    f= -4.10508D+01    |proj g|=  2.22474D-02\n",
      "  ys=-1.155E+00  -gs= 5.671E+00 BFGS update SKIPPED\n",
      "47/47 [==============================] - 1s 11ms/step - loss: 41.0552 - accuracy: 0.1000\n",
      "\n",
      "At iterate    7    f= -4.10552D+01    |proj g|=  2.60501D-03\n",
      "  ys=-9.164E-02  -gs= 1.647E-01 BFGS update SKIPPED\n",
      "47/47 [==============================] - 1s 11ms/step - loss: 41.0552 - accuracy: 0.1000\n"
     ]
    },
    {
     "name": "stderr",
     "output_type": "stream",
     "text": [
      "\n",
      " Line search cannot locate an adequate point after MAXLS\n",
      "  function and gradient evaluations.\n",
      "  Previous x, f and g restored.\n",
      " Possible causes: 1 error in function or gradient evaluation;\n",
      "                  2 rounding error dominate computation.\n",
      "2022-02-24 19:02:25.036928: W tensorflow/core/grappler/optimizers/data/auto_shard.cc:547] The `assert_cardinality` transformation is currently not handled by the auto-shard rewrite and will be removed.\n"
     ]
    },
    {
     "name": "stdout",
     "output_type": "stream",
     "text": [
      "\n",
      "           * * *\n",
      "\n",
      "Tit   = total number of iterations\n",
      "Tnf   = total number of function evaluations\n",
      "Tnint = total number of segments explored during Cauchy searches\n",
      "Skip  = number of BFGS updates skipped\n",
      "Nact  = number of active bounds at final generalized Cauchy point\n",
      "Projg = norm of the final projected gradient\n",
      "F     = final function value\n",
      "\n",
      "           * * *\n",
      "\n",
      "   N    Tit     Tnf  Tnint  Skip  Nact     Projg        F\n",
      "59786      8      9  76921     7 57550   2.605D-03  -4.106D+01\n",
      "  F =  -41.055191040039062     \n",
      "\n",
      "ABNORMAL_TERMINATION_IN_LNSRCH                              \n",
      "47/47 [==============================] - 2s 10ms/step - loss: 1.4611 - accuracy: 0.5659\n",
      "47/47 [==============================] - 1s 12ms/step - loss: 1.4611 - accuracy: 0.5659\n",
      "RUNNING THE L-BFGS-B CODE\n",
      "\n",
      "           * * *\n",
      "\n",
      "Machine precision = 2.220D-16\n",
      " N =        59786     M =           10\n",
      "\n",
      "At X0         0 variables are exactly at the bounds\n",
      "\n",
      "At iterate    0    f= -1.46106D+00    |proj g|=  1.21787D-02\n",
      "47/47 [==============================] - 1s 11ms/step - loss: 2.5522 - accuracy: 0.1534\n",
      "\n",
      "At iterate    1    f= -2.55222D+00    |proj g|=  2.43575D-02\n",
      "47/47 [==============================] - 1s 11ms/step - loss: 2.8744 - accuracy: 0.1360\n",
      "\n",
      "At iterate    2    f= -2.87441D+00    |proj g|=  2.24809D-02\n",
      "  ys=-6.577E+00  -gs= 1.189E+01 BFGS update SKIPPED\n",
      "47/47 [==============================] - 1s 11ms/step - loss: 3.7538 - accuracy: 0.1140\n",
      "\n",
      "At iterate    3    f= -3.75384D+00    |proj g|=  2.18051D-02\n",
      "  ys=-2.509E+01  -gs= 2.868E+01 BFGS update SKIPPED\n",
      "47/47 [==============================] - 1s 11ms/step - loss: 6.4679 - accuracy: 0.1023\n",
      "\n",
      "At iterate    4    f= -6.46785D+00    |proj g|=  2.32782D-02\n",
      "  ys=-6.830E+01  -gs= 9.065E+01 BFGS update SKIPPED\n",
      "47/47 [==============================] - 1s 11ms/step - loss: 10.4013 - accuracy: 0.1023\n",
      "\n",
      "At iterate    5    f= -1.04013D+01    |proj g|=  2.29744D-02\n",
      "  ys=-8.954E+01  -gs= 1.396E+02 BFGS update SKIPPED\n",
      "47/47 [==============================] - 1s 12ms/step - loss: 13.8624 - accuracy: 0.1240\n",
      "\n",
      "At iterate    6    f= -1.38624D+01    |proj g|=  2.29237D-02\n",
      "  ys=-6.670E+01  -gs= 1.282E+02 BFGS update SKIPPED\n",
      "47/47 [==============================] - 1s 11ms/step - loss: 16.8761 - accuracy: 0.1023\n",
      "\n",
      "At iterate    7    f= -1.68761D+01    |proj g|=  2.29919D-02\n",
      "  ys=-6.299E+01  -gs= 1.084E+02 BFGS update SKIPPED\n",
      "47/47 [==============================] - 1s 11ms/step - loss: 19.8483 - accuracy: 0.1002\n",
      "\n",
      "At iterate    8    f= -1.98483D+01    |proj g|=  2.17712D-02\n",
      "  ys=-6.638E+01  -gs= 1.067E+02 BFGS update SKIPPED\n",
      "47/47 [==============================] - 1s 11ms/step - loss: 22.5163 - accuracy: 0.1002\n",
      "\n",
      "At iterate    9    f= -2.25163D+01    |proj g|=  2.15959D-02\n",
      "  ys=-4.809E+01  -gs= 1.017E+02 BFGS update SKIPPED\n",
      "47/47 [==============================] - 1s 11ms/step - loss: 25.0364 - accuracy: 0.1002\n",
      "\n",
      "At iterate   10    f= -2.50364D+01    |proj g|=  2.24253D-02\n",
      "\n",
      "           * * *\n",
      "\n",
      "Tit   = total number of iterations\n",
      "Tnf   = total number of function evaluations\n",
      "Tnint = total number of segments explored during Cauchy searches\n",
      "Skip  = number of BFGS updates skipped\n",
      "Nact  = number of active bounds at final generalized Cauchy point\n",
      "Projg = norm of the final projected gradient\n",
      "F     = final function value\n",
      "\n",
      "           * * *\n",
      "\n",
      "   N    Tit     Tnf  Tnint  Skip  Nact     Projg        F\n",
      "59786     10     11  59896     8 30417   2.243D-02  -2.504D+01\n",
      "  F =  -25.036445617675781     \n",
      "\n",
      "STOP: TOTAL NO. of ITERATIONS REACHED LIMIT                 \n"
     ]
    },
    {
     "name": "stderr",
     "output_type": "stream",
     "text": [
      "2022-02-24 19:02:49.945386: W tensorflow/core/grappler/optimizers/data/auto_shard.cc:547] The `assert_cardinality` transformation is currently not handled by the auto-shard rewrite and will be removed.\n"
     ]
    },
    {
     "name": "stdout",
     "output_type": "stream",
     "text": [
      "47/47 [==============================] - 3s 12ms/step - loss: 2.1563 - accuracy: 0.3148\n",
      "47/47 [==============================] - 1s 12ms/step - loss: 2.1563 - accuracy: 0.3148\n",
      "RUNNING THE L-BFGS-B CODE\n",
      "\n",
      "           * * *\n",
      "\n",
      "Machine precision = 2.220D-16\n",
      " N =        59786     M =           10\n",
      "\n",
      "At X0         0 variables are exactly at the bounds\n",
      "\n",
      "At iterate    0    f= -2.15628D+00    |proj g|=  1.14698D-02\n",
      "47/47 [==============================] - 1s 11ms/step - loss: 2.3883 - accuracy: 0.0929\n",
      "\n",
      "At iterate    1    f= -2.38829D+00    |proj g|=  2.29397D-02\n",
      "47/47 [==============================] - 1s 11ms/step - loss: 2.5587 - accuracy: 0.0175\n",
      "\n",
      "At iterate    2    f= -2.55872D+00    |proj g|=  2.28413D-02\n",
      "47/47 [==============================] - 1s 10ms/step - loss: 2.5676 - accuracy: 0.0166\n",
      "\n",
      "At iterate    3    f= -2.56756D+00    |proj g|=  2.28348D-02\n",
      "  ys=-8.370E-03  -gs= 4.111E-01 BFGS update SKIPPED\n",
      "47/47 [==============================] - 1s 12ms/step - loss: 2.5759 - accuracy: 0.0159\n",
      "\n",
      "At iterate    4    f= -2.57594D+00    |proj g|=  2.28287D-02\n",
      "  ys=-6.197E-03  -gs= 3.908E-01 BFGS update SKIPPED\n",
      "47/47 [==============================] - 1s 11ms/step - loss: 2.5841 - accuracy: 0.0152\n",
      "\n",
      "At iterate    5    f= -2.58409D+00    |proj g|=  2.28200D-02\n",
      "  ys=-6.361E-03  -gs= 3.799E-01 BFGS update SKIPPED\n",
      "47/47 [==============================] - 1s 11ms/step - loss: 2.5922 - accuracy: 0.0149\n",
      "\n",
      "At iterate    6    f= -2.59222D+00    |proj g|=  2.28110D-02\n",
      "  ys=-5.839E-03  -gs= 3.796E-01 BFGS update SKIPPED\n",
      "47/47 [==============================] - 1s 12ms/step - loss: 2.6004 - accuracy: 0.0146\n",
      "\n",
      "At iterate    7    f= -2.60044D+00    |proj g|=  2.28013D-02\n",
      "  ys=-6.509E-03  -gs= 3.831E-01 BFGS update SKIPPED\n",
      "47/47 [==============================] - 1s 11ms/step - loss: 2.6084 - accuracy: 0.0141\n",
      "\n",
      "At iterate    8    f= -2.60843D+00    |proj g|=  2.27902D-02\n",
      "  ys=-6.135E-03  -gs= 3.723E-01 BFGS update SKIPPED\n",
      "47/47 [==============================] - 1s 12ms/step - loss: 2.6163 - accuracy: 0.0138\n",
      "\n",
      "At iterate    9    f= -2.61625D+00    |proj g|=  2.27765D-02\n",
      "  ys=-5.207E-03  -gs= 3.648E-01 BFGS update SKIPPED\n",
      "47/47 [==============================] - 1s 11ms/step - loss: 2.6239 - accuracy: 0.0136\n",
      "\n",
      "At iterate   10    f= -2.62393D+00    |proj g|=  2.27611D-02\n",
      "\n",
      "           * * *\n",
      "\n",
      "Tit   = total number of iterations\n",
      "Tnf   = total number of function evaluations\n",
      "Tnint = total number of segments explored during Cauchy searches\n",
      "Skip  = number of BFGS updates skipped\n",
      "Nact  = number of active bounds at final generalized Cauchy point\n",
      "Projg = norm of the final projected gradient\n",
      "F     = final function value\n",
      "\n",
      "           * * *\n",
      "\n",
      "   N    Tit     Tnf  Tnint  Skip  Nact     Projg        F\n",
      "59786     10     11  39714     7 22536   2.276D-02  -2.624D+00\n",
      "  F =  -2.6239314079284668     \n",
      "\n",
      "STOP: TOTAL NO. of ITERATIONS REACHED LIMIT                 \n"
     ]
    },
    {
     "name": "stderr",
     "output_type": "stream",
     "text": [
      "2022-02-24 19:03:15.883668: W tensorflow/core/grappler/optimizers/data/auto_shard.cc:547] The `assert_cardinality` transformation is currently not handled by the auto-shard rewrite and will be removed.\n"
     ]
    },
    {
     "name": "stdout",
     "output_type": "stream",
     "text": [
      "47/47 [==============================] - 2s 9ms/step - loss: 2.2386 - accuracy: 0.1200\n",
      "47/47 [==============================] - 1s 14ms/step - loss: 2.2386 - accuracy: 0.1200\n",
      "RUNNING THE L-BFGS-B CODE\n",
      "\n",
      "           * * *\n",
      "\n",
      "Machine precision = 2.220D-16\n",
      " N =        59786     M =           10\n",
      "\n",
      "At X0         0 variables are exactly at the bounds\n",
      "\n",
      "At iterate    0    f= -2.23858D+00    |proj g|=  1.14565D-02\n",
      "47/47 [==============================] - 1s 11ms/step - loss: 2.4860 - accuracy: 0.0015\n",
      "\n",
      "At iterate    1    f= -2.48599D+00    |proj g|=  2.29131D-02\n",
      "47/47 [==============================] - 1s 10ms/step - loss: 2.6569 - accuracy: 0.0011\n",
      "\n",
      "At iterate    2    f= -2.65694D+00    |proj g|=  2.28301D-02\n",
      "  ys=-1.583E+00  -gs= 6.988E+00 BFGS update SKIPPED\n",
      "47/47 [==============================] - 1s 11ms/step - loss: 3.0047 - accuracy: 5.6250e-04\n",
      "\n",
      "At iterate    3    f= -3.00473D+00    |proj g|=  2.27727D-02\n",
      "  ys=-7.454E+00  -gs= 1.292E+01 BFGS update SKIPPED\n",
      "47/47 [==============================] - 1s 11ms/step - loss: 3.7670 - accuracy: 3.5417e-04\n",
      "\n",
      "At iterate    4    f= -3.76700D+00    |proj g|=  2.24209D-02\n",
      "  ys=-2.004E+01  -gs= 2.654E+01 BFGS update SKIPPED\n",
      "47/47 [==============================] - 1s 11ms/step - loss: 5.8073 - accuracy: 0.0050\n",
      "\n",
      "At iterate    5    f= -5.80730D+00    |proj g|=  2.19659D-02\n",
      "  ys=-8.249E+01  -gs= 5.675E+01 BFGS update SKIPPED\n",
      "47/47 [==============================] - 1s 11ms/step - loss: 8.8138 - accuracy: 0.0993\n",
      "\n",
      "At iterate    6    f= -8.81376D+00    |proj g|=  2.16034D-02\n",
      "  ys=-8.465E+01  -gs= 9.828E+01 BFGS update SKIPPED\n",
      "47/47 [==============================] - 1s 11ms/step - loss: 11.8967 - accuracy: 0.0993\n",
      "\n",
      "At iterate    7    f= -1.18967D+01    |proj g|=  2.16415D-02\n",
      "  ys=-8.057E+01  -gs= 1.009E+02 BFGS update SKIPPED\n",
      "47/47 [==============================] - 1s 12ms/step - loss: 14.1760 - accuracy: 0.0993\n",
      "\n",
      "At iterate    8    f= -1.41760D+01    |proj g|=  2.07992D-02\n",
      "  ys=-4.527E+01  -gs= 8.409E+01 BFGS update SKIPPED\n",
      "47/47 [==============================] - 1s 11ms/step - loss: 15.3188 - accuracy: 0.0993\n",
      "\n",
      "At iterate    9    f= -1.53188D+01    |proj g|=  2.06187D-02\n",
      "  ys=-1.890E+01  -gs= 4.432E+01 BFGS update SKIPPED\n",
      "47/47 [==============================] - 1s 12ms/step - loss: 15.9452 - accuracy: 0.0993\n",
      "\n",
      "At iterate   10    f= -1.59452D+01    |proj g|=  2.02785D-02\n",
      "\n",
      "           * * *\n",
      "\n",
      "Tit   = total number of iterations\n",
      "Tnf   = total number of function evaluations\n",
      "Tnint = total number of segments explored during Cauchy searches\n",
      "Skip  = number of BFGS updates skipped\n",
      "Nact  = number of active bounds at final generalized Cauchy point\n",
      "Projg = norm of the final projected gradient\n",
      "F     = final function value\n",
      "\n",
      "           * * *\n",
      "\n",
      "   N    Tit     Tnf  Tnint  Skip  Nact     Projg        F\n",
      "59786     10     11  68110     8 40901   2.028D-02  -1.595D+01\n",
      "  F =  -15.945191383361816     \n",
      "\n",
      "STOP: TOTAL NO. of ITERATIONS REACHED LIMIT                 \n"
     ]
    }
   ],
   "source": [
    "if RETRAIN_FLAG:\n",
    "    for batch_size in batch_sizes:\n",
    "        model = models[key + (batch_size,)]\n",
    "\n",
    "        sharpness_bs = visualization.get_sharpness(model.base_model, train)\n",
    "        sharpnesses[key + (batch_size,)] = sharpness_bs\n",
    "\n",
    "        ml_utils.save_sharpnesses_dict(sharpnesses)\n",
    "\n",
    "if not RETRAIN_FLAG:\n",
    "    sharpnesses = ml_utils.load_sharpnesses_dict()"
   ]
  },
  {
   "cell_type": "code",
   "execution_count": 103,
   "metadata": {},
   "outputs": [
    {
     "ename": "TypeError",
     "evalue": "plot_sharpness() missing 1 required positional argument: 'key'",
     "output_type": "error",
     "traceback": [
      "\u001b[0;31m---------------------------------------------------------------------------\u001b[0m",
      "\u001b[0;31mTypeError\u001b[0m                                 Traceback (most recent call last)",
      "\u001b[0;32m/tmp/ipykernel_20073/4207559170.py\u001b[0m in \u001b[0;36m<module>\u001b[0;34m\u001b[0m\n\u001b[0;32m----> 1\u001b[0;31m \u001b[0mvisualization\u001b[0m\u001b[0;34m.\u001b[0m\u001b[0mplot_sharpness\u001b[0m\u001b[0;34m(\u001b[0m\u001b[0mbatch_sizes\u001b[0m\u001b[0;34m,\u001b[0m \u001b[0msharpnesses\u001b[0m\u001b[0;34m)\u001b[0m\u001b[0;34m\u001b[0m\u001b[0;34m\u001b[0m\u001b[0m\n\u001b[0m",
      "\u001b[0;31mTypeError\u001b[0m: plot_sharpness() missing 1 required positional argument: 'key'"
     ]
    }
   ],
   "source": [
    "visualization.plot_sharpness(batch_sizes, sharpnesses, key)"
   ]
  },
  {
   "cell_type": "markdown",
   "metadata": {},
   "source": [
    "#### Distance from initial weights"
   ]
  },
  {
   "cell_type": "code",
   "execution_count": null,
   "metadata": {},
   "outputs": [],
   "source": [
    "visualization.plot_distance_from_initial_weight(models, initial_weights, batch_sizes, key)"
   ]
  },
  {
   "cell_type": "markdown",
   "metadata": {},
   "source": [
    "#### Runtime"
   ]
  },
  {
   "cell_type": "code",
   "execution_count": null,
   "metadata": {},
   "outputs": [],
   "source": [
    "mean_times, convergence_epochs, overall_training_times = visualization.extract_times_for_batch_sizes(models_states,\n",
    "                                                                                                     batch_sizes, key)"
   ]
  },
  {
   "cell_type": "code",
   "execution_count": null,
   "metadata": {},
   "outputs": [],
   "source": [
    "visualization.plot_mean_time_per_epoch(batch_sizes, mean_times)"
   ]
  },
  {
   "cell_type": "code",
   "execution_count": null,
   "metadata": {},
   "outputs": [],
   "source": [
    "visualization.histogram_num_of_train_epochs_until_conv(batch_sizes, convergence_epochs)"
   ]
  },
  {
   "cell_type": "code",
   "execution_count": null,
   "metadata": {},
   "outputs": [],
   "source": [
    "visualization.histogram_overall_time_until_end_of_epochs(batch_sizes, overall_training_times)"
   ]
  },
  {
   "cell_type": "code",
   "execution_count": null,
   "metadata": {},
   "outputs": [],
   "source": [
    "visualization.plot_sharpness_times_runtime(batch_sizes, overall_training_times, sharpnesses, key)"
   ]
  },
  {
   "cell_type": "markdown",
   "metadata": {},
   "source": [
    "### ADAM + SAM"
   ]
  },
  {
   "cell_type": "code",
   "execution_count": null,
   "metadata": {},
   "outputs": [],
   "source": [
    "batch_sizes = [32, 64, 128, 256, 512, 1024]\n",
    "lr = 0.001\n",
    "training_epochs = EPOCHS\n",
    "\n",
    "key = ('fixed', 'adam', 'sam')"
   ]
  },
  {
   "cell_type": "code",
   "execution_count": null,
   "metadata": {},
   "outputs": [],
   "source": [
    "if not RETRAIN_FLAG:\n",
    "    for batch_size in batch_sizes:\n",
    "        # Read training data\n",
    "        train, validation = data_loading.load_batched_and_resized_dataset(dataset_name=dataset_name,\n",
    "                                                                          batch_size=batch_size,\n",
    "                                                                          img_size=32)\n",
    "        optimizer = keras.optimizers.Adam(learning_rate=lr)\n",
    "        model = build_and_load_sam_model_weights(train, optimizer, filename_bs_opt_sam(batch_size, \"ADAM\", \"SAM\"))\n",
    "        models[key + (batch_size,)] = model"
   ]
  },
  {
   "cell_type": "code",
   "execution_count": null,
   "metadata": {},
   "outputs": [],
   "source": [
    "if RETRAIN_FLAG:\n",
    "    models_states[key] = {}\n",
    "    for batch_size in batch_sizes:\n",
    "        with tf.distribute.MirroredStrategy().scope():\n",
    "            # Read training data\n",
    "            train, validation = data_loading.load_batched_and_resized_dataset(dataset_name=dataset_name,\n",
    "                                                                              batch_size=batch_size,\n",
    "                                                                              img_size=32)\n",
    "\n",
    "            optimizer = keras.optimizers.Adam(learning_rate=lr)\n",
    "            model = tf_models.build_simple_cnn_sam(train, optimizer)\n",
    "            train_callbacks = callback_for_filename(filename_bs_opt_sam(batch_size, \"ADAM\", \"SAM\"))\n",
    "\n",
    "            models_states[key][batch_size] = ml_utils.train_model(model, train, validation, epochs=training_epochs,\n",
    "                                                                  extra_callbacks=train_callbacks, verbose=1)\n",
    "            models[key + (batch_size,)] = model\n",
    "            initial_weights[key + (batch_size,)] = model.get_weights()"
   ]
  },
  {
   "cell_type": "code",
   "execution_count": null,
   "metadata": {},
   "outputs": [],
   "source": [
    "state_filename = 'model_fixed_lr_diff_bs_adam_sam_state'"
   ]
  },
  {
   "cell_type": "code",
   "execution_count": null,
   "metadata": {},
   "outputs": [],
   "source": [
    "if RETRAIN_FLAG:\n",
    "    ml_utils.save_model_state(models_states[key], state_filename)\n",
    "else:\n",
    "    models_states[key] = ml_utils.load_model_state(state_filename)"
   ]
  },
  {
   "cell_type": "code",
   "execution_count": null,
   "metadata": {},
   "outputs": [],
   "source": [
    "visualization.plot_loss_by_param(models_states[key], 'batch size with fixed learning rate, ADAM and SAM',\n",
    "                                 state_filename)"
   ]
  },
  {
   "cell_type": "markdown",
   "metadata": {},
   "source": [
    "#### Sharpness"
   ]
  },
  {
   "cell_type": "code",
   "execution_count": null,
   "metadata": {},
   "outputs": [],
   "source": [
    "if RETRAIN_FLAG:\n",
    "    for batch_size in batch_sizes:\n",
    "        model = models[key + (batch_size,)]\n",
    "\n",
    "        sharpness_bs = visualization.get_sharpness(model.base_model, train)\n",
    "        sharpnesses[key + (batch_size,)] = sharpness_bs\n",
    "\n",
    "        ml_utils.save_sharpnesses_dict(sharpnesses)\n",
    "\n",
    "if not RETRAIN_FLAG:\n",
    "    sharpnesses = ml_utils.load_sharpnesses_dict()"
   ]
  },
  {
   "cell_type": "code",
   "execution_count": null,
   "metadata": {
    "pycharm": {
     "name": "#%%\n"
    }
   },
   "outputs": [],
   "source": [
    "visualization.plot_sharpness(batch_sizes, sharpnesses, key)"
   ]
  },
  {
   "cell_type": "markdown",
   "metadata": {},
   "source": [
    "#### Distance from initial weights"
   ]
  },
  {
   "cell_type": "code",
   "execution_count": null,
   "metadata": {},
   "outputs": [],
   "source": [
    "visualization.plot_distance_from_initial_weight(models, initial_weights, batch_sizes, key)"
   ]
  },
  {
   "cell_type": "markdown",
   "metadata": {
    "pycharm": {
     "name": "#%% md\n"
    }
   },
   "source": [
    "#### Runtime"
   ]
  },
  {
   "cell_type": "code",
   "execution_count": null,
   "metadata": {},
   "outputs": [],
   "source": [
    "mean_times, convergence_epochs, overall_training_times = visualization.extract_times_for_batch_sizes(models_states,\n",
    "                                                                                                     batch_sizes, key)"
   ]
  },
  {
   "cell_type": "code",
   "execution_count": null,
   "metadata": {},
   "outputs": [],
   "source": [
    "visualization.plot_mean_time_per_epoch(batch_sizes, mean_times)"
   ]
  },
  {
   "cell_type": "code",
   "execution_count": null,
   "metadata": {},
   "outputs": [],
   "source": [
    "visualization.histogram_num_of_train_epochs_until_conv(batch_sizes, convergence_epochs)"
   ]
  },
  {
   "cell_type": "code",
   "execution_count": null,
   "metadata": {
    "pycharm": {
     "name": "#%%\n"
    }
   },
   "outputs": [],
   "source": [
    "visualization.histogram_overall_time_until_end_of_epochs(batch_sizes, overall_training_times)"
   ]
  },
  {
   "cell_type": "code",
   "execution_count": null,
   "metadata": {},
   "outputs": [],
   "source": [
    "visualization.plot_sharpness_times_runtime(batch_sizes, overall_training_times, sharpnesses, key)"
   ]
  },
  {
   "cell_type": "markdown",
   "metadata": {
    "pycharm": {
     "name": "#%% md\n"
    }
   },
   "source": [
    "### ADAM + ASAM"
   ]
  },
  {
   "cell_type": "code",
   "execution_count": null,
   "metadata": {},
   "outputs": [],
   "source": [
    "batch_sizes = [32, 64, 128, 256, 512, 1024]\n",
    "lr = 0.001\n",
    "training_epochs = EPOCHS\n",
    "\n",
    "key = ('fixed', 'adam', 'asam')"
   ]
  },
  {
   "cell_type": "code",
   "execution_count": null,
   "metadata": {},
   "outputs": [],
   "source": [
    "if not RETRAIN_FLAG:\n",
    "    for batch_size in batch_sizes:\n",
    "        # Read training data\n",
    "        train, validation = data_loading.load_batched_and_resized_dataset(dataset_name=dataset_name,\n",
    "                                                                          batch_size=batch_size,\n",
    "                                                                          img_size=32)\n",
    "        optimizer = keras.optimizers.Adam(learning_rate=lr)\n",
    "        model = build_and_load_sam_model_weights(train, optimizer, filename_bs_opt_sam(batch_size, \"ADAM\", \"ASAM\"))\n",
    "        models[key + (batch_size,)] = model"
   ]
  },
  {
   "cell_type": "code",
   "execution_count": null,
   "metadata": {},
   "outputs": [],
   "source": [
    "if RETRAIN_FLAG:\n",
    "    models_states[key] = {}\n",
    "    for batch_size in batch_sizes:\n",
    "        with tf.distribute.MirroredStrategy().scope():\n",
    "            # Read training data\n",
    "            train, validation = data_loading.load_batched_and_resized_dataset(dataset_name=dataset_name,\n",
    "                                                                              batch_size=batch_size,\n",
    "                                                                              img_size=32)\n",
    "\n",
    "            optimizer = keras.optimizers.Adam(learning_rate=lr)\n",
    "            model = tf_models.build_simple_cnn_sam(train, optimizer, adaptive=True, rho=2.0)\n",
    "            train_callbacks = callback_for_filename(filename_bs_opt_sam(batch_size, \"ADAM\", \"ASAM\"))\n",
    "\n",
    "            models_states[key][batch_size] = ml_utils.train_model(model, train, validation, epochs=training_epochs,\n",
    "                                                                  extra_callbacks=train_callbacks, verbose=1)\n",
    "            models[key + (batch_size,)] = model\n",
    "            initial_weights[key + (batch_size,)] = model.get_weights()"
   ]
  },
  {
   "cell_type": "code",
   "execution_count": null,
   "metadata": {},
   "outputs": [],
   "source": [
    "state_filename = 'model_fixed_lr_diff_bs_adam_asam_state'"
   ]
  },
  {
   "cell_type": "code",
   "execution_count": null,
   "metadata": {},
   "outputs": [],
   "source": [
    "if RETRAIN_FLAG:\n",
    "    ml_utils.save_model_state(models_states[key], state_filename)\n",
    "else:\n",
    "    models_states[key] = ml_utils.load_model_state(state_filename)"
   ]
  },
  {
   "cell_type": "code",
   "execution_count": null,
   "metadata": {
    "pycharm": {
     "name": "#%%\n"
    }
   },
   "outputs": [],
   "source": [
    "visualization.plot_loss_by_param(models_states[key], 'batch size with fixed learning rate, ADAM and ASAM',\n",
    "                                 state_filename)"
   ]
  },
  {
   "cell_type": "markdown",
   "metadata": {
    "pycharm": {
     "name": "#%% md\n"
    }
   },
   "source": [
    "#### Sharpness"
   ]
  },
  {
   "cell_type": "code",
   "execution_count": null,
   "metadata": {
    "pycharm": {
     "name": "#%%\n"
    }
   },
   "outputs": [],
   "source": [
    "if RETRAIN_FLAG:\n",
    "    for batch_size in batch_sizes:\n",
    "        model = models[key + (batch_size,)]\n",
    "\n",
    "        sharpness_bs = visualization.get_sharpness(model.base_model, train)\n",
    "        sharpnesses[key + (batch_size,)] = sharpness_bs\n",
    "\n",
    "        ml_utils.save_sharpnesses_dict(sharpnesses)\n",
    "\n",
    "if not RETRAIN_FLAG:\n",
    "    sharpnesses = ml_utils.load_sharpnesses_dict()\n"
   ]
  },
  {
   "cell_type": "code",
   "execution_count": null,
   "metadata": {},
   "outputs": [],
   "source": [
    "visualization.plot_sharpness(batch_sizes, sharpnesses, key)"
   ]
  },
  {
   "cell_type": "markdown",
   "metadata": {},
   "source": [
    "#### Distance from initial weights"
   ]
  },
  {
   "cell_type": "code",
   "execution_count": null,
   "metadata": {},
   "outputs": [],
   "source": [
    "visualization.plot_distance_from_initial_weight(models, initial_weights, batch_sizes, key)"
   ]
  },
  {
   "cell_type": "markdown",
   "metadata": {
    "pycharm": {
     "name": "#%% md\n"
    }
   },
   "source": [
    "#### Runtime"
   ]
  },
  {
   "cell_type": "code",
   "execution_count": null,
   "metadata": {},
   "outputs": [],
   "source": [
    "mean_times, convergence_epochs, overall_training_times = visualization.extract_times_for_batch_sizes(models_states,\n",
    "                                                                                                     batch_sizes, key)"
   ]
  },
  {
   "cell_type": "code",
   "execution_count": null,
   "metadata": {},
   "outputs": [],
   "source": [
    "visualization.plot_mean_time_per_epoch(batch_sizes, mean_times)"
   ]
  },
  {
   "cell_type": "code",
   "execution_count": null,
   "metadata": {
    "pycharm": {
     "name": "#%%\n"
    }
   },
   "outputs": [],
   "source": [
    "visualization.histogram_num_of_train_epochs_until_conv(batch_sizes, convergence_epochs)"
   ]
  },
  {
   "cell_type": "code",
   "execution_count": null,
   "metadata": {},
   "outputs": [],
   "source": [
    "visualization.histogram_overall_time_until_end_of_epochs(batch_sizes, overall_training_times)"
   ]
  },
  {
   "cell_type": "code",
   "execution_count": null,
   "metadata": {},
   "outputs": [],
   "source": [
    "visualization.plot_sharpness_times_runtime(batch_sizes, overall_training_times, sharpnesses, key)"
   ]
  },
  {
   "cell_type": "markdown",
   "metadata": {},
   "source": [
    "## without sharpness aware minimization"
   ]
  },
  {
   "cell_type": "markdown",
   "metadata": {
    "pycharm": {
     "name": "#%% md\n"
    }
   },
   "source": [
    "### SGD with Momentum"
   ]
  },
  {
   "cell_type": "code",
   "execution_count": null,
   "metadata": {},
   "outputs": [],
   "source": [
    "batch_sizes = [32, 64, 128, 256, 512, 1024]\n",
    "lr = 0.001\n",
    "training_epochs = EPOCHS\n",
    "\n",
    "key = ('fixed', 'sgd', 'none')"
   ]
  },
  {
   "cell_type": "code",
   "execution_count": null,
   "metadata": {},
   "outputs": [],
   "source": [
    "if not RETRAIN_FLAG:\n",
    "    for batch_size in batch_sizes:\n",
    "        # Read training data\n",
    "        train, validation = data_loading.load_batched_and_resized_dataset(dataset_name=dataset_name,\n",
    "                                                                          batch_size=batch_size,\n",
    "                                                                          img_size=32)\n",
    "        optimizer = keras.optimizers.SGD(learning_rate=lr, momentum=0.9)\n",
    "        model = build_and_load_model_weights(train, optimizer, filename_bs_opt_sam(batch_size, \"SGD-MOM\", \"NONE\"))\n",
    "        models[key + (batch_size,)] = model"
   ]
  },
  {
   "cell_type": "code",
   "execution_count": null,
   "metadata": {},
   "outputs": [],
   "source": [
    "if RETRAIN_FLAG:\n",
    "    models_states[key] = {}\n",
    "    for batch_size in batch_sizes:\n",
    "        with tf.distribute.MirroredStrategy().scope():\n",
    "            # Read training data\n",
    "            train, validation = data_loading.load_batched_and_resized_dataset(dataset_name=dataset_name,\n",
    "                                                                              batch_size=batch_size,\n",
    "                                                                              img_size=32)\n",
    "\n",
    "            optimizer = keras.optimizers.SGD(learning_rate=lr, momentum=0.9)\n",
    "            model = tf_models.build_and_compile_simple_cnn(train, optimizer)\n",
    "            train_callbacks = callback_for_filename(filename_bs_opt_sam(batch_size, \"SGD-MOM\", \"NONE\"))\n",
    "\n",
    "            models_states[key][batch_size] = ml_utils.train_model(model, train, validation, epochs=training_epochs,\n",
    "                                                                  extra_callbacks=train_callbacks, verbose=1)\n",
    "            models[key + (batch_size,)] = model\n",
    "            initial_weights[key + (batch_size,)] = model.get_weights()"
   ]
  },
  {
   "cell_type": "code",
   "execution_count": null,
   "metadata": {
    "pycharm": {
     "name": "#%%\n"
    }
   },
   "outputs": [],
   "source": [
    "state_filename = 'model_fixed_lr_diff_bs_noSAM_state'"
   ]
  },
  {
   "cell_type": "code",
   "execution_count": null,
   "metadata": {},
   "outputs": [],
   "source": [
    "if RETRAIN_FLAG:\n",
    "    ml_utils.save_model_state(models_states[key], state_filename)\n",
    "else:\n",
    "    models_states[key] = ml_utils.load_model_state(state_filename)"
   ]
  },
  {
   "cell_type": "code",
   "execution_count": null,
   "metadata": {},
   "outputs": [],
   "source": [
    "visualization.plot_loss_by_param(models_states[key], 'batch size with fixed learning rate without SAM',\n",
    "                                 'fixed_lr_diff_bs_SGD_noSAM')"
   ]
  },
  {
   "cell_type": "markdown",
   "metadata": {},
   "source": [
    "#### Sharpness"
   ]
  },
  {
   "cell_type": "code",
   "execution_count": null,
   "metadata": {},
   "outputs": [],
   "source": [
    "if RETRAIN_FLAG:\n",
    "    for batch_size in batch_sizes:\n",
    "        model = models[key + (batch_size,)]\n",
    "\n",
    "        sharpness_bs = visualization.get_sharpness(model, train)\n",
    "        sharpnesses[key + (batch_size,)] = sharpness_bs\n",
    "\n",
    "        ml_utils.save_sharpnesses_dict(sharpnesses)\n",
    "\n",
    "if not RETRAIN_FLAG:\n",
    "    sharpnesses = ml_utils.load_sharpnesses_dict()"
   ]
  },
  {
   "cell_type": "code",
   "execution_count": null,
   "metadata": {},
   "outputs": [],
   "source": [
    "visualization.plot_sharpness(batch_sizes, sharpnesses, key)"
   ]
  },
  {
   "cell_type": "markdown",
   "metadata": {},
   "source": [
    "#### Distance from initial weights"
   ]
  },
  {
   "cell_type": "code",
   "execution_count": null,
   "metadata": {},
   "outputs": [],
   "source": [
    "visualization.plot_distance_from_initial_weight(models, initial_weights, batch_sizes, key)"
   ]
  },
  {
   "cell_type": "markdown",
   "metadata": {
    "pycharm": {
     "name": "#%% md\n"
    }
   },
   "source": [
    "#### Runtime"
   ]
  },
  {
   "cell_type": "code",
   "execution_count": null,
   "metadata": {},
   "outputs": [],
   "source": [
    "mean_times, convergence_epochs, overall_training_times = visualization.extract_times_for_batch_sizes(models_states,\n",
    "                                                                                                     batch_sizes, key)"
   ]
  },
  {
   "cell_type": "code",
   "execution_count": null,
   "metadata": {
    "pycharm": {
     "name": "#%%\n"
    }
   },
   "outputs": [],
   "source": [
    "visualization.plot_mean_time_per_epoch(batch_sizes, mean_times)"
   ]
  },
  {
   "cell_type": "code",
   "execution_count": null,
   "metadata": {},
   "outputs": [],
   "source": [
    "visualization.histogram_num_of_train_epochs_until_conv(batch_sizes, convergence_epochs)"
   ]
  },
  {
   "cell_type": "code",
   "execution_count": null,
   "metadata": {},
   "outputs": [],
   "source": [
    "visualization.histogram_overall_time_until_end_of_epochs(batch_sizes, overall_training_times)"
   ]
  },
  {
   "cell_type": "code",
   "execution_count": null,
   "metadata": {},
   "outputs": [],
   "source": [
    "visualization.plot_sharpness_times_runtime(batch_sizes, overall_training_times, sharpnesses, key)"
   ]
  },
  {
   "cell_type": "markdown",
   "metadata": {
    "pycharm": {
     "name": "#%% md\n"
    }
   },
   "source": [
    "### ADAM"
   ]
  },
  {
   "cell_type": "code",
   "execution_count": null,
   "metadata": {},
   "outputs": [],
   "source": [
    "batch_sizes = [32, 64, 128, 256, 512, 1024]\n",
    "lr = 0.001\n",
    "training_epochs = EPOCHS\n",
    "\n",
    "key = ('fixed', 'adam', 'none')"
   ]
  },
  {
   "cell_type": "code",
   "execution_count": null,
   "metadata": {},
   "outputs": [],
   "source": [
    "if not RETRAIN_FLAG:\n",
    "    for batch_size in batch_sizes:\n",
    "        # Read training data\n",
    "        train, validation = data_loading.load_batched_and_resized_dataset(dataset_name=dataset_name,\n",
    "                                                                          batch_size=batch_size,\n",
    "                                                                          img_size=32)\n",
    "        optimizer = keras.optimizers.Adam(learning_rate=lr)\n",
    "        model = build_and_load_model_weights(train, optimizer, filename_bs_opt_sam(batch_size, \"ADAM\", \"NONE\"))\n",
    "        models[key + (batch_size,)] = model"
   ]
  },
  {
   "cell_type": "code",
   "execution_count": null,
   "metadata": {},
   "outputs": [],
   "source": [
    "if RETRAIN_FLAG:\n",
    "    models_states[key] = {}\n",
    "    for batch_size in batch_sizes:\n",
    "        with tf.distribute.MirroredStrategy().scope():\n",
    "            # Read training data\n",
    "            train, validation = data_loading.load_batched_and_resized_dataset(dataset_name=dataset_name,\n",
    "                                                                              batch_size=batch_size,\n",
    "                                                                              img_size=32)\n",
    "\n",
    "            optimizer = keras.optimizers.Adam(learning_rate=lr)\n",
    "            model = tf_models.build_and_compile_simple_cnn(train, optimizer)\n",
    "            train_callbacks = callback_for_filename(filename_bs_opt_sam(batch_size, \"ADAM\", \"NONE\"))\n",
    "\n",
    "            models_states[key][batch_size] = ml_utils.train_model(model, train, validation, epochs=training_epochs,\n",
    "                                                                  extra_callbacks=train_callbacks, verbose=1)\n",
    "            models[key + (batch_size,)] = model\n",
    "            initial_weights[key + (batch_size,)] = model.get_weights()"
   ]
  },
  {
   "cell_type": "code",
   "execution_count": null,
   "metadata": {
    "pycharm": {
     "name": "#%%\n"
    }
   },
   "outputs": [],
   "source": [
    "state_filename = 'model_fixed_lr_diff_bs_ADAM_noSAM_state'"
   ]
  },
  {
   "cell_type": "code",
   "execution_count": null,
   "metadata": {},
   "outputs": [],
   "source": [
    "if RETRAIN_FLAG:\n",
    "    ml_utils.save_model_state(models_states[key], state_filename)\n",
    "else:\n",
    "    models_states[key] = ml_utils.load_model_state(state_filename)"
   ]
  },
  {
   "cell_type": "code",
   "execution_count": null,
   "metadata": {
    "scrolled": true
   },
   "outputs": [],
   "source": [
    "visualization.plot_loss_by_param(models_states[key], 'batch size with fixed learning rate without SAM and ADAM',\n",
    "                                 'fixed_lr_diff_bs_ADAM_noSAM')"
   ]
  },
  {
   "cell_type": "markdown",
   "metadata": {},
   "source": [
    "#### Sharpness"
   ]
  },
  {
   "cell_type": "code",
   "execution_count": null,
   "metadata": {},
   "outputs": [],
   "source": [
    "if RETRAIN_FLAG:\n",
    "    for batch_size in batch_sizes:\n",
    "        model = models[key + (batch_size,)]\n",
    "\n",
    "        sharpness_bs = visualization.get_sharpness(model, train)\n",
    "        sharpnesses[key + (batch_size,)] = sharpness_bs\n",
    "\n",
    "        ml_utils.save_sharpnesses_dict(sharpnesses)\n",
    "\n",
    "if not RETRAIN_FLAG:\n",
    "    sharpnesses = ml_utils.load_sharpnesses_dict()"
   ]
  },
  {
   "cell_type": "code",
   "execution_count": null,
   "metadata": {},
   "outputs": [],
   "source": [
    "visualization.plot_sharpness(batch_sizes, sharpnesses, key)"
   ]
  },
  {
   "cell_type": "markdown",
   "metadata": {},
   "source": [
    "#### Distance from initial weights"
   ]
  },
  {
   "cell_type": "code",
   "execution_count": null,
   "metadata": {},
   "outputs": [],
   "source": [
    "visualization.plot_distance_from_initial_weight(models, initial_weights, batch_sizes, key)"
   ]
  },
  {
   "cell_type": "markdown",
   "metadata": {
    "pycharm": {
     "name": "#%% md\n"
    }
   },
   "source": [
    "#### Runtime"
   ]
  },
  {
   "cell_type": "code",
   "execution_count": null,
   "metadata": {},
   "outputs": [],
   "source": [
    "mean_times, convergence_epochs, overall_training_times = visualization.extract_times_for_batch_sizes(models_states,\n",
    "                                                                                                     batch_sizes, key)"
   ]
  },
  {
   "cell_type": "code",
   "execution_count": null,
   "metadata": {
    "pycharm": {
     "name": "#%%\n"
    }
   },
   "outputs": [],
   "source": [
    "visualization.plot_mean_time_per_epoch(batch_sizes, mean_times)"
   ]
  },
  {
   "cell_type": "code",
   "execution_count": null,
   "metadata": {
    "pycharm": {
     "name": "#%%\n"
    }
   },
   "outputs": [],
   "source": [
    "visualization.histogram_num_of_train_epochs_until_conv(batch_sizes, convergence_epochs)"
   ]
  },
  {
   "cell_type": "code",
   "execution_count": null,
   "metadata": {
    "pycharm": {
     "name": "#%%\n"
    }
   },
   "outputs": [],
   "source": [
    "visualization.histogram_overall_time_until_end_of_epochs(batch_sizes, overall_training_times)"
   ]
  },
  {
   "cell_type": "code",
   "execution_count": null,
   "metadata": {},
   "outputs": [],
   "source": [
    "visualization.plot_sharpness_times_runtime(batch_sizes, overall_training_times, sharpnesses, key)"
   ]
  },
  {
   "cell_type": "markdown",
   "metadata": {
    "pycharm": {
     "name": "#%% md\n"
    }
   },
   "source": [
    "# Different batch sizes with linear increasing learning rate"
   ]
  },
  {
   "cell_type": "markdown",
   "metadata": {
    "pycharm": {
     "name": "#%% md\n"
    }
   },
   "source": [
    "## with sharpness aware minimization"
   ]
  },
  {
   "cell_type": "markdown",
   "metadata": {
    "pycharm": {
     "name": "#%% md\n"
    }
   },
   "source": [
    "### SGD with Momentum + SAM"
   ]
  },
  {
   "cell_type": "code",
   "execution_count": null,
   "metadata": {},
   "outputs": [],
   "source": [
    "learning_rates = [0.001, 0.002, 0.004, 0.008, 0.016, 0.032]\n",
    "batch_sizes = [32, 64, 128, 256, 512, 1024]\n",
    "training_epochs = EPOCHS\n",
    "\n",
    "key = ('increasing', 'sgd', 'sam')"
   ]
  },
  {
   "cell_type": "code",
   "execution_count": null,
   "metadata": {},
   "outputs": [],
   "source": [
    "models_by_batch_size_diff_lr = {}\n",
    "model_history_dict_diff_lr = {}"
   ]
  },
  {
   "cell_type": "code",
   "execution_count": null,
   "metadata": {},
   "outputs": [],
   "source": [
    "diff_lr_state_filename = 'model_diff_lr_diff_bs_state'"
   ]
  },
  {
   "cell_type": "code",
   "execution_count": null,
   "metadata": {},
   "outputs": [],
   "source": [
    "if not RETRAIN_FLAG:\n",
    "    for batch_size, lr in zip(batch_sizes, learning_rates):\n",
    "        # Read training data\n",
    "        train, validation = data_loading.load_batched_and_resized_dataset(dataset_name=dataset_name,\n",
    "                                                                          batch_size=batch_size,\n",
    "                                                                          img_size=32)\n",
    "        optimizer = keras.optimizers.SGD(learning_rate=lr, momentum=0.9)\n",
    "        model = build_and_load_sam_model_weights(train, optimizer,\n",
    "                                                 filename_bs_lr_opt_sam(batch_size, lr, \"SGD-MOM\", \"SAM\"))\n",
    "        models_by_batch_size_diff_lr[batch_size] = model\n",
    "        models[key + (batch_size, lr)] = model"
   ]
  },
  {
   "cell_type": "code",
   "execution_count": null,
   "metadata": {
    "pycharm": {
     "name": "#%%\n"
    }
   },
   "outputs": [],
   "source": [
    "if RETRAIN_FLAG:\n",
    "    models_states[key] = {}\n",
    "    for batch_size, lr in zip(batch_sizes, learning_rates):\n",
    "        with tf.distribute.MirroredStrategy().scope():\n",
    "            # Read training data\n",
    "            train, validation = data_loading.load_batched_and_resized_dataset(dataset_name=dataset_name,\n",
    "                                                                              batch_size=batch_size,\n",
    "                                                                              img_size=32)\n",
    "\n",
    "            optimizer = keras.optimizers.SGD(learning_rate=lr, momentum=0.9)\n",
    "            model = tf_models.build_simple_cnn_sam(train, optimizer, adaptive=True, rho=2.0)\n",
    "            train_callbacks = callback_for_filename(filename_bs_lr_opt_sam(batch_size, lr, \"SGD-MOM\", \"SAM\"))\n",
    "\n",
    "            models_states[key][batch_size] = ml_utils.train_model(model, train, validation, epochs=training_epochs,\n",
    "                                                                  extra_callbacks=train_callbacks, verbose=1)\n",
    "            models[key + (batch_size, lr)] = model\n",
    "            initial_weights[key + (batch_size,)] = model.get_weights()"
   ]
  },
  {
   "cell_type": "code",
   "execution_count": null,
   "metadata": {},
   "outputs": [],
   "source": [
    "if RETRAIN_FLAG:\n",
    "    ml_utils.save_model_state(models_states[key], diff_lr_state_filename)\n",
    "else:\n",
    "    models_states[key] = ml_utils.load_model_state(diff_lr_state_filename)"
   ]
  },
  {
   "cell_type": "code",
   "execution_count": null,
   "metadata": {},
   "outputs": [],
   "source": [
    "visualization.plot_loss_by_param(models_states[key], 'batch size with increasing learning rate',\n",
    "                                 'diff_lr_diff_bs')"
   ]
  },
  {
   "cell_type": "markdown",
   "metadata": {
    "pycharm": {
     "name": "#%% md\n"
    }
   },
   "source": [
    "#### Sharpness"
   ]
  },
  {
   "cell_type": "code",
   "execution_count": null,
   "metadata": {},
   "outputs": [],
   "source": [
    "if RETRAIN_FLAG:\n",
    "    for batch_size, lr in zip(batch_sizes, learning_rates):\n",
    "        model = models[key + (batch_size, lr)]\n",
    "\n",
    "        sharpness = visualization.get_sharpness(model.base_model, train)\n",
    "        sharpnesses[key + (batch_size, lr)] = sharpness\n",
    "\n",
    "        ml_utils.save_sharpnesses_dict(sharpnesses)\n",
    "\n",
    "if not RETRAIN_FLAG:\n",
    "    sharpnesses = ml_utils.load_sharpnesses_dict()"
   ]
  },
  {
   "cell_type": "code",
   "execution_count": null,
   "metadata": {},
   "outputs": [],
   "source": [
    "visualization.plot_sharpness(batch_sizes, sharpnesses, key)"
   ]
  },
  {
   "cell_type": "markdown",
   "metadata": {},
   "source": [
    "#### Distance from initial weights"
   ]
  },
  {
   "cell_type": "code",
   "execution_count": null,
   "metadata": {},
   "outputs": [],
   "source": [
    "visualization.plot_distance_from_initial_weight(models, initial_weights, batch_sizes, key)"
   ]
  },
  {
   "cell_type": "markdown",
   "metadata": {},
   "source": [
    "#### Runtime"
   ]
  },
  {
   "cell_type": "code",
   "execution_count": null,
   "metadata": {
    "scrolled": true
   },
   "outputs": [],
   "source": [
    "mean_times, convergence_epochs, overall_training_times = visualization.extract_times_for_batch_sizes(models_states,\n",
    "                                                                                                     batch_sizes, key)"
   ]
  },
  {
   "cell_type": "code",
   "execution_count": null,
   "metadata": {
    "pycharm": {
     "name": "#%%\n"
    }
   },
   "outputs": [],
   "source": [
    "visualization.plot_mean_time_per_epoch(batch_sizes, mean_times)"
   ]
  },
  {
   "cell_type": "code",
   "execution_count": null,
   "metadata": {},
   "outputs": [],
   "source": [
    "visualization.histogram_num_of_train_epochs_until_conv(batch_sizes, convergence_epochs)"
   ]
  },
  {
   "cell_type": "code",
   "execution_count": null,
   "metadata": {},
   "outputs": [],
   "source": [
    "visualization.histogram_overall_time_until_end_of_epochs(batch_sizes, overall_training_times)"
   ]
  },
  {
   "cell_type": "code",
   "execution_count": null,
   "metadata": {},
   "outputs": [],
   "source": [
    "visualization.plot_sharpness_times_runtime(batch_sizes, overall_training_times, sharpnesses, key)"
   ]
  },
  {
   "cell_type": "markdown",
   "metadata": {
    "pycharm": {
     "name": "#%% md\n"
    }
   },
   "source": [
    "### SGD with Momentum + ASAM"
   ]
  },
  {
   "cell_type": "code",
   "execution_count": null,
   "metadata": {},
   "outputs": [],
   "source": [
    "learning_rates = [0.001, 0.002, 0.004, 0.008, 0.016, 0.032]\n",
    "batch_sizes = [32, 64, 128, 256, 512, 1024]\n",
    "training_epochs = EPOCHS\n",
    "\n",
    "key = ('increasing', 'sgd', 'asam')"
   ]
  },
  {
   "cell_type": "code",
   "execution_count": null,
   "metadata": {},
   "outputs": [],
   "source": [
    "state_filename = 'model_diff_lr_diff_bs_sgd_asam_state'"
   ]
  },
  {
   "cell_type": "code",
   "execution_count": null,
   "metadata": {},
   "outputs": [],
   "source": [
    "if not RETRAIN_FLAG:\n",
    "    for batch_size, lr in zip(batch_sizes, learning_rates):\n",
    "        # Read training data\n",
    "        train, validation = data_loading.load_batched_and_resized_dataset(dataset_name=dataset_name,\n",
    "                                                                          batch_size=batch_size,\n",
    "                                                                          img_size=32)\n",
    "        optimizer = keras.optimizers.SGD(learning_rate=lr, momentum=0.9)\n",
    "        model = build_and_load_sam_model_weights(train, optimizer,\n",
    "                                                 filename_bs_lr_opt_sam(batch_size, lr, \"SGD-MOM\", \"ASAM\"))\n",
    "        models_by_batch_size_diff_lr[batch_size] = model\n",
    "        models[key + (batch_size, lr)] = model"
   ]
  },
  {
   "cell_type": "code",
   "execution_count": null,
   "metadata": {
    "pycharm": {
     "name": "#%%\n"
    }
   },
   "outputs": [],
   "source": [
    "if RETRAIN_FLAG:\n",
    "    models_states[key] = {}\n",
    "    for batch_size, lr in zip(batch_sizes, learning_rates):\n",
    "        with tf.distribute.MirroredStrategy().scope():\n",
    "            # Read training data\n",
    "            train, validation = data_loading.load_batched_and_resized_dataset(dataset_name=dataset_name,\n",
    "                                                                              batch_size=batch_size,\n",
    "                                                                              img_size=32)\n",
    "\n",
    "            optimizer = keras.optimizers.SGD(learning_rate=lr, momentum=0.9)\n",
    "            model = tf_models.build_simple_cnn_sam(train, optimizer, adaptive=True, rho=2.0)\n",
    "            train_callbacks = callback_for_filename(filename_bs_lr_opt_sam(batch_size, lr, \"SGD-MOM\", \"ASAM\"))\n",
    "\n",
    "            models_states[key][batch_size] = ml_utils.train_model(model, train, validation, epochs=training_epochs,\n",
    "                                                                  extra_callbacks=train_callbacks, verbose=1)\n",
    "            models[key + (batch_size, lr)] = model\n",
    "            initial_weights[key + (batch_size,)] = model.get_weights()"
   ]
  },
  {
   "cell_type": "code",
   "execution_count": null,
   "metadata": {},
   "outputs": [],
   "source": [
    "if RETRAIN_FLAG:\n",
    "    ml_utils.save_model_state(models_states[key], state_filename)\n",
    "else:\n",
    "    models_states[key] = ml_utils.load_model_state(state_filename)"
   ]
  },
  {
   "cell_type": "code",
   "execution_count": null,
   "metadata": {},
   "outputs": [],
   "source": [
    "visualization.plot_loss_by_param(models_states[key], 'batch size with increasing learning rate with SGD and ASAM',\n",
    "                                 'diff_lr_diff_bs_SGD_ASAM')"
   ]
  },
  {
   "cell_type": "markdown",
   "metadata": {},
   "source": [
    "#### Sharpness"
   ]
  },
  {
   "cell_type": "code",
   "execution_count": null,
   "metadata": {},
   "outputs": [],
   "source": [
    "if RETRAIN_FLAG:\n",
    "    for batch_size, lr in zip(batch_sizes, learning_rates):\n",
    "        model = models[key + (batch_size, lr)]\n",
    "\n",
    "        sharpness = visualization.get_sharpness(model.base_model, train)\n",
    "        sharpnesses[key + (batch_size, lr)] = sharpness\n",
    "\n",
    "        ml_utils.save_sharpnesses_dict(sharpnesses)\n",
    "\n",
    "if not RETRAIN_FLAG:\n",
    "    sharpnesses = ml_utils.load_sharpnesses_dict()"
   ]
  },
  {
   "cell_type": "code",
   "execution_count": null,
   "metadata": {},
   "outputs": [],
   "source": [
    "visualization.plot_sharpness(batch_sizes, sharpnesses, key)"
   ]
  },
  {
   "cell_type": "markdown",
   "metadata": {},
   "source": [
    "#### Distance from initial weights"
   ]
  },
  {
   "cell_type": "code",
   "execution_count": null,
   "metadata": {},
   "outputs": [],
   "source": [
    "visualization.plot_distance_from_initial_weight(models, initial_weights, batch_sizes, key)"
   ]
  },
  {
   "cell_type": "markdown",
   "metadata": {
    "pycharm": {
     "name": "#%% md\n"
    }
   },
   "source": [
    "#### Runtime"
   ]
  },
  {
   "cell_type": "code",
   "execution_count": null,
   "metadata": {},
   "outputs": [],
   "source": [
    "mean_times, convergence_epochs, overall_training_times = visualization.extract_times_for_batch_sizes(models_states,\n",
    "                                                                                                     batch_sizes, key)"
   ]
  },
  {
   "cell_type": "code",
   "execution_count": null,
   "metadata": {
    "pycharm": {
     "name": "#%%\n"
    }
   },
   "outputs": [],
   "source": [
    "visualization.plot_mean_time_per_epoch(batch_sizes, mean_times)"
   ]
  },
  {
   "cell_type": "code",
   "execution_count": null,
   "metadata": {},
   "outputs": [],
   "source": [
    "visualization.histogram_num_of_train_epochs_until_conv(batch_sizes, convergence_epochs)"
   ]
  },
  {
   "cell_type": "code",
   "execution_count": null,
   "metadata": {},
   "outputs": [],
   "source": [
    "visualization.histogram_overall_time_until_end_of_epochs(batch_sizes, overall_training_times)"
   ]
  },
  {
   "cell_type": "code",
   "execution_count": null,
   "metadata": {},
   "outputs": [],
   "source": [
    "visualization.plot_sharpness_times_runtime(batch_sizes, overall_training_times, sharpnesses, key)"
   ]
  },
  {
   "cell_type": "markdown",
   "metadata": {
    "pycharm": {
     "name": "#%% md\n"
    }
   },
   "source": [
    "### ADAM + SAM"
   ]
  },
  {
   "cell_type": "code",
   "execution_count": null,
   "metadata": {
    "scrolled": true
   },
   "outputs": [],
   "source": [
    "learning_rates = [0.001, 0.002, 0.004, 0.008, 0.016, 0.032]\n",
    "batch_sizes = [32, 64, 128, 256, 512, 1024]\n",
    "training_epochs = EPOCHS\n",
    "\n",
    "key = ('increasing', 'adam', 'sam')"
   ]
  },
  {
   "cell_type": "code",
   "execution_count": null,
   "metadata": {},
   "outputs": [],
   "source": [
    "state_filename = 'model_diff_lr_diff_bs_adam_sam_state'"
   ]
  },
  {
   "cell_type": "code",
   "execution_count": null,
   "metadata": {},
   "outputs": [],
   "source": [
    "if not RETRAIN_FLAG:\n",
    "    for batch_size, lr in zip(batch_sizes, learning_rates):\n",
    "        # Read training data\n",
    "        train, validation = data_loading.load_batched_and_resized_dataset(dataset_name=dataset_name,\n",
    "                                                                          batch_size=batch_size,\n",
    "                                                                          img_size=32)\n",
    "        optimizer = keras.optimizers.Adam(learning_rate=lr)\n",
    "        model = build_and_load_sam_model_weights(train, optimizer,\n",
    "                                                 filename_bs_lr_opt_sam(batch_size, lr, \"ADAM\", \"SAM\"))\n",
    "        models_by_batch_size_diff_lr[batch_size] = model\n",
    "        models[key + (batch_size, lr)] = model"
   ]
  },
  {
   "cell_type": "code",
   "execution_count": null,
   "metadata": {
    "pycharm": {
     "name": "#%%\n"
    }
   },
   "outputs": [],
   "source": [
    "if RETRAIN_FLAG:\n",
    "    models_states[key] = {}\n",
    "    for batch_size, lr in zip(batch_sizes, learning_rates):\n",
    "        with tf.distribute.MirroredStrategy().scope():\n",
    "            # Read training data\n",
    "            train, validation = data_loading.load_batched_and_resized_dataset(dataset_name=dataset_name,\n",
    "                                                                              batch_size=batch_size,\n",
    "                                                                              img_size=32)\n",
    "\n",
    "            optimizer = keras.optimizers.Adam(learning_rate=lr)\n",
    "            model = tf_models.build_simple_cnn_sam(train, optimizer)\n",
    "            train_callbacks = callback_for_filename(filename_bs_lr_opt_sam(batch_size, lr, \"ADAM\", \"SAM\"))\n",
    "\n",
    "            models_states[key][batch_size] = ml_utils.train_model(model, train, validation, epochs=training_epochs,\n",
    "                                                                  extra_callbacks=train_callbacks, verbose=1)\n",
    "            models[key + (batch_size, lr)] = model\n",
    "            initial_weights[key + (batch_size,)] = model.get_weights()"
   ]
  },
  {
   "cell_type": "code",
   "execution_count": null,
   "metadata": {},
   "outputs": [],
   "source": [
    "if RETRAIN_FLAG:\n",
    "    ml_utils.save_model_state(models_states[key], state_filename)\n",
    "else:\n",
    "    models_states[key] = ml_utils.load_model_state(state_filename)"
   ]
  },
  {
   "cell_type": "code",
   "execution_count": null,
   "metadata": {},
   "outputs": [],
   "source": [
    "visualization.plot_loss_by_param(models_states[key], 'batch size with increasing learning rate with ADAM and SAM',\n",
    "                                 'diff_lr_diff_bs_ADAM_SAM')"
   ]
  },
  {
   "cell_type": "markdown",
   "metadata": {},
   "source": [
    "#### Sharpness"
   ]
  },
  {
   "cell_type": "code",
   "execution_count": null,
   "metadata": {},
   "outputs": [],
   "source": [
    "if RETRAIN_FLAG:\n",
    "    for batch_size, lr in zip(batch_sizes, learning_rates):\n",
    "        model = models[key + (batch_size, lr)]\n",
    "\n",
    "        sharpness = visualization.get_sharpness(model.base_model, train)\n",
    "        sharpnesses[key + (batch_size, lr)] = sharpness\n",
    "\n",
    "        ml_utils.save_sharpnesses_dict(sharpnesses)\n",
    "\n",
    "if not RETRAIN_FLAG:\n",
    "    sharpnesses = ml_utils.load_sharpnesses_dict()"
   ]
  },
  {
   "cell_type": "code",
   "execution_count": null,
   "metadata": {},
   "outputs": [],
   "source": [
    "visualization.plot_sharpness(batch_sizes, sharpnesses, key)"
   ]
  },
  {
   "cell_type": "markdown",
   "metadata": {},
   "source": [
    "#### Distance from initial weights"
   ]
  },
  {
   "cell_type": "code",
   "execution_count": null,
   "metadata": {},
   "outputs": [],
   "source": [
    "visualization.plot_distance_from_initial_weight(models, initial_weights, batch_sizes, key)"
   ]
  },
  {
   "cell_type": "markdown",
   "metadata": {
    "pycharm": {
     "name": "#%% md\n"
    }
   },
   "source": [
    "#### Runtime"
   ]
  },
  {
   "cell_type": "code",
   "execution_count": null,
   "metadata": {},
   "outputs": [],
   "source": [
    "mean_times, convergence_epochs, overall_training_times = visualization.extract_times_for_batch_sizes(models_states,\n",
    "                                                                                                     batch_sizes, key)"
   ]
  },
  {
   "cell_type": "code",
   "execution_count": null,
   "metadata": {
    "pycharm": {
     "name": "#%%\n"
    }
   },
   "outputs": [],
   "source": [
    "visualization.plot_mean_time_per_epoch(batch_sizes, mean_times)"
   ]
  },
  {
   "cell_type": "code",
   "execution_count": null,
   "metadata": {},
   "outputs": [],
   "source": [
    "visualization.histogram_num_of_train_epochs_until_conv(batch_sizes, convergence_epochs)"
   ]
  },
  {
   "cell_type": "code",
   "execution_count": null,
   "metadata": {},
   "outputs": [],
   "source": [
    "visualization.histogram_overall_time_until_end_of_epochs(batch_sizes, overall_training_times)"
   ]
  },
  {
   "cell_type": "code",
   "execution_count": null,
   "metadata": {},
   "outputs": [],
   "source": [
    "visualization.plot_sharpness_times_runtime(batch_sizes, overall_training_times, sharpnesses, key)"
   ]
  },
  {
   "cell_type": "markdown",
   "metadata": {
    "pycharm": {
     "name": "#%% md\n"
    }
   },
   "source": [
    "## ADAM + ASAM"
   ]
  },
  {
   "cell_type": "code",
   "execution_count": null,
   "metadata": {},
   "outputs": [],
   "source": [
    "learning_rates = [0.001, 0.002, 0.004, 0.008, 0.016, 0.032]\n",
    "batch_sizes = [32, 64, 128, 256, 512, 1024]\n",
    "training_epochs = EPOCHS\n",
    "\n",
    "key = ('increasing', 'adam', 'asam')"
   ]
  },
  {
   "cell_type": "code",
   "execution_count": null,
   "metadata": {},
   "outputs": [],
   "source": [
    "state_filename = 'model_diff_lr_diff_bs_adam_asam_state'"
   ]
  },
  {
   "cell_type": "code",
   "execution_count": null,
   "metadata": {},
   "outputs": [],
   "source": [
    "if not RETRAIN_FLAG:\n",
    "    for batch_size, lr in zip(batch_sizes, learning_rates):\n",
    "        # Read training data\n",
    "        train, validation = data_loading.load_batched_and_resized_dataset(dataset_name=dataset_name,\n",
    "                                                                          batch_size=batch_size,\n",
    "                                                                          img_size=32)\n",
    "        optimizer = keras.optimizers.Adam(learning_rate=lr)\n",
    "        model = build_and_load_sam_model_weights(train, optimizer,\n",
    "                                                 filename_bs_lr_opt_sam(batch_size, lr, \"ADAM\", \"ASAM\"))\n",
    "        models_by_batch_size_diff_lr[batch_size] = model\n",
    "        models[key + (batch_size, lr)] = model"
   ]
  },
  {
   "cell_type": "code",
   "execution_count": null,
   "metadata": {
    "pycharm": {
     "name": "#%%\n"
    }
   },
   "outputs": [],
   "source": [
    "if RETRAIN_FLAG:\n",
    "    models_states[key] = {}\n",
    "    for batch_size, lr in zip(batch_sizes, learning_rates):\n",
    "        with tf.distribute.MirroredStrategy().scope():\n",
    "            # Read training data\n",
    "            train, validation = data_loading.load_batched_and_resized_dataset(dataset_name=dataset_name,\n",
    "                                                                              batch_size=batch_size,\n",
    "                                                                              img_size=32)\n",
    "\n",
    "            optimizer = keras.optimizers.Adam(learning_rate=lr)\n",
    "            model = tf_models.build_simple_cnn_sam(train, optimizer)\n",
    "            train_callbacks = callback_for_filename(filename_bs_lr_opt_sam(batch_size, lr, \"ADAM\", \"ASAM\"))\n",
    "\n",
    "            models_states[key][batch_size] = ml_utils.train_model(model, train, validation, epochs=training_epochs,\n",
    "                                                                  extra_callbacks=train_callbacks, verbose=1)\n",
    "            models[key + (batch_size, lr)] = model\n",
    "            initial_weights[key + (batch_size,)] = model.get_weights()"
   ]
  },
  {
   "cell_type": "code",
   "execution_count": null,
   "metadata": {},
   "outputs": [],
   "source": [
    "if RETRAIN_FLAG:\n",
    "    ml_utils.save_model_state(models_states[key], state_filename)\n",
    "else:\n",
    "    models_states[key] = ml_utils.load_model_state(state_filename)"
   ]
  },
  {
   "cell_type": "code",
   "execution_count": null,
   "metadata": {},
   "outputs": [],
   "source": [
    "visualization.plot_loss_by_param(models_states[key], 'batch size with increasing learning rate with ADAM and ASAM',\n",
    "                                 'diff_lr_diff_bs_ADAM_ASAM')"
   ]
  },
  {
   "cell_type": "markdown",
   "metadata": {},
   "source": [
    "#### Sharpness"
   ]
  },
  {
   "cell_type": "code",
   "execution_count": null,
   "metadata": {},
   "outputs": [],
   "source": [
    "if RETRAIN_FLAG:\n",
    "    for batch_size, lr in zip(batch_sizes, learning_rates):\n",
    "        model = models[key + (batch_size, lr)]\n",
    "\n",
    "        sharpness = visualization.get_sharpness(model.base_model, train)\n",
    "        sharpnesses[key + (batch_size, lr)] = sharpness\n",
    "\n",
    "        ml_utils.save_sharpnesses_dict(sharpnesses)\n",
    "\n",
    "if not RETRAIN_FLAG:\n",
    "    sharpnesses = ml_utils.load_sharpnesses_dict()"
   ]
  },
  {
   "cell_type": "code",
   "execution_count": null,
   "metadata": {},
   "outputs": [],
   "source": [
    "visualization.plot_sharpness(batch_sizes, sharpnesses, key)"
   ]
  },
  {
   "cell_type": "markdown",
   "metadata": {},
   "source": [
    "#### Distance from initial weights"
   ]
  },
  {
   "cell_type": "code",
   "execution_count": null,
   "metadata": {},
   "outputs": [],
   "source": [
    "visualization.plot_distance_from_initial_weight(models, initial_weights, batch_sizes, key)"
   ]
  },
  {
   "cell_type": "markdown",
   "metadata": {
    "pycharm": {
     "name": "#%% md\n"
    }
   },
   "source": [
    "#### Runtime"
   ]
  },
  {
   "cell_type": "code",
   "execution_count": null,
   "metadata": {
    "scrolled": true
   },
   "outputs": [],
   "source": [
    "mean_times, convergence_epochs, overall_training_times = visualization.extract_times_for_batch_sizes(models_states,\n",
    "                                                                                                     batch_sizes, key)"
   ]
  },
  {
   "cell_type": "code",
   "execution_count": null,
   "metadata": {
    "pycharm": {
     "name": "#%%\n"
    }
   },
   "outputs": [],
   "source": [
    "visualization.plot_mean_time_per_epoch(batch_sizes, mean_times)"
   ]
  },
  {
   "cell_type": "code",
   "execution_count": null,
   "metadata": {
    "pycharm": {
     "name": "#%%\n"
    }
   },
   "outputs": [],
   "source": [
    "visualization.histogram_num_of_train_epochs_until_conv(batch_sizes, convergence_epochs)"
   ]
  },
  {
   "cell_type": "code",
   "execution_count": null,
   "metadata": {},
   "outputs": [],
   "source": [
    "visualization.histogram_overall_time_until_end_of_epochs(batch_sizes, overall_training_times)"
   ]
  },
  {
   "cell_type": "code",
   "execution_count": null,
   "metadata": {},
   "outputs": [],
   "source": [
    "visualization.plot_sharpness_times_runtime(batch_sizes, overall_training_times, sharpnesses, key)"
   ]
  },
  {
   "cell_type": "markdown",
   "metadata": {
    "pycharm": {
     "name": "#%% md\n"
    }
   },
   "source": [
    "## without sharpness aware minimization"
   ]
  },
  {
   "cell_type": "markdown",
   "metadata": {
    "pycharm": {
     "name": "#%% md\n"
    }
   },
   "source": [
    "### SGD with Momentum"
   ]
  },
  {
   "cell_type": "code",
   "execution_count": null,
   "metadata": {
    "scrolled": true
   },
   "outputs": [],
   "source": [
    "learning_rates = [0.001, 0.002, 0.004, 0.008, 0.016, 0.032]\n",
    "batch_sizes = [32, 64, 128, 256, 512, 1024]\n",
    "training_epochs = EPOCHS\n",
    "\n",
    "key = ('increasing', 'SGD', 'none')"
   ]
  },
  {
   "cell_type": "code",
   "execution_count": null,
   "metadata": {},
   "outputs": [],
   "source": [
    "state_filename = 'model_diff_lr_diff_bs_sgd_state'"
   ]
  },
  {
   "cell_type": "code",
   "execution_count": null,
   "metadata": {
    "pycharm": {
     "name": "#%%\n"
    }
   },
   "outputs": [],
   "source": [
    "if not RETRAIN_FLAG:\n",
    "    for batch_size, lr in zip(batch_sizes, learning_rates):\n",
    "        # Read training data\n",
    "        train, validation = data_loading.load_batched_and_resized_dataset(dataset_name=dataset_name,\n",
    "                                                                          batch_size=batch_size,\n",
    "                                                                          img_size=32)\n",
    "        optimizer = keras.optimizers.SGD(learning_rate=lr, momentum=0.9)\n",
    "        model = build_and_load_model_weights(train, optimizer,\n",
    "                                             filename_bs_lr_opt_sam(batch_size, lr, \"SGD\", \"NONE\"))\n",
    "        models[key + (batch_size, lr)] = model"
   ]
  },
  {
   "cell_type": "code",
   "execution_count": null,
   "metadata": {},
   "outputs": [],
   "source": [
    "if RETRAIN_FLAG:\n",
    "    models_states[key] = {}\n",
    "    for batch_size, lr in zip(batch_sizes, learning_rates):\n",
    "        with tf.distribute.MirroredStrategy().scope():\n",
    "            # Read training data\n",
    "            train, validation = data_loading.load_batched_and_resized_dataset(dataset_name=dataset_name,\n",
    "                                                                              batch_size=batch_size,\n",
    "                                                                              img_size=32)\n",
    "\n",
    "            optimizer = keras.optimizers.SGD(learning_rate=lr, momentum=0.9)\n",
    "            model = tf_models.build_and_compile_simple_cnn(train, optimizer)\n",
    "            train_callbacks = callback_for_filename(filename_bs_lr_opt_sam(batch_size, lr, \"SGD\", \"NONE\"))\n",
    "\n",
    "            models_states[key][batch_size] = ml_utils.train_model(model, train, validation, epochs=training_epochs,\n",
    "                                                                  extra_callbacks=train_callbacks, verbose=1)\n",
    "            models[key + (batch_size, lr)] = model\n",
    "            initial_weights[key + (batch_size,)] = model.get_weights()"
   ]
  },
  {
   "cell_type": "code",
   "execution_count": null,
   "metadata": {},
   "outputs": [],
   "source": [
    "visualization.plot_loss_by_param(models_states[key], 'batch size with increasing learning rate with SGD',\n",
    "                                 'diff_lr_diff_bs_SGD_NONE')"
   ]
  },
  {
   "cell_type": "markdown",
   "metadata": {},
   "source": [
    "#### Sharpness"
   ]
  },
  {
   "cell_type": "code",
   "execution_count": null,
   "metadata": {},
   "outputs": [],
   "source": [
    "if RETRAIN_FLAG:\n",
    "    for batch_size, lr in zip(batch_sizes, learning_rates):\n",
    "        model = models[key + (batch_size, lr)]\n",
    "\n",
    "        sharpness = visualization.get_sharpness(model, train)\n",
    "        sharpnesses[key + (batch_size, lr)] = sharpness\n",
    "\n",
    "        ml_utils.save_sharpnesses_dict(sharpnesses)\n",
    "\n",
    "if not RETRAIN_FLAG:\n",
    "    sharpnesses = ml_utils.load_sharpnesses_dict()"
   ]
  },
  {
   "cell_type": "code",
   "execution_count": null,
   "metadata": {},
   "outputs": [],
   "source": [
    "visualization.plot_sharpness(batch_sizes, sharpnesses, key)"
   ]
  },
  {
   "cell_type": "markdown",
   "metadata": {},
   "source": [
    "#### Distance from initial weights"
   ]
  },
  {
   "cell_type": "code",
   "execution_count": null,
   "metadata": {},
   "outputs": [],
   "source": [
    "visualization.plot_distance_from_initial_weight(models, initial_weights, batch_sizes, key)"
   ]
  },
  {
   "cell_type": "markdown",
   "metadata": {
    "pycharm": {
     "name": "#%% md\n"
    }
   },
   "source": [
    "#### Runtime"
   ]
  },
  {
   "cell_type": "code",
   "execution_count": null,
   "metadata": {},
   "outputs": [],
   "source": [
    "mean_times, convergence_epochs, overall_training_times = visualization.extract_times_for_batch_sizes(models_states,\n",
    "                                                                                                     batch_sizes, key)"
   ]
  },
  {
   "cell_type": "code",
   "execution_count": null,
   "metadata": {
    "pycharm": {
     "name": "#%%\n"
    }
   },
   "outputs": [],
   "source": [
    "visualization.plot_mean_time_per_epoch(batch_sizes, mean_times)"
   ]
  },
  {
   "cell_type": "code",
   "execution_count": null,
   "metadata": {},
   "outputs": [],
   "source": [
    "visualization.histogram_num_of_train_epochs_until_conv(batch_sizes, convergence_epochs)"
   ]
  },
  {
   "cell_type": "code",
   "execution_count": null,
   "metadata": {},
   "outputs": [],
   "source": [
    "visualization.histogram_overall_time_until_end_of_epochs(batch_sizes, overall_training_times)"
   ]
  },
  {
   "cell_type": "code",
   "execution_count": null,
   "metadata": {},
   "outputs": [],
   "source": [
    "visualization.plot_sharpness_times_runtime(batch_sizes, overall_training_times, sharpnesses, key)"
   ]
  },
  {
   "cell_type": "markdown",
   "metadata": {
    "pycharm": {
     "name": "#%% md\n"
    }
   },
   "source": [
    "### ADAM"
   ]
  },
  {
   "cell_type": "code",
   "execution_count": null,
   "metadata": {},
   "outputs": [],
   "source": [
    "learning_rates = [0.001, 0.002, 0.004, 0.008, 0.016, 0.032]\n",
    "batch_sizes = [32, 64, 128, 256, 512, 1024]\n",
    "training_epochs = EPOCHS\n",
    "\n",
    "key = ('increasing', 'adam', 'none')"
   ]
  },
  {
   "cell_type": "code",
   "execution_count": null,
   "metadata": {},
   "outputs": [],
   "source": [
    "state_filename = 'model_diff_lr_diff_bs_adam_state'"
   ]
  },
  {
   "cell_type": "code",
   "execution_count": null,
   "metadata": {
    "pycharm": {
     "name": "#%%\n"
    }
   },
   "outputs": [],
   "source": [
    "if not RETRAIN_FLAG:\n",
    "    for batch_size, lr in zip(batch_sizes, learning_rates):\n",
    "        # Read training data\n",
    "        train, validation = data_loading.load_batched_and_resized_dataset(dataset_name=dataset_name,\n",
    "                                                                          batch_size=batch_size,\n",
    "                                                                          img_size=32)\n",
    "        optimizer = keras.optimizers.Adam(learning_rate=lr)\n",
    "        model = build_and_load_model_weights(train, optimizer,\n",
    "                                             filename_bs_lr_opt_sam(batch_size, lr, \"ADAM\", \"NONE\"))\n",
    "        models[key + (batch_size, lr)] = model"
   ]
  },
  {
   "cell_type": "code",
   "execution_count": null,
   "metadata": {},
   "outputs": [],
   "source": [
    "if RETRAIN_FLAG:\n",
    "    models_states[key] = {}\n",
    "    for batch_size, lr in zip(batch_sizes, learning_rates):\n",
    "        with tf.distribute.MirroredStrategy().scope():\n",
    "            # Read training data\n",
    "            train, validation = data_loading.load_batched_and_resized_dataset(dataset_name=dataset_name,\n",
    "                                                                              batch_size=batch_size,\n",
    "                                                                              img_size=32)\n",
    "\n",
    "            optimizer = keras.optimizers.Adam(learning_rate=lr)\n",
    "            model = tf_models.build_and_compile_simple_cnn(train, optimizer)\n",
    "            train_callbacks = callback_for_filename(filename_bs_lr_opt_sam(batch_size, lr, \"ADAM\", \"NONE\"))\n",
    "\n",
    "            models_states[key][batch_size] = ml_utils.train_model(model, train, validation, epochs=training_epochs,\n",
    "                                                                  extra_callbacks=train_callbacks, verbose=1)\n",
    "            models[key + (batch_size, lr)] = model\n",
    "            initial_weights[key + (batch_size,)] = model.get_weights()"
   ]
  },
  {
   "cell_type": "code",
   "execution_count": null,
   "metadata": {},
   "outputs": [],
   "source": [
    "visualization.plot_loss_by_param(models_states[key], 'batch size with increasing learning rate with ADAM',\n",
    "                                 'diff_lr_diff_bs_ADAM_NONE')"
   ]
  },
  {
   "cell_type": "markdown",
   "metadata": {},
   "source": [
    "#### Sharpness"
   ]
  },
  {
   "cell_type": "code",
   "execution_count": null,
   "metadata": {
    "pycharm": {
     "name": "#%%\n"
    }
   },
   "outputs": [],
   "source": [
    "if RETRAIN_FLAG:\n",
    "    for batch_size, lr in zip(batch_sizes, learning_rates):\n",
    "        model = models[key + (batch_size, lr)]\n",
    "\n",
    "        sharpness = visualization.get_sharpness(model, train)\n",
    "        sharpnesses[key + (batch_size, lr)] = sharpness\n",
    "\n",
    "        ml_utils.save_sharpnesses_dict(sharpnesses)\n",
    "\n",
    "if not RETRAIN_FLAG:\n",
    "    sharpnesses = ml_utils.load_sharpnesses_dict()"
   ]
  },
  {
   "cell_type": "code",
   "execution_count": null,
   "metadata": {
    "pycharm": {
     "name": "#%%\n"
    }
   },
   "outputs": [],
   "source": [
    "visualization.plot_sharpness(batch_sizes, sharpnesses, key)"
   ]
  },
  {
   "cell_type": "markdown",
   "metadata": {},
   "source": [
    "#### Distance from initial weights"
   ]
  },
  {
   "cell_type": "code",
   "execution_count": null,
   "metadata": {},
   "outputs": [],
   "source": [
    "visualization.plot_distance_from_initial_weight(models, initial_weights, batch_sizes, key)"
   ]
  },
  {
   "cell_type": "markdown",
   "metadata": {},
   "source": [
    "#### Runtime"
   ]
  },
  {
   "cell_type": "code",
   "execution_count": null,
   "metadata": {},
   "outputs": [],
   "source": [
    "mean_times, convergence_epochs, overall_training_times = visualization.extract_times_for_batch_sizes(models_states,\n",
    "                                                                                                     batch_sizes, key)"
   ]
  },
  {
   "cell_type": "code",
   "execution_count": null,
   "metadata": {},
   "outputs": [],
   "source": [
    "visualization.plot_mean_time_per_epoch(batch_sizes, mean_times)"
   ]
  },
  {
   "cell_type": "code",
   "execution_count": null,
   "metadata": {},
   "outputs": [],
   "source": [
    "visualization.histogram_num_of_train_epochs_until_conv(batch_sizes, convergence_epochs)"
   ]
  },
  {
   "cell_type": "code",
   "execution_count": null,
   "metadata": {},
   "outputs": [],
   "source": [
    "visualization.histogram_overall_time_until_end_of_epochs(batch_sizes, overall_training_times)"
   ]
  },
  {
   "cell_type": "code",
   "execution_count": null,
   "metadata": {},
   "outputs": [],
   "source": [
    "visualization.plot_sharpness_times_runtime(batch_sizes, overall_training_times, sharpnesses, key)"
   ]
  }
 ],
 "metadata": {
  "kernelspec": {
   "display_name": "Python 3 (ipykernel)",
   "language": "python",
   "name": "python3"
  },
  "language_info": {
   "codemirror_mode": {
    "name": "ipython",
    "version": 3
   },
   "file_extension": ".py",
   "mimetype": "text/x-python",
   "name": "python",
   "nbconvert_exporter": "python",
   "pygments_lexer": "ipython3",
   "version": "3.8.12"
  }
 },
 "nbformat": 4,
 "nbformat_minor": 1
}
