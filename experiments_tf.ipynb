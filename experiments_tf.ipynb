{
 "cells": [
  {
   "cell_type": "markdown",
   "metadata": {
    "pycharm": {
     "name": "#%% md\n"
    }
   },
   "source": [
    "# Google colab initialization\n",
    "\n",
    "For Google colab uncomment these lines and run them to access your drive or try the second way (not tested)"
   ]
  },
  {
   "cell_type": "code",
   "execution_count": 2,
   "metadata": {
    "pycharm": {
     "name": "#%%\n"
    }
   },
   "outputs": [],
   "source": [
    "# from google.colab import drive\n",
    "# drive.mount('/content/drive')\n",
    "# import sys\n",
    "#\n",
    "# sys.path.insert(1, r'/content/drive/My Drive/')"
   ]
  },
  {
   "cell_type": "code",
   "execution_count": 3,
   "metadata": {
    "pycharm": {
     "name": "#%%\n"
    }
   },
   "outputs": [],
   "source": [
    "# Other try\n",
    "# !git clone https://github.com/Alexanderstaehle/OM_project"
   ]
  },
  {
   "cell_type": "code",
   "execution_count": 4,
   "metadata": {
    "pycharm": {
     "name": "#%%\n"
    }
   },
   "outputs": [],
   "source": [
    "# import sys\n",
    "# sys.path.append(\"OM_project\")"
   ]
  },
  {
   "cell_type": "code",
   "execution_count": 5,
   "metadata": {
    "pycharm": {
     "name": "#%%\n"
    }
   },
   "outputs": [],
   "source": [
    "import numpy as np\n",
    "import seaborn as sns\n",
    "import tensorflow as tf\n",
    "from matplotlib import pyplot as plt\n",
    "from tensorflow import keras\n",
    "\n",
    "from utils import ml_utils, visualization, data_loading, tf_models"
   ]
  },
  {
   "cell_type": "code",
   "execution_count": 6,
   "metadata": {},
   "outputs": [],
   "source": [
    "RETRAIN_FLAG = True"
   ]
  },
  {
   "cell_type": "code",
   "execution_count": null,
   "metadata": {},
   "outputs": [],
   "source": [
    "RETRAIN_FLAG = False"
   ]
  },
  {
   "cell_type": "code",
   "execution_count": 7,
   "metadata": {},
   "outputs": [],
   "source": [
    "filename_bs = lambda bs: ml_utils.path_from_filename(f'model_fixed_lr_diff_bs_{bs}', format_=\"tf\")\n",
    "filename_bs_lr = lambda bs, lr: ml_utils.path_from_filename(f'model_lr_{lr}_diff_bs_{bs}', format_=\"tf\")"
   ]
  },
  {
   "cell_type": "code",
   "execution_count": 8,
   "metadata": {},
   "outputs": [],
   "source": [
    "filename_bs_opt_sam = lambda bs, opt, sam: ml_utils.path_from_filename(\n",
    "    f'model_fixed_lr_diff_bs_{bs}_opt_{opt}_sam_{sam}', format_=\"tf\")\n",
    "filename_bs_lr_opt_sam = lambda bs, lr, opt, sam: ml_utils.path_from_filename(\n",
    "    f'model_lr_{lr}_diff_bs_{bs}_opt_{opt}_sam_{sam}', format_=\"tf\")"
   ]
  },
  {
   "cell_type": "code",
   "execution_count": 9,
   "metadata": {},
   "outputs": [],
   "source": [
    "def build_and_load_sam_model_weights(train, optimizer, filename, adaptive=False, rho=0.05):\n",
    "    model = tf_models.build_simple_cnn_sam(train, optimizer)\n",
    "    model.load_weights(filename)\n",
    "    return model"
   ]
  },
  {
   "cell_type": "code",
   "execution_count": 10,
   "metadata": {
    "pycharm": {
     "name": "#%%\n"
    }
   },
   "outputs": [
    {
     "name": "stderr",
     "output_type": "stream",
     "text": [
      "2022-02-21 15:08:02.131501: I tensorflow/stream_executor/cuda/cuda_gpu_executor.cc:936] successful NUMA node read from SysFS had negative value (-1), but there must be at least one NUMA node, so returning NUMA node zero\n",
      "2022-02-21 15:08:02.213135: I tensorflow/stream_executor/cuda/cuda_gpu_executor.cc:936] successful NUMA node read from SysFS had negative value (-1), but there must be at least one NUMA node, so returning NUMA node zero\n",
      "2022-02-21 15:08:02.213592: I tensorflow/stream_executor/cuda/cuda_gpu_executor.cc:936] successful NUMA node read from SysFS had negative value (-1), but there must be at least one NUMA node, so returning NUMA node zero\n"
     ]
    },
    {
     "name": "stdout",
     "output_type": "stream",
     "text": [
      "INFO:tensorflow:Using MirroredStrategy with devices ('/job:localhost/replica:0/task:0/device:GPU:0',)\n",
      "Number of accelerators:  1\n"
     ]
    },
    {
     "name": "stderr",
     "output_type": "stream",
     "text": [
      "2022-02-21 15:08:02.216577: I tensorflow/core/platform/cpu_feature_guard.cc:151] This TensorFlow binary is optimized with oneAPI Deep Neural Network Library (oneDNN) to use the following CPU instructions in performance-critical operations:  AVX2 FMA\n",
      "To enable them in other operations, rebuild TensorFlow with the appropriate compiler flags.\n",
      "2022-02-21 15:08:02.219197: I tensorflow/stream_executor/cuda/cuda_gpu_executor.cc:936] successful NUMA node read from SysFS had negative value (-1), but there must be at least one NUMA node, so returning NUMA node zero\n",
      "2022-02-21 15:08:02.219589: I tensorflow/stream_executor/cuda/cuda_gpu_executor.cc:936] successful NUMA node read from SysFS had negative value (-1), but there must be at least one NUMA node, so returning NUMA node zero\n",
      "2022-02-21 15:08:02.219882: I tensorflow/stream_executor/cuda/cuda_gpu_executor.cc:936] successful NUMA node read from SysFS had negative value (-1), but there must be at least one NUMA node, so returning NUMA node zero\n",
      "2022-02-21 15:08:02.910014: I tensorflow/stream_executor/cuda/cuda_gpu_executor.cc:936] successful NUMA node read from SysFS had negative value (-1), but there must be at least one NUMA node, so returning NUMA node zero\n",
      "2022-02-21 15:08:02.910187: I tensorflow/stream_executor/cuda/cuda_gpu_executor.cc:936] successful NUMA node read from SysFS had negative value (-1), but there must be at least one NUMA node, so returning NUMA node zero\n",
      "2022-02-21 15:08:02.910321: I tensorflow/stream_executor/cuda/cuda_gpu_executor.cc:936] successful NUMA node read from SysFS had negative value (-1), but there must be at least one NUMA node, so returning NUMA node zero\n",
      "2022-02-21 15:08:02.910723: I tensorflow/core/common_runtime/gpu/gpu_device.cc:1525] Created device /job:localhost/replica:0/task:0/device:GPU:0 with 6028 MB memory:  -> device: 0, name: NVIDIA GeForce RTX 2070 with Max-Q Design, pci bus id: 0000:01:00.0, compute capability: 7.5\n"
     ]
    }
   ],
   "source": [
    "RETRAIN_FLAG = True\n",
    "data_loading.initialize_env()\n",
    "sns.set_theme()\n",
    "color_map = sns.color_palette(as_cmap=True)\n",
    "ml_utils.check_tpu_gpu()"
   ]
  },
  {
   "cell_type": "markdown",
   "metadata": {},
   "source": [
    "# Different batch sizes with fixed learning rate"
   ]
  },
  {
   "cell_type": "markdown",
   "metadata": {},
   "source": [
    "## with sharpness aware minimization"
   ]
  },
  {
   "cell_type": "markdown",
   "metadata": {},
   "source": [
    "### SGD with Momentum + SAM "
   ]
  },
  {
   "cell_type": "code",
   "execution_count": 11,
   "metadata": {
    "pycharm": {
     "name": "#%%\n"
    }
   },
   "outputs": [],
   "source": [
    "models_dict_fixed = {}\n",
    "batch_sizes = [32, 64, 128, 256, 512, 1024]\n",
    "#batch_sizes = [32]\n",
    "lr = 0.001\n",
    "training_epochs = 10"
   ]
  },
  {
   "cell_type": "code",
   "execution_count": 12,
   "metadata": {},
   "outputs": [],
   "source": [
    "models_by_batch_size_fixed_lr = {}"
   ]
  },
  {
   "cell_type": "code",
   "execution_count": 13,
   "metadata": {},
   "outputs": [],
   "source": [
    "if not RETRAIN_FLAG:\n",
    "    for batch_size in batch_sizes:\n",
    "        # Read training data\n",
    "        train, validation = data_loading.load_batched_and_resized_dataset(dataset_name='MNIST', batch_size=batch_size,\n",
    "                                                                          img_size=32)\n",
    "        optimizer = keras.optimizers.SGD(learning_rate=lr, momentum=0.9)\n",
    "        model = build_and_load_sam_model_weights(train, optimizer, filename_bs_opt_sam(batch_size, \"SGD-MOM\", \"SAM\"))\n",
    "        models_by_batch_size_fixed_lr[batch_size] = model"
   ]
  },
  {
   "cell_type": "code",
   "execution_count": 14,
   "metadata": {
    "pycharm": {
     "name": "#%%\n"
    }
   },
   "outputs": [
    {
     "name": "stdout",
     "output_type": "stream",
     "text": [
      "Epoch 1/10\n"
     ]
    },
    {
     "name": "stderr",
     "output_type": "stream",
     "text": [
      "2022-02-21 15:08:05.093659: I tensorflow/stream_executor/cuda/cuda_dnn.cc:368] Loaded cuDNN version 8302\n",
      "2022-02-21 15:08:06.153233: I tensorflow/core/platform/default/subprocess.cc:304] Start cannot spawn child process: No such file or directory\n"
     ]
    },
    {
     "name": "stdout",
     "output_type": "stream",
     "text": [
      "1486/1500 [============================>.] - ETA: 0s - loss: 0.7504 - accuracy: 0.7449\n",
      "Epoch 1: val_loss improved from inf to 0.24957, saving model to tmp/model_fixed_lr_diff_bs_32_opt_SGD-MOM_sam_SAM.tf\n",
      "1500/1500 [==============================] - 9s 4ms/step - loss: 0.7464 - accuracy: 0.7463 - val_loss: 0.2496 - val_accuracy: 0.9342\n",
      "Epoch 2/10\n",
      "1495/1500 [============================>.] - ETA: 0s - loss: 0.2350 - accuracy: 0.9181\n",
      "Epoch 2: val_loss improved from 0.24957 to 0.15935, saving model to tmp/model_fixed_lr_diff_bs_32_opt_SGD-MOM_sam_SAM.tf\n",
      "1500/1500 [==============================] - 8s 5ms/step - loss: 0.2348 - accuracy: 0.9182 - val_loss: 0.1594 - val_accuracy: 0.9589\n",
      "Epoch 3/10\n",
      "1500/1500 [==============================] - ETA: 0s - loss: 0.1736 - accuracy: 0.9371\n",
      "Epoch 3: val_loss improved from 0.15935 to 0.12719, saving model to tmp/model_fixed_lr_diff_bs_32_opt_SGD-MOM_sam_SAM.tf\n",
      "1500/1500 [==============================] - 7s 5ms/step - loss: 0.1736 - accuracy: 0.9371 - val_loss: 0.1272 - val_accuracy: 0.9660\n",
      "Epoch 4/10\n",
      "1492/1500 [============================>.] - ETA: 0s - loss: 0.1461 - accuracy: 0.9464\n",
      "Epoch 4: val_loss improved from 0.12719 to 0.11011, saving model to tmp/model_fixed_lr_diff_bs_32_opt_SGD-MOM_sam_SAM.tf\n",
      "1500/1500 [==============================] - 8s 6ms/step - loss: 0.1460 - accuracy: 0.9464 - val_loss: 0.1101 - val_accuracy: 0.9703\n",
      "Epoch 5/10\n",
      "1494/1500 [============================>.] - ETA: 0s - loss: 0.1289 - accuracy: 0.9517\n",
      "Epoch 5: val_loss improved from 0.11011 to 0.09867, saving model to tmp/model_fixed_lr_diff_bs_32_opt_SGD-MOM_sam_SAM.tf\n",
      "1500/1500 [==============================] - 8s 5ms/step - loss: 0.1289 - accuracy: 0.9517 - val_loss: 0.0987 - val_accuracy: 0.9735\n",
      "Epoch 6/10\n",
      "1495/1500 [============================>.] - ETA: 0s - loss: 0.1166 - accuracy: 0.9561\n",
      "Epoch 6: val_loss improved from 0.09867 to 0.09010, saving model to tmp/model_fixed_lr_diff_bs_32_opt_SGD-MOM_sam_SAM.tf\n",
      "1500/1500 [==============================] - 9s 6ms/step - loss: 0.1166 - accuracy: 0.9561 - val_loss: 0.0901 - val_accuracy: 0.9765\n",
      "Epoch 7/10\n",
      "1496/1500 [============================>.] - ETA: 0s - loss: 0.1071 - accuracy: 0.9590\n",
      "Epoch 7: val_loss improved from 0.09010 to 0.08350, saving model to tmp/model_fixed_lr_diff_bs_32_opt_SGD-MOM_sam_SAM.tf\n",
      "1500/1500 [==============================] - 7s 4ms/step - loss: 0.1071 - accuracy: 0.9589 - val_loss: 0.0835 - val_accuracy: 0.9779\n",
      "Epoch 8/10\n",
      "1493/1500 [============================>.] - ETA: 0s - loss: 0.0996 - accuracy: 0.9616\n",
      "Epoch 8: val_loss improved from 0.08350 to 0.07819, saving model to tmp/model_fixed_lr_diff_bs_32_opt_SGD-MOM_sam_SAM.tf\n",
      "1500/1500 [==============================] - 7s 4ms/step - loss: 0.0996 - accuracy: 0.9615 - val_loss: 0.0782 - val_accuracy: 0.9792\n",
      "Epoch 9/10\n",
      "1494/1500 [============================>.] - ETA: 0s - loss: 0.0934 - accuracy: 0.9635\n",
      "Epoch 9: val_loss improved from 0.07819 to 0.07393, saving model to tmp/model_fixed_lr_diff_bs_32_opt_SGD-MOM_sam_SAM.tf\n",
      "1500/1500 [==============================] - 6s 4ms/step - loss: 0.0934 - accuracy: 0.9635 - val_loss: 0.0739 - val_accuracy: 0.9796\n",
      "Epoch 10/10\n",
      "1491/1500 [============================>.] - ETA: 0s - loss: 0.0881 - accuracy: 0.9656\n",
      "Epoch 10: val_loss improved from 0.07393 to 0.07036, saving model to tmp/model_fixed_lr_diff_bs_32_opt_SGD-MOM_sam_SAM.tf\n",
      "1500/1500 [==============================] - 6s 4ms/step - loss: 0.0882 - accuracy: 0.9655 - val_loss: 0.0704 - val_accuracy: 0.9801\n",
      "Epoch 1/10\n",
      "740/750 [============================>.] - ETA: 0s - loss: 1.1128 - accuracy: 0.6416\n",
      "Epoch 1: val_loss improved from inf to 0.36389, saving model to tmp/model_fixed_lr_diff_bs_64_opt_SGD-MOM_sam_SAM.tf\n",
      "750/750 [==============================] - 5s 5ms/step - loss: 1.1038 - accuracy: 0.6442 - val_loss: 0.3639 - val_accuracy: 0.8993\n",
      "Epoch 2/10\n",
      "741/750 [============================>.] - ETA: 0s - loss: 0.3461 - accuracy: 0.8794\n",
      "Epoch 2: val_loss improved from 0.36389 to 0.24519, saving model to tmp/model_fixed_lr_diff_bs_64_opt_SGD-MOM_sam_SAM.tf\n",
      "750/750 [==============================] - 4s 6ms/step - loss: 0.3456 - accuracy: 0.8797 - val_loss: 0.2452 - val_accuracy: 0.9346\n",
      "Epoch 3/10\n",
      "746/750 [============================>.] - ETA: 0s - loss: 0.2450 - accuracy: 0.9165\n",
      "Epoch 3: val_loss improved from 0.24519 to 0.18697, saving model to tmp/model_fixed_lr_diff_bs_64_opt_SGD-MOM_sam_SAM.tf\n",
      "750/750 [==============================] - 5s 6ms/step - loss: 0.2448 - accuracy: 0.9166 - val_loss: 0.1870 - val_accuracy: 0.9512\n",
      "Epoch 4/10\n",
      "747/750 [============================>.] - ETA: 0s - loss: 0.1947 - accuracy: 0.9326\n",
      "Epoch 4: val_loss improved from 0.18697 to 0.15357, saving model to tmp/model_fixed_lr_diff_bs_64_opt_SGD-MOM_sam_SAM.tf\n",
      "750/750 [==============================] - 4s 6ms/step - loss: 0.1947 - accuracy: 0.9326 - val_loss: 0.1536 - val_accuracy: 0.9584\n",
      "Epoch 5/10\n",
      "747/750 [============================>.] - ETA: 0s - loss: 0.1668 - accuracy: 0.9418\n",
      "Epoch 5: val_loss improved from 0.15357 to 0.13344, saving model to tmp/model_fixed_lr_diff_bs_64_opt_SGD-MOM_sam_SAM.tf\n",
      "750/750 [==============================] - 4s 6ms/step - loss: 0.1667 - accuracy: 0.9419 - val_loss: 0.1334 - val_accuracy: 0.9631\n",
      "Epoch 6/10\n",
      "743/750 [============================>.] - ETA: 0s - loss: 0.1488 - accuracy: 0.9474\n",
      "Epoch 6: val_loss improved from 0.13344 to 0.12023, saving model to tmp/model_fixed_lr_diff_bs_64_opt_SGD-MOM_sam_SAM.tf\n",
      "750/750 [==============================] - 4s 6ms/step - loss: 0.1490 - accuracy: 0.9473 - val_loss: 0.1202 - val_accuracy: 0.9665\n",
      "Epoch 7/10\n",
      "745/750 [============================>.] - ETA: 0s - loss: 0.1365 - accuracy: 0.9517\n",
      "Epoch 7: val_loss improved from 0.12023 to 0.11058, saving model to tmp/model_fixed_lr_diff_bs_64_opt_SGD-MOM_sam_SAM.tf\n",
      "750/750 [==============================] - 5s 7ms/step - loss: 0.1366 - accuracy: 0.9517 - val_loss: 0.1106 - val_accuracy: 0.9686\n",
      "Epoch 8/10\n",
      "743/750 [============================>.] - ETA: 0s - loss: 0.1269 - accuracy: 0.9548\n",
      "Epoch 8: val_loss improved from 0.11058 to 0.10325, saving model to tmp/model_fixed_lr_diff_bs_64_opt_SGD-MOM_sam_SAM.tf\n",
      "750/750 [==============================] - 5s 7ms/step - loss: 0.1272 - accuracy: 0.9547 - val_loss: 0.1032 - val_accuracy: 0.9710\n",
      "Epoch 9/10\n",
      "744/750 [============================>.] - ETA: 0s - loss: 0.1195 - accuracy: 0.9574\n",
      "Epoch 9: val_loss improved from 0.10325 to 0.09739, saving model to tmp/model_fixed_lr_diff_bs_64_opt_SGD-MOM_sam_SAM.tf\n",
      "750/750 [==============================] - 4s 6ms/step - loss: 0.1197 - accuracy: 0.9574 - val_loss: 0.0974 - val_accuracy: 0.9726\n",
      "Epoch 10/10\n",
      "748/750 [============================>.] - ETA: 0s - loss: 0.1134 - accuracy: 0.9596\n",
      "Epoch 10: val_loss improved from 0.09739 to 0.09257, saving model to tmp/model_fixed_lr_diff_bs_64_opt_SGD-MOM_sam_SAM.tf\n",
      "750/750 [==============================] - 5s 7ms/step - loss: 0.1134 - accuracy: 0.9595 - val_loss: 0.0926 - val_accuracy: 0.9738\n",
      "Epoch 1/10\n",
      "367/375 [============================>.] - ETA: 0s - loss: 1.5234 - accuracy: 0.5327\n",
      "Epoch 1: val_loss improved from inf to 0.52124, saving model to tmp/model_fixed_lr_diff_bs_128_opt_SGD-MOM_sam_SAM.tf\n",
      "375/375 [==============================] - 4s 9ms/step - loss: 1.5041 - accuracy: 0.5377 - val_loss: 0.5212 - val_accuracy: 0.8560\n",
      "Epoch 2/10\n",
      "374/375 [============================>.] - ETA: 0s - loss: 0.4745 - accuracy: 0.8294\n",
      "Epoch 2: val_loss improved from 0.52124 to 0.35165, saving model to tmp/model_fixed_lr_diff_bs_128_opt_SGD-MOM_sam_SAM.tf\n",
      "375/375 [==============================] - 3s 8ms/step - loss: 0.4742 - accuracy: 0.8295 - val_loss: 0.3516 - val_accuracy: 0.9048\n",
      "Epoch 3/10\n",
      "370/375 [============================>.] - ETA: 0s - loss: 0.3615 - accuracy: 0.8756\n",
      "Epoch 3: val_loss improved from 0.35165 to 0.28917, saving model to tmp/model_fixed_lr_diff_bs_128_opt_SGD-MOM_sam_SAM.tf\n",
      "375/375 [==============================] - 3s 8ms/step - loss: 0.3612 - accuracy: 0.8759 - val_loss: 0.2892 - val_accuracy: 0.9227\n",
      "Epoch 4/10\n",
      "375/375 [==============================] - ETA: 0s - loss: 0.2965 - accuracy: 0.9004\n",
      "Epoch 4: val_loss improved from 0.28917 to 0.24061, saving model to tmp/model_fixed_lr_diff_bs_128_opt_SGD-MOM_sam_SAM.tf\n"
     ]
    },
    {
     "name": "stdout",
     "output_type": "stream",
     "text": [
      "375/375 [==============================] - 3s 8ms/step - loss: 0.2965 - accuracy: 0.9004 - val_loss: 0.2406 - val_accuracy: 0.9358\n",
      "Epoch 5/10\n",
      "371/375 [============================>.] - ETA: 0s - loss: 0.2498 - accuracy: 0.9165\n",
      "Epoch 5: val_loss improved from 0.24061 to 0.20479, saving model to tmp/model_fixed_lr_diff_bs_128_opt_SGD-MOM_sam_SAM.tf\n",
      "375/375 [==============================] - 4s 9ms/step - loss: 0.2498 - accuracy: 0.9166 - val_loss: 0.2048 - val_accuracy: 0.9463\n",
      "Epoch 6/10\n",
      "369/375 [============================>.] - ETA: 0s - loss: 0.2160 - accuracy: 0.9282\n",
      "Epoch 6: val_loss improved from 0.20479 to 0.17908, saving model to tmp/model_fixed_lr_diff_bs_128_opt_SGD-MOM_sam_SAM.tf\n",
      "375/375 [==============================] - 3s 8ms/step - loss: 0.2159 - accuracy: 0.9283 - val_loss: 0.1791 - val_accuracy: 0.9528\n",
      "Epoch 7/10\n",
      "372/375 [============================>.] - ETA: 0s - loss: 0.1917 - accuracy: 0.9359\n",
      "Epoch 7: val_loss improved from 0.17908 to 0.16049, saving model to tmp/model_fixed_lr_diff_bs_128_opt_SGD-MOM_sam_SAM.tf\n",
      "375/375 [==============================] - 3s 8ms/step - loss: 0.1918 - accuracy: 0.9359 - val_loss: 0.1605 - val_accuracy: 0.9571\n",
      "Epoch 8/10\n",
      "372/375 [============================>.] - ETA: 0s - loss: 0.1741 - accuracy: 0.9415\n",
      "Epoch 8: val_loss improved from 0.16049 to 0.14663, saving model to tmp/model_fixed_lr_diff_bs_128_opt_SGD-MOM_sam_SAM.tf\n",
      "375/375 [==============================] - 3s 8ms/step - loss: 0.1742 - accuracy: 0.9415 - val_loss: 0.1466 - val_accuracy: 0.9608\n",
      "Epoch 9/10\n",
      "375/375 [==============================] - ETA: 0s - loss: 0.1610 - accuracy: 0.9452\n",
      "Epoch 9: val_loss improved from 0.14663 to 0.13597, saving model to tmp/model_fixed_lr_diff_bs_128_opt_SGD-MOM_sam_SAM.tf\n",
      "375/375 [==============================] - 3s 8ms/step - loss: 0.1610 - accuracy: 0.9452 - val_loss: 0.1360 - val_accuracy: 0.9627\n",
      "Epoch 10/10\n",
      "374/375 [============================>.] - ETA: 0s - loss: 0.1505 - accuracy: 0.9479\n",
      "Epoch 10: val_loss improved from 0.13597 to 0.12746, saving model to tmp/model_fixed_lr_diff_bs_128_opt_SGD-MOM_sam_SAM.tf\n",
      "375/375 [==============================] - 3s 8ms/step - loss: 0.1506 - accuracy: 0.9479 - val_loss: 0.1275 - val_accuracy: 0.9652\n",
      "Epoch 1/10\n",
      "185/188 [============================>.] - ETA: 0s - loss: 2.1772 - accuracy: 0.3308\n",
      "Epoch 1: val_loss improved from inf to 1.79461, saving model to tmp/model_fixed_lr_diff_bs_256_opt_SGD-MOM_sam_SAM.tf\n",
      "188/188 [==============================] - 4s 16ms/step - loss: 2.1729 - accuracy: 0.3343 - val_loss: 1.7946 - val_accuracy: 0.6568\n",
      "Epoch 2/10\n",
      "185/188 [============================>.] - ETA: 0s - loss: 0.9860 - accuracy: 0.7263\n",
      "Epoch 2: val_loss improved from 1.79461 to 0.51515, saving model to tmp/model_fixed_lr_diff_bs_256_opt_SGD-MOM_sam_SAM.tf\n",
      "188/188 [==============================] - 3s 13ms/step - loss: 0.9809 - accuracy: 0.7269 - val_loss: 0.5152 - val_accuracy: 0.8574\n",
      "Epoch 3/10\n",
      "187/188 [============================>.] - ETA: 0s - loss: 0.5001 - accuracy: 0.8192\n",
      "Epoch 3: val_loss improved from 0.51515 to 0.38877, saving model to tmp/model_fixed_lr_diff_bs_256_opt_SGD-MOM_sam_SAM.tf\n",
      "188/188 [==============================] - 3s 14ms/step - loss: 0.4999 - accuracy: 0.8194 - val_loss: 0.3888 - val_accuracy: 0.8937\n",
      "Epoch 4/10\n",
      "184/188 [============================>.] - ETA: 0s - loss: 0.4128 - accuracy: 0.8546\n",
      "Epoch 4: val_loss improved from 0.38877 to 0.33726, saving model to tmp/model_fixed_lr_diff_bs_256_opt_SGD-MOM_sam_SAM.tf\n",
      "188/188 [==============================] - 3s 14ms/step - loss: 0.4124 - accuracy: 0.8548 - val_loss: 0.3373 - val_accuracy: 0.9078\n",
      "Epoch 5/10\n",
      "188/188 [==============================] - ETA: 0s - loss: 0.3629 - accuracy: 0.8761\n",
      "Epoch 5: val_loss improved from 0.33726 to 0.30255, saving model to tmp/model_fixed_lr_diff_bs_256_opt_SGD-MOM_sam_SAM.tf\n",
      "188/188 [==============================] - 3s 14ms/step - loss: 0.3629 - accuracy: 0.8761 - val_loss: 0.3026 - val_accuracy: 0.9163\n",
      "Epoch 6/10\n",
      "184/188 [============================>.] - ETA: 0s - loss: 0.3271 - accuracy: 0.8903\n",
      "Epoch 6: val_loss improved from 0.30255 to 0.27675, saving model to tmp/model_fixed_lr_diff_bs_256_opt_SGD-MOM_sam_SAM.tf\n",
      "188/188 [==============================] - 3s 13ms/step - loss: 0.3270 - accuracy: 0.8904 - val_loss: 0.2768 - val_accuracy: 0.9237\n",
      "Epoch 7/10\n",
      "185/188 [============================>.] - ETA: 0s - loss: 0.2981 - accuracy: 0.9020\n",
      "Epoch 7: val_loss improved from 0.27675 to 0.25646, saving model to tmp/model_fixed_lr_diff_bs_256_opt_SGD-MOM_sam_SAM.tf\n",
      "188/188 [==============================] - 3s 14ms/step - loss: 0.2982 - accuracy: 0.9021 - val_loss: 0.2565 - val_accuracy: 0.9295\n",
      "Epoch 8/10\n",
      "185/188 [============================>.] - ETA: 0s - loss: 0.2736 - accuracy: 0.9098\n",
      "Epoch 8: val_loss improved from 0.25646 to 0.23798, saving model to tmp/model_fixed_lr_diff_bs_256_opt_SGD-MOM_sam_SAM.tf\n",
      "188/188 [==============================] - 3s 14ms/step - loss: 0.2737 - accuracy: 0.9099 - val_loss: 0.2380 - val_accuracy: 0.9350\n",
      "Epoch 9/10\n",
      "185/188 [============================>.] - ETA: 0s - loss: 0.2524 - accuracy: 0.9172\n",
      "Epoch 9: val_loss improved from 0.23798 to 0.21988, saving model to tmp/model_fixed_lr_diff_bs_256_opt_SGD-MOM_sam_SAM.tf\n",
      "188/188 [==============================] - 3s 14ms/step - loss: 0.2525 - accuracy: 0.9173 - val_loss: 0.2199 - val_accuracy: 0.9401\n",
      "Epoch 10/10\n",
      "185/188 [============================>.] - ETA: 0s - loss: 0.2339 - accuracy: 0.9230\n",
      "Epoch 10: val_loss improved from 0.21988 to 0.20379, saving model to tmp/model_fixed_lr_diff_bs_256_opt_SGD-MOM_sam_SAM.tf\n",
      "188/188 [==============================] - 3s 14ms/step - loss: 0.2341 - accuracy: 0.9231 - val_loss: 0.2038 - val_accuracy: 0.9447\n",
      "Epoch 1/10\n",
      "94/94 [==============================] - ETA: 0s - loss: 2.2969 - accuracy: 0.0772\n",
      "Epoch 1: val_loss improved from inf to 2.26499, saving model to tmp/model_fixed_lr_diff_bs_512_opt_SGD-MOM_sam_SAM.tf\n",
      "94/94 [==============================] - 4s 32ms/step - loss: 2.2969 - accuracy: 0.0772 - val_loss: 2.2650 - val_accuracy: 0.2887\n",
      "Epoch 2/10\n",
      "93/94 [============================>.] - ETA: 0s - loss: 2.2373 - accuracy: 0.3453\n",
      "Epoch 2: val_loss improved from 2.26499 to 2.17148, saving model to tmp/model_fixed_lr_diff_bs_512_opt_SGD-MOM_sam_SAM.tf\n",
      "94/94 [==============================] - 2s 25ms/step - loss: 2.2369 - accuracy: 0.3459 - val_loss: 2.1715 - val_accuracy: 0.5265\n",
      "Epoch 3/10\n",
      "92/94 [============================>.] - ETA: 0s - loss: 2.0327 - accuracy: 0.5782\n",
      "Epoch 3: val_loss improved from 2.17148 to 1.70200, saving model to tmp/model_fixed_lr_diff_bs_512_opt_SGD-MOM_sam_SAM.tf\n",
      "94/94 [==============================] - 2s 25ms/step - loss: 2.0274 - accuracy: 0.5802 - val_loss: 1.7020 - val_accuracy: 0.7048\n",
      "Epoch 4/10\n",
      "94/94 [==============================] - ETA: 0s - loss: 1.1797 - accuracy: 0.7188\n",
      "Epoch 4: val_loss improved from 1.70200 to 0.71713, saving model to tmp/model_fixed_lr_diff_bs_512_opt_SGD-MOM_sam_SAM.tf\n",
      "94/94 [==============================] - 2s 25ms/step - loss: 1.1797 - accuracy: 0.7188 - val_loss: 0.7171 - val_accuracy: 0.7974\n",
      "Epoch 5/10\n",
      "92/94 [============================>.] - ETA: 0s - loss: 0.6430 - accuracy: 0.7735\n",
      "Epoch 5: val_loss improved from 0.71713 to 0.50424, saving model to tmp/model_fixed_lr_diff_bs_512_opt_SGD-MOM_sam_SAM.tf\n",
      "94/94 [==============================] - 2s 26ms/step - loss: 0.6418 - accuracy: 0.7735 - val_loss: 0.5042 - val_accuracy: 0.8544\n",
      "Epoch 6/10\n",
      "94/94 [==============================] - ETA: 0s - loss: 0.5190 - accuracy: 0.8140\n",
      "Epoch 6: val_loss improved from 0.50424 to 0.43447, saving model to tmp/model_fixed_lr_diff_bs_512_opt_SGD-MOM_sam_SAM.tf\n",
      "94/94 [==============================] - 2s 25ms/step - loss: 0.5190 - accuracy: 0.8140 - val_loss: 0.4345 - val_accuracy: 0.8746\n",
      "Epoch 7/10\n",
      "94/94 [==============================] - ETA: 0s - loss: 0.4620 - accuracy: 0.8371\n",
      "Epoch 7: val_loss improved from 0.43447 to 0.39560, saving model to tmp/model_fixed_lr_diff_bs_512_opt_SGD-MOM_sam_SAM.tf\n",
      "94/94 [==============================] - 2s 25ms/step - loss: 0.4620 - accuracy: 0.8371 - val_loss: 0.3956 - val_accuracy: 0.8861\n",
      "Epoch 8/10\n"
     ]
    },
    {
     "name": "stdout",
     "output_type": "stream",
     "text": [
      "94/94 [==============================] - ETA: 0s - loss: 0.4260 - accuracy: 0.8509\n",
      "Epoch 8: val_loss improved from 0.39560 to 0.36820, saving model to tmp/model_fixed_lr_diff_bs_512_opt_SGD-MOM_sam_SAM.tf\n",
      "94/94 [==============================] - 2s 25ms/step - loss: 0.4260 - accuracy: 0.8509 - val_loss: 0.3682 - val_accuracy: 0.8947\n",
      "Epoch 9/10\n",
      "93/94 [============================>.] - ETA: 0s - loss: 0.3990 - accuracy: 0.8621\n",
      "Epoch 9: val_loss improved from 0.36820 to 0.34578, saving model to tmp/model_fixed_lr_diff_bs_512_opt_SGD-MOM_sam_SAM.tf\n",
      "94/94 [==============================] - 2s 24ms/step - loss: 0.3990 - accuracy: 0.8620 - val_loss: 0.3458 - val_accuracy: 0.9012\n",
      "Epoch 10/10\n",
      "94/94 [==============================] - ETA: 0s - loss: 0.3771 - accuracy: 0.8712\n",
      "Epoch 10: val_loss improved from 0.34578 to 0.32785, saving model to tmp/model_fixed_lr_diff_bs_512_opt_SGD-MOM_sam_SAM.tf\n",
      "94/94 [==============================] - 2s 24ms/step - loss: 0.3771 - accuracy: 0.8712 - val_loss: 0.3279 - val_accuracy: 0.9069\n",
      "Epoch 1/10\n",
      "47/47 [==============================] - ETA: 0s - loss: 2.3012 - accuracy: 0.0661\n",
      "Epoch 1: val_loss improved from inf to 2.26471, saving model to tmp/model_fixed_lr_diff_bs_1024_opt_SGD-MOM_sam_SAM.tf\n",
      "47/47 [==============================] - 4s 67ms/step - loss: 2.3012 - accuracy: 0.0661 - val_loss: 2.2647 - val_accuracy: 0.1994\n",
      "Epoch 2/10\n",
      "47/47 [==============================] - ETA: 0s - loss: 2.2468 - accuracy: 0.2113\n",
      "Epoch 2: val_loss improved from 2.26471 to 2.20473, saving model to tmp/model_fixed_lr_diff_bs_1024_opt_SGD-MOM_sam_SAM.tf\n",
      "47/47 [==============================] - 2s 48ms/step - loss: 2.2468 - accuracy: 0.2113 - val_loss: 2.2047 - val_accuracy: 0.3444\n",
      "Epoch 3/10\n",
      "47/47 [==============================] - ETA: 0s - loss: 2.1711 - accuracy: 0.3764\n",
      "Epoch 3: val_loss improved from 2.20473 to 2.09521, saving model to tmp/model_fixed_lr_diff_bs_1024_opt_SGD-MOM_sam_SAM.tf\n",
      "47/47 [==============================] - 2s 49ms/step - loss: 2.1711 - accuracy: 0.3764 - val_loss: 2.0952 - val_accuracy: 0.5443\n",
      "Epoch 4/10\n",
      "47/47 [==============================] - ETA: 0s - loss: 2.0076 - accuracy: 0.5764\n",
      "Epoch 4: val_loss improved from 2.09521 to 1.83370, saving model to tmp/model_fixed_lr_diff_bs_1024_opt_SGD-MOM_sam_SAM.tf\n",
      "47/47 [==============================] - 2s 47ms/step - loss: 2.0076 - accuracy: 0.5764 - val_loss: 1.8337 - val_accuracy: 0.6765\n",
      "Epoch 5/10\n",
      "47/47 [==============================] - ETA: 0s - loss: 1.6103 - accuracy: 0.6886\n",
      "Epoch 5: val_loss improved from 1.83370 to 1.26850, saving model to tmp/model_fixed_lr_diff_bs_1024_opt_SGD-MOM_sam_SAM.tf\n",
      "47/47 [==============================] - 2s 48ms/step - loss: 1.6103 - accuracy: 0.6886 - val_loss: 1.2685 - val_accuracy: 0.7333\n",
      "Epoch 6/10\n",
      "47/47 [==============================] - ETA: 0s - loss: 1.0343 - accuracy: 0.7321\n",
      "Epoch 6: val_loss improved from 1.26850 to 0.78980, saving model to tmp/model_fixed_lr_diff_bs_1024_opt_SGD-MOM_sam_SAM.tf\n",
      "47/47 [==============================] - 2s 48ms/step - loss: 1.0343 - accuracy: 0.7321 - val_loss: 0.7898 - val_accuracy: 0.7871\n",
      "Epoch 7/10\n",
      "47/47 [==============================] - ETA: 0s - loss: 0.7289 - accuracy: 0.7581\n",
      "Epoch 7: val_loss improved from 0.78980 to 0.60238, saving model to tmp/model_fixed_lr_diff_bs_1024_opt_SGD-MOM_sam_SAM.tf\n",
      "47/47 [==============================] - 2s 49ms/step - loss: 0.7289 - accuracy: 0.7581 - val_loss: 0.6024 - val_accuracy: 0.8309\n",
      "Epoch 8/10\n",
      "47/47 [==============================] - ETA: 0s - loss: 0.6120 - accuracy: 0.7822\n",
      "Epoch 8: val_loss improved from 0.60238 to 0.51548, saving model to tmp/model_fixed_lr_diff_bs_1024_opt_SGD-MOM_sam_SAM.tf\n",
      "47/47 [==============================] - 2s 49ms/step - loss: 0.6120 - accuracy: 0.7822 - val_loss: 0.5155 - val_accuracy: 0.8565\n",
      "Epoch 9/10\n",
      "47/47 [==============================] - ETA: 0s - loss: 0.5486 - accuracy: 0.8019\n",
      "Epoch 9: val_loss improved from 0.51548 to 0.46614, saving model to tmp/model_fixed_lr_diff_bs_1024_opt_SGD-MOM_sam_SAM.tf\n",
      "47/47 [==============================] - 2s 49ms/step - loss: 0.5486 - accuracy: 0.8019 - val_loss: 0.4661 - val_accuracy: 0.8694\n",
      "Epoch 10/10\n",
      "47/47 [==============================] - ETA: 0s - loss: 0.5074 - accuracy: 0.8167\n",
      "Epoch 10: val_loss improved from 0.46614 to 0.43387, saving model to tmp/model_fixed_lr_diff_bs_1024_opt_SGD-MOM_sam_SAM.tf\n",
      "47/47 [==============================] - 2s 49ms/step - loss: 0.5074 - accuracy: 0.8167 - val_loss: 0.4339 - val_accuracy: 0.8777\n"
     ]
    }
   ],
   "source": [
    "if RETRAIN_FLAG:\n",
    "    # Need sparse categorical crossentropy since our labels are in form of integers not vectors\n",
    "    for batch_size in batch_sizes:\n",
    "        # Read training data\n",
    "        train, validation = data_loading.load_batched_and_resized_dataset(dataset_name='MNIST', batch_size=batch_size,\n",
    "                                                                          img_size=32)\n",
    "\n",
    "        optimizer = keras.optimizers.SGD(learning_rate=lr, momentum=0.9)\n",
    "        model = tf_models.build_simple_cnn_sam(train, optimizer)\n",
    "\n",
    "        train_callbacks = [\n",
    "            tf.keras.callbacks.EarlyStopping(\n",
    "                monitor=\"val_loss\", patience=10,\n",
    "                restore_best_weights=True\n",
    "            ),\n",
    "            tf.keras.callbacks.ModelCheckpoint(\n",
    "                filename_bs_opt_sam(batch_size, \"SGD-MOM\", \"SAM\"),\n",
    "                monitor='val_loss',\n",
    "                mode='min',\n",
    "                verbose=1,\n",
    "                save_best_only=True,\n",
    "                save_weights_only=True\n",
    "            )\n",
    "            # tf.keras.callbacks.ReduceLROnPlateau(\n",
    "            #     monitor=\"val_loss\", factor=0.5,\n",
    "            #     patience=3, verbose=1\n",
    "            # )\n",
    "        ]\n",
    "        models_dict_fixed[batch_size] = ml_utils.train_model(model, train, validation, epochs=10,\n",
    "                                                             extra_callbacks=train_callbacks, verbose=1)\n",
    "        models_by_batch_size_fixed_lr[batch_size] = model"
   ]
  },
  {
   "cell_type": "code",
   "execution_count": 15,
   "metadata": {},
   "outputs": [],
   "source": [
    "fixed_lr_state_filename = 'model_fixed_lr_diff_bs_state'"
   ]
  },
  {
   "cell_type": "code",
   "execution_count": 16,
   "metadata": {
    "pycharm": {
     "name": "#%%\n"
    }
   },
   "outputs": [],
   "source": [
    "if RETRAIN_FLAG:\n",
    "    ml_utils.save_model_state(models_dict_fixed, fixed_lr_state_filename)\n",
    "else:\n",
    "    models_dict_fixed = ml_utils.load_model_state(fixed_lr_state_filename)"
   ]
  },
  {
   "cell_type": "code",
   "execution_count": 17,
   "metadata": {
    "pycharm": {
     "name": "#%%\n"
    }
   },
   "outputs": [
    {
     "data": {
      "image/png": "[encoded data removed]",
      "text/plain": [
       "<Figure size 1600x560 with 2 Axes>"
      ]
     },
     "metadata": {},
     "output_type": "display_data"
    },
    {
     "data": {
      "text/plain": [
       "<Figure size 432x288 with 0 Axes>"
      ]
     },
     "metadata": {},
     "output_type": "display_data"
    }
   ],
   "source": [
    "visualization.plot_loss_by_param(models_dict_fixed, 'batch size with fixed learning rate', 'fixed_lr_diff_bs')"
   ]
  },
  {
   "cell_type": "markdown",
   "metadata": {},
   "source": [
    "#### sharpness"
   ]
  },
  {
   "cell_type": "code",
   "execution_count": 18,
   "metadata": {},
   "outputs": [],
   "source": [
    "sharpnesses = {}"
   ]
  },
  {
   "cell_type": "code",
   "execution_count": 19,
   "metadata": {},
   "outputs": [
    {
     "name": "stdout",
     "output_type": "stream",
     "text": [
      "47/47 [==============================] - 1s 14ms/step - loss: 0.0617 - accuracy: 0.9834\n",
      "47/47 [==============================] - 1s 13ms/step - loss: 0.0617 - accuracy: 0.9834\n",
      "RUNNING THE L-BFGS-B CODE\n",
      "\n",
      "           * * *\n",
      "\n",
      "Machine precision = 2.220D-16\n",
      " N =        59786     M =           10\n",
      "\n",
      "At X0         0 variables are exactly at the bounds\n",
      "\n",
      "At iterate    0    f= -6.17384D-02    |proj g|=  1.58387D-02\n",
      "47/47 [==============================] - 1s 12ms/step - loss: 4.1484 - accuracy: 0.3380\n",
      "\n",
      "At iterate    1    f= -4.14840D+00    |proj g|=  3.16774D-02\n",
      "  ys=-3.734E+02  -gs= 5.064E+00 BFGS update SKIPPED\n",
      "47/47 [==============================] - 1s 12ms/step - loss: 22.0871 - accuracy: 0.1322\n",
      "\n",
      "At iterate    2    f= -2.20871D+01    |proj g|=  2.57621D-02\n",
      "  ys=-1.293E+03  -gs= 2.593E+02 BFGS update SKIPPED\n",
      "47/47 [==============================] - 1s 11ms/step - loss: 30.2063 - accuracy: 0.0974\n",
      "\n",
      "At iterate    3    f= -3.02063D+01    |proj g|=  2.43631D-02\n",
      "  ys=-3.045E+02  -gs= 2.256E+02 BFGS update SKIPPED\n",
      "47/47 [==============================] - 1s 11ms/step - loss: 31.7482 - accuracy: 0.0974\n",
      "\n",
      "At iterate    4    f= -3.17482D+01    |proj g|=  2.49356D-02\n",
      "  ys=-8.504E+01  -gs= 3.112E+01 BFGS update SKIPPED\n",
      "47/47 [==============================] - 1s 12ms/step - loss: 31.9495 - accuracy: 0.0974\n",
      "\n",
      "At iterate    5    f= -3.19495D+01    |proj g|=  2.25002D-02\n",
      "  ys=-5.029E+00  -gs= 6.577E+00 BFGS update SKIPPED\n",
      "47/47 [==============================] - 1s 12ms/step - loss: 31.9475 - accuracy: 0.0974\n",
      "\n",
      "           * * *\n",
      "\n",
      "Tit   = total number of iterations\n",
      "Tnf   = total number of function evaluations\n",
      "Tnint = total number of segments explored during Cauchy searches\n",
      "Skip  = number of BFGS updates skipped\n",
      "Nact  = number of active bounds at final generalized Cauchy point\n",
      "Projg = norm of the final projected gradient\n",
      "F     = final function value\n",
      "\n",
      "           * * *\n",
      "\n",
      "   N    Tit     Tnf  Tnint  Skip  Nact     Projg        F\n",
      "59786      6      7  63238     5 54833   2.250D-02  -3.195D+01\n",
      "  F =  -31.949520111083984     \n",
      "\n",
      "ABNORMAL_TERMINATION_IN_LNSRCH                              \n",
      " 1/47 [..............................] - ETA: 7s - loss: 0.0700 - accuracy: 0.9814"
     ]
    },
    {
     "name": "stderr",
     "output_type": "stream",
     "text": [
      "\n",
      " Line search cannot locate an adequate point after MAXLS\n",
      "  function and gradient evaluations.\n",
      "  Previous x, f and g restored.\n",
      " Possible causes: 1 error in function or gradient evaluation;\n",
      "                  2 rounding error dominate computation.\n"
     ]
    },
    {
     "name": "stdout",
     "output_type": "stream",
     "text": [
      "47/47 [==============================] - 1s 11ms/step - loss: 0.0860 - accuracy: 0.9763\n",
      "47/47 [==============================] - 1s 16ms/step - loss: 0.0860 - accuracy: 0.9763\n",
      "RUNNING THE L-BFGS-B CODE\n",
      "\n",
      "           * * *\n",
      "\n",
      "Machine precision = 2.220D-16\n",
      " N =        59786     M =           10\n",
      "\n",
      "At X0         0 variables are exactly at the bounds\n",
      "\n",
      "At iterate    0    f= -8.59538D-02    |proj g|=  1.63111D-02\n",
      "47/47 [==============================] - 1s 11ms/step - loss: 5.7417 - accuracy: 0.3398\n",
      "\n",
      "At iterate    1    f= -5.74173D+00    |proj g|=  3.26222D-02\n",
      "  ys=-4.223E+02  -gs= 7.996E+00 BFGS update SKIPPED\n",
      "47/47 [==============================] - 1s 12ms/step - loss: 24.3172 - accuracy: 0.0976\n",
      "\n",
      "At iterate    2    f= -2.43172D+01    |proj g|=  2.43396D-02\n",
      "  ys=-1.312E+03  -gs= 2.805E+02 BFGS update SKIPPED\n",
      "47/47 [==============================] - 1s 13ms/step - loss: 32.9336 - accuracy: 0.0974\n",
      "\n",
      "At iterate    3    f= -3.29336D+01    |proj g|=  2.33476D-02\n",
      "  ys=-2.934E+02  -gs= 2.674E+02 BFGS update SKIPPED\n",
      "47/47 [==============================] - 1s 11ms/step - loss: 34.0101 - accuracy: 0.0974\n",
      "\n",
      "At iterate    4    f= -3.40101D+01    |proj g|=  2.41007D-02\n",
      "  ys=-5.891E+01  -gs= 2.581E+01 BFGS update SKIPPED\n",
      "47/47 [==============================] - 1s 12ms/step - loss: 34.6747 - accuracy: 0.0974\n",
      "\n",
      "At iterate    5    f= -3.46747D+01    |proj g|=  2.29703D-02\n",
      "  ys=-3.142E+01  -gs= 1.684E+01 BFGS update SKIPPED\n",
      "47/47 [==============================] - 1s 12ms/step - loss: 34.8072 - accuracy: 0.0974\n",
      "\n",
      "At iterate    6    f= -3.48072D+01    |proj g|=  2.27769D-02\n",
      "  ys=-1.667E+00  -gs= 5.282E+00 BFGS update SKIPPED\n",
      "47/47 [==============================] - 1s 12ms/step - loss: 34.8895 - accuracy: 0.0974\n",
      "\n",
      "At iterate    7    f= -3.48895D+01    |proj g|=  2.24906D-02\n",
      "  ys=-1.210E+00  -gs= 3.401E+00 BFGS update SKIPPED\n",
      "47/47 [==============================] - 1s 11ms/step - loss: 34.8943 - accuracy: 0.0974\n",
      "\n",
      "At iterate    8    f= -3.48943D+01    |proj g|=  2.24906D-02\n",
      "47/47 [==============================] - 1s 11ms/step - loss: 34.8950 - accuracy: 0.0974\n",
      "13/47 [=======>......................] - ETA: 0s - loss: 35.0271 - accuracy: 0.0949"
     ]
    },
    {
     "name": "stderr",
     "output_type": "stream",
     "text": [
      "\n",
      " Bad direction in the line search;\n",
      "   refresh the lbfgs memory and restart the iteration.\n"
     ]
    },
    {
     "name": "stdout",
     "output_type": "stream",
     "text": [
      "47/47 [==============================] - 1s 12ms/step - loss: 34.8955 - accuracy: 0.0974\n",
      "\n",
      "At iterate    9    f= -3.48955D+01    |proj g|=  2.24906D-02\n",
      "47/47 [==============================] - 1s 13ms/step - loss: 34.8978 - accuracy: 0.0974\n",
      "\n",
      "At iterate   10    f= -3.48978D+01    |proj g|=  1.42166D-02\n",
      "\n",
      "           * * *\n",
      "\n",
      "Tit   = total number of iterations\n",
      "Tnf   = total number of function evaluations\n",
      "Tnint = total number of segments explored during Cauchy searches\n",
      "Skip  = number of BFGS updates skipped\n",
      "Nact  = number of active bounds at final generalized Cauchy point\n",
      "Projg = norm of the final projected gradient\n",
      "F     = final function value\n",
      "\n",
      "           * * *\n",
      "\n",
      "   N    Tit     Tnf  Tnint  Skip  Nact     Projg        F\n",
      "59786     10     12  64476     7 55219   1.422D-02  -3.490D+01\n",
      "  F =  -34.897819519042969     \n",
      "\n",
      "STOP: TOTAL NO. of ITERATIONS REACHED LIMIT                 \n",
      "47/47 [==============================] - 1s 15ms/step - loss: 0.1224 - accuracy: 0.9660\n",
      "47/47 [==============================] - 1s 13ms/step - loss: 0.1224 - accuracy: 0.9660\n",
      "RUNNING THE L-BFGS-B CODE\n",
      "\n",
      "           * * *\n",
      "\n",
      "Machine precision = 2.220D-16\n",
      " N =        59786     M =           10\n",
      "\n",
      "At X0         0 variables are exactly at the bounds\n",
      "\n",
      "At iterate    0    f= -1.22415D-01    |proj g|=  1.43898D-02\n",
      "47/47 [==============================] - 1s 12ms/step - loss: 5.2106 - accuracy: 0.3637\n",
      "\n",
      "At iterate    1    f= -5.21064D+00    |proj g|=  2.87796D-02\n",
      "  ys=-2.970E+02  -gs= 8.342E+00 BFGS update SKIPPED\n",
      "47/47 [==============================] - 1s 12ms/step - loss: 27.1235 - accuracy: 0.2293\n",
      "\n",
      "At iterate    2    f= -2.71235D+01    |proj g|=  2.37063D-02\n",
      "  ys=-1.570E+03  -gs= 3.579E+02 BFGS update SKIPPED\n",
      "47/47 [==============================] - 1s 13ms/step - loss: 36.1772 - accuracy: 0.1827\n",
      "\n",
      "At iterate    3    f= -3.61772D+01    |proj g|=  2.33533D-02\n",
      "  ys=-2.125E+02  -gs= 2.980E+02 BFGS update SKIPPED\n",
      "47/47 [==============================] - 1s 11ms/step - loss: 36.4735 - accuracy: 0.1752\n",
      "\n",
      "At iterate    4    f= -3.64735D+01    |proj g|=  2.22998D-02\n",
      "  ys=-2.927E+01  -gs= 4.253E+00 BFGS update SKIPPED\n",
      "47/47 [==============================] - 1s 12ms/step - loss: 36.6204 - accuracy: 0.1695\n",
      "\n",
      "At iterate    5    f= -3.66204D+01    |proj g|=  2.25382D-02\n",
      "  ys=-2.884E+00  -gs= 5.378E+00 BFGS update SKIPPED\n",
      "47/47 [==============================] - 1s 12ms/step - loss: 36.6287 - accuracy: 0.1682\n",
      "\n",
      "At iterate    6    f= -3.66287D+01    |proj g|=  2.28045D-02\n",
      "  ys=-3.686E-01  -gs= 2.355E-01 BFGS update SKIPPED\n",
      "47/47 [==============================] - 1s 12ms/step - loss: 36.6418 - accuracy: 0.1677\n",
      "\n",
      "At iterate    7    f= -3.66418D+01    |proj g|=  2.25243D-02\n",
      "  ys=-1.028E+00  -gs= 1.786E-01 BFGS update SKIPPED\n",
      "47/47 [==============================] - 1s 11ms/step - loss: 36.6587 - accuracy: 0.1668\n",
      "\n",
      "At iterate    8    f= -3.66587D+01    |proj g|=  2.17491D-02\n",
      "  ys=-6.976E-01  -gs= 3.969E-01 BFGS update SKIPPED\n",
      "47/47 [==============================] - 1s 13ms/step - loss: 36.6629 - accuracy: 0.1666\n",
      "\n",
      "At iterate    9    f= -3.66629D+01    |proj g|=  1.32554D-02\n",
      "  ys=-2.794E-02  -gs= 1.811E-01 BFGS update SKIPPED\n",
      "47/47 [==============================] - 1s 11ms/step - loss: 36.6629 - accuracy: 0.1665\n",
      "\n",
      "           * * *\n",
      "\n",
      "Tit   = total number of iterations\n",
      "Tnf   = total number of function evaluations\n",
      "Tnint = total number of segments explored during Cauchy searches\n",
      "Skip  = number of BFGS updates skipped\n",
      "Nact  = number of active bounds at final generalized Cauchy point\n",
      "Projg = norm of the final projected gradient\n",
      "F     = final function value\n",
      "\n",
      "           * * *\n",
      "\n",
      "   N    Tit     Tnf  Tnint  Skip  Nact     Projg        F\n",
      "59786     10     11  64742     9 56299   1.326D-02  -3.666D+01\n",
      "  F =  -36.662868499755859     \n",
      "\n",
      "ABNORMAL_TERMINATION_IN_LNSRCH                              \n",
      " 1/47 [..............................] - ETA: 7s - loss: 0.1556 - accuracy: 0.9551"
     ]
    },
    {
     "name": "stderr",
     "output_type": "stream",
     "text": [
      "\n",
      " Line search cannot locate an adequate point after MAXLS\n",
      "  function and gradient evaluations.\n",
      "  Previous x, f and g restored.\n",
      " Possible causes: 1 error in function or gradient evaluation;\n",
      "                  2 rounding error dominate computation.\n"
     ]
    },
    {
     "name": "stdout",
     "output_type": "stream",
     "text": [
      "47/47 [==============================] - 1s 13ms/step - loss: 0.2008 - accuracy: 0.9430\n",
      "47/47 [==============================] - 1s 15ms/step - loss: 0.2008 - accuracy: 0.9430\n",
      "RUNNING THE L-BFGS-B CODE\n",
      "\n",
      "           * * *\n",
      "\n",
      "Machine precision = 2.220D-16\n",
      " N =        59786     M =           10\n",
      "\n",
      "At X0         0 variables are exactly at the bounds\n",
      "\n",
      "At iterate    0    f= -2.00788D-01    |proj g|=  1.42937D-02\n",
      "47/47 [==============================] - 1s 11ms/step - loss: 9.0727 - accuracy: 0.3642\n",
      "\n",
      "At iterate    1    f= -9.07268D+00    |proj g|=  2.85874D-02\n",
      "  ys=-5.882E+02  -gs= 1.449E+01 BFGS update SKIPPED\n",
      "47/47 [==============================] - 1s 12ms/step - loss: 29.5031 - accuracy: 0.2923\n",
      "\n",
      "At iterate    2    f= -2.95031D+01    |proj g|=  2.30643D-02\n",
      "  ys=-1.181E+03  -gs= 4.143E+02 BFGS update SKIPPED\n",
      "47/47 [==============================] - 1s 10ms/step - loss: 32.8551 - accuracy: 0.2902\n",
      "\n",
      "At iterate    3    f= -3.28551D+01    |proj g|=  2.29402D-02\n",
      "  ys=-1.504E+02  -gs= 9.303E+01 BFGS update SKIPPED\n",
      "47/47 [==============================] - 1s 13ms/step - loss: 33.4878 - accuracy: 0.2889\n",
      "\n",
      "At iterate    4    f= -3.34878D+01    |proj g|=  2.16315D-02\n",
      "  ys=-2.847E+01  -gs= 1.656E+01 BFGS update SKIPPED\n",
      "47/47 [==============================] - 1s 12ms/step - loss: 33.5788 - accuracy: 0.2886\n",
      "\n",
      "At iterate    5    f= -3.35788D+01    |proj g|=  2.21112D-02\n",
      "  ys=-1.653E+00  -gs= 3.643E+00 BFGS update SKIPPED\n",
      "47/47 [==============================] - 1s 11ms/step - loss: 33.5795 - accuracy: 0.2886\n",
      "\n",
      "At iterate    6    f= -3.35795D+01    |proj g|=  2.91821D-03\n",
      "  ys=-3.131E-02  -gs= 1.731E-02 BFGS update SKIPPED\n",
      "47/47 [==============================] - 1s 12ms/step - loss: 33.5795 - accuracy: 0.2886\n",
      "\n",
      "           * * *\n",
      "\n",
      "Tit   = total number of iterations\n",
      "Tnf   = total number of function evaluations\n",
      "Tnint = total number of segments explored during Cauchy searches\n",
      "Skip  = number of BFGS updates skipped\n",
      "Nact  = number of active bounds at final generalized Cauchy point\n",
      "Projg = norm of the final projected gradient\n",
      "F     = final function value\n",
      "\n",
      "           * * *\n",
      "\n",
      "   N    Tit     Tnf  Tnint  Skip  Nact     Projg        F\n",
      "59786      7      8  66006     6 58770   2.918D-03  -3.358D+01\n",
      "  F =  -33.579524993896484     \n",
      "\n",
      "ABNORMAL_TERMINATION_IN_LNSRCH                              \n",
      " 1/47 [..............................] - ETA: 7s - loss: 0.2856 - accuracy: 0.9180"
     ]
    },
    {
     "name": "stderr",
     "output_type": "stream",
     "text": [
      "\n",
      " Line search cannot locate an adequate point after MAXLS\n",
      "  function and gradient evaluations.\n",
      "  Previous x, f and g restored.\n",
      " Possible causes: 1 error in function or gradient evaluation;\n",
      "                  2 rounding error dominate computation.\n"
     ]
    },
    {
     "name": "stdout",
     "output_type": "stream",
     "text": [
      "47/47 [==============================] - 1s 13ms/step - loss: 0.3273 - accuracy: 0.9053\n",
      "47/47 [==============================] - 1s 16ms/step - loss: 0.3273 - accuracy: 0.9053\n",
      "RUNNING THE L-BFGS-B CODE\n",
      "\n",
      "           * * *\n",
      "\n",
      "Machine precision = 2.220D-16\n",
      " N =        59786     M =           10\n",
      "\n",
      "At X0         0 variables are exactly at the bounds\n",
      "\n",
      "At iterate    0    f= -3.27257D-01    |proj g|=  1.40712D-02\n",
      "47/47 [==============================] - 1s 12ms/step - loss: 5.4475 - accuracy: 0.4818\n",
      "\n",
      "At iterate    1    f= -5.44746D+00    |proj g|=  2.81425D-02\n",
      "  ys=-2.328E+02  -gs= 2.426E+01 BFGS update SKIPPED\n",
      "47/47 [==============================] - 1s 10ms/step - loss: 27.6519 - accuracy: 0.2883\n",
      "\n",
      "At iterate    2    f= -2.76519D+01    |proj g|=  2.29954D-02\n",
      "  ys=-1.491E+03  -gs= 3.273E+02 BFGS update SKIPPED\n",
      "47/47 [==============================] - 1s 12ms/step - loss: 33.5996 - accuracy: 0.2883\n",
      "\n",
      "At iterate    3    f= -3.35996D+01    |proj g|=  2.20212D-02\n",
      "  ys=-1.695E+02  -gs= 2.049E+02 BFGS update SKIPPED\n",
      "47/47 [==============================] - 1s 11ms/step - loss: 34.1068 - accuracy: 0.2880\n",
      "\n",
      "At iterate    4    f= -3.41068D+01    |proj g|=  1.41869D-02\n",
      "  ys=-2.464E+01  -gs= 1.298E+01 BFGS update SKIPPED\n",
      "47/47 [==============================] - 1s 13ms/step - loss: 34.1603 - accuracy: 0.2880\n",
      "\n",
      "At iterate    5    f= -3.41603D+01    |proj g|=  3.05583D-03\n",
      "  ys=-1.606E+00  -gs= 1.701E+00 BFGS update SKIPPED\n",
      "47/47 [==============================] - 1s 11ms/step - loss: 34.1603 - accuracy: 0.2880\n",
      "\n",
      "At iterate    6    f= -3.41603D+01    |proj g|=  2.64860D-03\n",
      "  ys= 0.000E+00  -gs= 1.397E-04 BFGS update SKIPPED\n",
      "47/47 [==============================] - 1s 10ms/step - loss: 34.1603 - accuracy: 0.2880\n",
      "\n",
      "           * * *\n",
      "\n",
      "Tit   = total number of iterations\n",
      "Tnf   = total number of function evaluations\n",
      "Tnint = total number of segments explored during Cauchy searches\n",
      "Skip  = number of BFGS updates skipped\n",
      "Nact  = number of active bounds at final generalized Cauchy point\n",
      "Projg = norm of the final projected gradient\n",
      "F     = final function value\n",
      "\n",
      "           * * *\n",
      "\n",
      "   N    Tit     Tnf  Tnint  Skip  Nact     Projg        F\n",
      "59786      7      8  67535     6 56224   2.649D-03  -3.416D+01\n",
      "  F =  -34.160343170166016     \n",
      "\n",
      "ABNORMAL_TERMINATION_IN_LNSRCH                              \n",
      " 1/47 [..............................] - ETA: 7s - loss: 0.4114 - accuracy: 0.8809"
     ]
    },
    {
     "name": "stderr",
     "output_type": "stream",
     "text": [
      "\n",
      " Line search cannot locate an adequate point after MAXLS\n",
      "  function and gradient evaluations.\n",
      "  Previous x, f and g restored.\n",
      " Possible causes: 1 error in function or gradient evaluation;\n",
      "                  2 rounding error dominate computation.\n"
     ]
    },
    {
     "name": "stdout",
     "output_type": "stream",
     "text": [
      "47/47 [==============================] - 1s 13ms/step - loss: 0.4346 - accuracy: 0.8750\n",
      "47/47 [==============================] - 1s 16ms/step - loss: 0.4346 - accuracy: 0.8750\n",
      "RUNNING THE L-BFGS-B CODE\n",
      "\n",
      "           * * *\n",
      "\n",
      "Machine precision = 2.220D-16\n",
      " N =        59786     M =           10\n",
      "\n",
      "At X0         0 variables are exactly at the bounds\n",
      "\n",
      "At iterate    0    f= -4.34557D-01    |proj g|=  1.33720D-02\n",
      "47/47 [==============================] - 1s 12ms/step - loss: 6.1867 - accuracy: 0.4194\n",
      "\n",
      "At iterate    1    f= -6.18668D+00    |proj g|=  2.67440D-02\n",
      "  ys=-1.454E+02  -gs= 2.618E+01 BFGS update SKIPPED\n",
      "47/47 [==============================] - 1s 12ms/step - loss: 26.3465 - accuracy: 0.3669\n",
      "\n",
      "At iterate    2    f= -2.63465D+01    |proj g|=  2.32638D-02\n",
      "  ys=-9.419E+02  -gs= 5.123E+02 BFGS update SKIPPED\n",
      "47/47 [==============================] - 1s 13ms/step - loss: 30.0541 - accuracy: 0.3753\n",
      "\n",
      "At iterate    3    f= -3.00541D+01    |proj g|=  2.19575D-02\n",
      "  ys=-1.795E+02  -gs= 9.807E+01 BFGS update SKIPPED\n",
      "47/47 [==============================] - 1s 12ms/step - loss: 30.4697 - accuracy: 0.3758\n",
      "\n",
      "At iterate    4    f= -3.04697D+01    |proj g|=  2.16534D-02\n",
      "  ys=-1.283E+01  -gs= 1.353E+01 BFGS update SKIPPED\n",
      "47/47 [==============================] - 1s 11ms/step - loss: 30.5131 - accuracy: 0.3760\n",
      "\n",
      "At iterate    5    f= -3.05131D+01    |proj g|=  2.00997D-02\n",
      "  ys=-5.232E+00  -gs= 4.097E-01 BFGS update SKIPPED\n",
      "47/47 [==============================] - 1s 11ms/step - loss: 30.6087 - accuracy: 0.3761\n",
      "\n",
      "At iterate    6    f= -3.06087D+01    |proj g|=  1.58975D-02\n",
      "  ys=-3.305E+00  -gs= 2.904E+00 BFGS update SKIPPED\n",
      "47/47 [==============================] - 1s 11ms/step - loss: 30.6088 - accuracy: 0.3761\n",
      "\n",
      "At iterate    7    f= -3.06088D+01    |proj g|=  2.52323D-03\n",
      "  ys=-2.110E-05  -gs= 7.280E-03 BFGS update SKIPPED\n",
      "47/47 [==============================] - 1s 12ms/step - loss: 30.6088 - accuracy: 0.3761\n",
      "\n",
      "At iterate    8    f= -3.06088D+01    |proj g|=  1.96549D-03\n",
      "47/47 [==============================] - 1s 11ms/step - loss: 30.6088 - accuracy: 0.3761\n",
      "13/47 [=======>......................] - ETA: 0s - loss: 30.6922 - accuracy: 0.3778"
     ]
    },
    {
     "name": "stderr",
     "output_type": "stream",
     "text": [
      "\n",
      " Bad direction in the line search;\n",
      "   refresh the lbfgs memory and restart the iteration.\n"
     ]
    },
    {
     "name": "stdout",
     "output_type": "stream",
     "text": [
      "47/47 [==============================] - 1s 12ms/step - loss: 30.6088 - accuracy: 0.3761\n",
      "\n",
      "           * * *\n",
      "\n",
      "Tit   = total number of iterations\n",
      "Tnf   = total number of function evaluations\n",
      "Tnint = total number of segments explored during Cauchy searches\n",
      "Skip  = number of BFGS updates skipped\n",
      "Nact  = number of active bounds at final generalized Cauchy point\n",
      "Projg = norm of the final projected gradient\n",
      "F     = final function value\n",
      "\n",
      "           * * *\n",
      "\n",
      "   N    Tit     Tnf  Tnint  Skip  Nact     Projg        F\n",
      "59786      9     11  68413     7 58580   1.965D-03  -3.061D+01\n",
      "  F =  -30.608846664428711     \n",
      "\n",
      "ABNORMAL_TERMINATION_IN_LNSRCH                              \n"
     ]
    },
    {
     "name": "stderr",
     "output_type": "stream",
     "text": [
      "\n",
      " Line search cannot locate an adequate point after MAXLS\n",
      "  function and gradient evaluations.\n",
      "  Previous x, f and g restored.\n",
      " Possible causes: 1 error in function or gradient evaluation;\n",
      "                  2 rounding error dominate computation.\n"
     ]
    }
   ],
   "source": [
    "for batch_size in batch_sizes:\n",
    "    model = models_by_batch_size_fixed_lr[batch_size]\n",
    "\n",
    "    sharpness_bs = visualization.get_sharpness(model.base_model, train)\n",
    "    sharpnesses[batch_size] = sharpness_bs"
   ]
  },
  {
   "cell_type": "code",
   "execution_count": 20,
   "metadata": {},
   "outputs": [
    {
     "data": {
      "text/plain": [
       "{32: 3003.1663479296653,\n",
       " 64: 3205.64893240265,\n",
       " 128: 3255.5206833838724,\n",
       " 256: 2779.7364701439465,\n",
       " 512: 2549.097672173616,\n",
       " 1024: 2103.3869877009506}"
      ]
     },
     "execution_count": 20,
     "metadata": {},
     "output_type": "execute_result"
    }
   ],
   "source": [
    "sharpnesses"
   ]
  },
  {
   "cell_type": "code",
   "execution_count": 21,
   "metadata": {},
   "outputs": [
    {
     "name": "stdout",
     "output_type": "stream",
     "text": [
      "Batch size:  32\n",
      "\tMean time per epoch:  7.524195432662964\n",
      "\tConverged in 9 epochs\n",
      "\tOverall training time (in seconds) until convergence:  69.20030689239502\n",
      "Batch size:  64\n",
      "\tMean time per epoch:  4.6009073734283445\n",
      "\tConverged in 9 epochs\n",
      "\tOverall training time (in seconds) until convergence:  41.12497806549072\n",
      "Batch size:  128\n",
      "\tMean time per epoch:  3.1095355272293093\n",
      "\tConverged in 9 epochs\n",
      "\tOverall training time (in seconds) until convergence:  28.059664249420166\n",
      "Batch size:  256\n",
      "\tMean time per epoch:  2.697234320640564\n",
      "\tConverged in 9 epochs\n",
      "\tOverall training time (in seconds) until convergence:  24.310871601104736\n",
      "Batch size:  512\n",
      "\tMean time per epoch:  2.4335310459136963\n",
      "\tConverged in 9 epochs\n",
      "\tOverall training time (in seconds) until convergence:  22.08053207397461\n",
      "Batch size:  1024\n",
      "\tMean time per epoch:  2.3931528091430665\n",
      "\tConverged in 9 epochs\n",
      "\tOverall training time (in seconds) until convergence:  21.67291760444641\n"
     ]
    }
   ],
   "source": [
    "mean_times = []\n",
    "convergence_epochs = []\n",
    "overall_training_times = []\n",
    "\n",
    "for batch_size in batch_sizes:\n",
    "    # Compute mean epoch time, num epochs to converge, overall training time\n",
    "    state = models_dict_fixed[batch_size]\n",
    "    mean_time_per_epoch = np.mean(state.times)\n",
    "    convergence_epoch = np.argmin(state.history['val_loss'])\n",
    "    overall_training_time = np.sum(state.times[:convergence_epoch])\n",
    "\n",
    "    # Append results\n",
    "    convergence_epochs.append(convergence_epoch)\n",
    "    mean_times.append(mean_time_per_epoch)\n",
    "    overall_training_times.append(overall_training_time)\n",
    "\n",
    "    print(\"Batch size: \", batch_size)\n",
    "    print(\"\\tMean time per epoch: \", mean_time_per_epoch)\n",
    "    print(\"\\tConverged in {} epochs\".format(convergence_epoch))\n",
    "    print(\"\\tOverall training time (in seconds) until convergence: \", overall_training_time)"
   ]
  },
  {
   "cell_type": "code",
   "execution_count": 22,
   "metadata": {},
   "outputs": [
    {
     "data": {
      "image/png": "[encoded data removed]",
      "text/plain": [
       "<Figure size 432x288 with 1 Axes>"
      ]
     },
     "metadata": {},
     "output_type": "display_data"
    },
    {
     "data": {
      "text/plain": [
       "<Figure size 432x288 with 0 Axes>"
      ]
     },
     "metadata": {},
     "output_type": "display_data"
    }
   ],
   "source": [
    "rects = plt.bar(x=range(len(batch_sizes)), height=mean_times, tick_label=batch_sizes)\n",
    "plt.xlabel('Batch size')\n",
    "plt.ylabel('Average time per epoch (s)')\n",
    "plt.ylim(0, 14)\n",
    "plt.title('Mean training time per epoch by batch size')\n",
    "plt.show()\n",
    "plt.savefig('graphs/mean_epoch_training_time_by_batch_size')"
   ]
  },
  {
   "cell_type": "code",
   "execution_count": 23,
   "metadata": {},
   "outputs": [
    {
     "data": {
      "image/png": "[encoded data removed]",
      "text/plain": [
       "<Figure size 432x288 with 1 Axes>"
      ]
     },
     "metadata": {},
     "output_type": "display_data"
    },
    {
     "data": {
      "text/plain": [
       "<Figure size 432x288 with 0 Axes>"
      ]
     },
     "metadata": {},
     "output_type": "display_data"
    }
   ],
   "source": [
    "rects = plt.bar(x=range(len(batch_sizes)), height=convergence_epochs, tick_label=batch_sizes)\n",
    "plt.xlabel('Batch size')\n",
    "plt.ylabel('Number of training epochs')\n",
    "plt.ylim(0, 20)\n",
    "plt.title('Number of training epochs until convergence')\n",
    "plt.show()\n",
    "plt.savefig('graphs/num_training_epochs_by_batch_size')"
   ]
  },
  {
   "cell_type": "code",
   "execution_count": 24,
   "metadata": {},
   "outputs": [
    {
     "data": {
      "image/png": "[encoded data removed]",
      "text/plain": [
       "<Figure size 432x288 with 1 Axes>"
      ]
     },
     "metadata": {},
     "output_type": "display_data"
    },
    {
     "data": {
      "text/plain": [
       "<Figure size 432x288 with 0 Axes>"
      ]
     },
     "metadata": {},
     "output_type": "display_data"
    }
   ],
   "source": [
    "rects = plt.bar(x=range(len(batch_sizes)), height=overall_training_times, tick_label=batch_sizes)\n",
    "plt.xlabel('Batch size')\n",
    "plt.ylabel('Overall training time (in seconds)')\n",
    "plt.ylim(0, 100)\n",
    "plt.title('Overall training time until convergence, by batch size')\n",
    "plt.show()\n",
    "plt.savefig('graphs/overall_training_time_by_batch_size')"
   ]
  },
  {
   "cell_type": "markdown",
   "metadata": {},
   "source": [
    "- loss curve\n",
    "- val loss curve\n",
    "- final train and val loss (best) \n",
    "- sharpness of the minimizers \n",
    "- distance from initial weights"
   ]
  },
  {
   "cell_type": "markdown",
   "metadata": {},
   "source": [
    "- training time\n",
    "- training time per epoch \n",
    "- epochs needed to converge \n",
    "- parallelization \n",
    "- training time times sharpness"
   ]
  },
  {
   "cell_type": "markdown",
   "metadata": {},
   "source": [
    "### SGD with Momentum + ASAM"
   ]
  },
  {
   "cell_type": "markdown",
   "metadata": {},
   "source": [
    "### ADAM + SAM "
   ]
  },
  {
   "cell_type": "markdown",
   "metadata": {},
   "source": [
    "### ADAM + ASAM"
   ]
  },
  {
   "cell_type": "markdown",
   "metadata": {},
   "source": [
    "## without sharpness aware minimization"
   ]
  },
  {
   "cell_type": "markdown",
   "metadata": {},
   "source": [
    "### SGD with Momemtum"
   ]
  },
  {
   "cell_type": "markdown",
   "metadata": {},
   "source": [
    "### ADAM"
   ]
  },
  {
   "cell_type": "markdown",
   "metadata": {
    "pycharm": {
     "name": "#%% md\n"
    }
   },
   "source": [
    "# Different batch sizes with linear increasing learning rate"
   ]
  },
  {
   "cell_type": "markdown",
   "metadata": {},
   "source": [
    "## with sharpness aware minimization"
   ]
  },
  {
   "cell_type": "markdown",
   "metadata": {},
   "source": [
    "### SGD with Momentum + SAM "
   ]
  },
  {
   "cell_type": "code",
   "execution_count": 25,
   "metadata": {
    "pycharm": {
     "name": "#%%\n"
    }
   },
   "outputs": [],
   "source": [
    "learning_rates = [0.001, 0.002, 0.004, 0.008, 0.016, 0.032]\n",
    "batch_sizes = [32, 64, 128, 256, 512, 1024]\n",
    "training_epochs = 10"
   ]
  },
  {
   "cell_type": "code",
   "execution_count": 26,
   "metadata": {},
   "outputs": [],
   "source": [
    "models_by_batch_size_diff_lr = {}\n",
    "model_history_dict_diff_lr = {}"
   ]
  },
  {
   "cell_type": "code",
   "execution_count": 27,
   "metadata": {},
   "outputs": [],
   "source": [
    "diff_lr_state_filename = 'model_diff_lr_diff_bs_state'"
   ]
  },
  {
   "cell_type": "code",
   "execution_count": 28,
   "metadata": {},
   "outputs": [],
   "source": [
    "if not RETRAIN_FLAG:\n",
    "    for batch_size, lr in zip(batch_sizes, learning_rates):\n",
    "        # Read training data\n",
    "        train, validation = data_loading.load_batched_and_resized_dataset(dataset_name='MNIST', batch_size=batch_size,\n",
    "                                                                          img_size=32)\n",
    "        optimizer = keras.optimizers.SGD(learning_rate=lr, momentum=0.9)\n",
    "        model = build_and_load_sam_model_weights(train, optimizer,\n",
    "                                                 filename_bs_lr_opt_sam(batch_size, lr, \"SGD-MOM\", \"SAM\"))\n",
    "        models_by_batch_size_diff_lr[batch_size] = model"
   ]
  },
  {
   "cell_type": "code",
   "execution_count": 29,
   "metadata": {},
   "outputs": [
    {
     "name": "stdout",
     "output_type": "stream",
     "text": [
      "Epoch 1/10\n",
      "1496/1500 [============================>.] - ETA: 0s - loss: 0.7346 - accuracy: 0.7512\n",
      "Epoch 1: val_loss improved from inf to 0.24541, saving model to tmp/model_fixed_lr_diff_bs_32_opt_SGD-MOM_sam_SAM.tf\n",
      "1500/1500 [==============================] - 7s 4ms/step - loss: 0.7333 - accuracy: 0.7517 - val_loss: 0.2454 - val_accuracy: 0.9345\n",
      "Epoch 2/10\n",
      "1496/1500 [============================>.] - ETA: 0s - loss: 0.2286 - accuracy: 0.9188\n",
      "Epoch 2: val_loss improved from 0.24541 to 0.15532, saving model to tmp/model_fixed_lr_diff_bs_32_opt_SGD-MOM_sam_SAM.tf\n",
      "1500/1500 [==============================] - 9s 6ms/step - loss: 0.2285 - accuracy: 0.9189 - val_loss: 0.1553 - val_accuracy: 0.9592\n",
      "Epoch 3/10\n",
      "1496/1500 [============================>.] - ETA: 0s - loss: 0.1693 - accuracy: 0.9384\n",
      "Epoch 3: val_loss improved from 0.15532 to 0.12434, saving model to tmp/model_fixed_lr_diff_bs_32_opt_SGD-MOM_sam_SAM.tf\n",
      "1500/1500 [==============================] - 10s 7ms/step - loss: 0.1692 - accuracy: 0.9384 - val_loss: 0.1243 - val_accuracy: 0.9662\n",
      "Epoch 4/10\n",
      "1494/1500 [============================>.] - ETA: 0s - loss: 0.1426 - accuracy: 0.9472\n",
      "Epoch 4: val_loss improved from 0.12434 to 0.10776, saving model to tmp/model_fixed_lr_diff_bs_32_opt_SGD-MOM_sam_SAM.tf\n",
      "1500/1500 [==============================] - 9s 6ms/step - loss: 0.1426 - accuracy: 0.9472 - val_loss: 0.1078 - val_accuracy: 0.9698\n",
      "Epoch 5/10\n",
      "1495/1500 [============================>.] - ETA: 0s - loss: 0.1261 - accuracy: 0.9524\n",
      "Epoch 5: val_loss improved from 0.10776 to 0.09696, saving model to tmp/model_fixed_lr_diff_bs_32_opt_SGD-MOM_sam_SAM.tf\n",
      "1500/1500 [==============================] - 9s 6ms/step - loss: 0.1261 - accuracy: 0.9524 - val_loss: 0.0970 - val_accuracy: 0.9727\n",
      "Epoch 6/10\n",
      "1494/1500 [============================>.] - ETA: 0s - loss: 0.1143 - accuracy: 0.9565\n",
      "Epoch 6: val_loss improved from 0.09696 to 0.08903, saving model to tmp/model_fixed_lr_diff_bs_32_opt_SGD-MOM_sam_SAM.tf\n",
      "1500/1500 [==============================] - 9s 6ms/step - loss: 0.1143 - accuracy: 0.9565 - val_loss: 0.0890 - val_accuracy: 0.9749\n",
      "Epoch 7/10\n",
      "1492/1500 [============================>.] - ETA: 0s - loss: 0.1052 - accuracy: 0.9596\n",
      "Epoch 7: val_loss improved from 0.08903 to 0.08282, saving model to tmp/model_fixed_lr_diff_bs_32_opt_SGD-MOM_sam_SAM.tf\n",
      "1500/1500 [==============================] - 8s 6ms/step - loss: 0.1052 - accuracy: 0.9596 - val_loss: 0.0828 - val_accuracy: 0.9771\n",
      "Epoch 8/10\n",
      "1498/1500 [============================>.] - ETA: 0s - loss: 0.0979 - accuracy: 0.9621\n",
      "Epoch 8: val_loss improved from 0.08282 to 0.07786, saving model to tmp/model_fixed_lr_diff_bs_32_opt_SGD-MOM_sam_SAM.tf\n",
      "1500/1500 [==============================] - 9s 6ms/step - loss: 0.0979 - accuracy: 0.9621 - val_loss: 0.0779 - val_accuracy: 0.9781\n",
      "Epoch 9/10\n",
      "1493/1500 [============================>.] - ETA: 0s - loss: 0.0919 - accuracy: 0.9643\n",
      "Epoch 9: val_loss improved from 0.07786 to 0.07379, saving model to tmp/model_fixed_lr_diff_bs_32_opt_SGD-MOM_sam_SAM.tf\n",
      "1500/1500 [==============================] - 9s 6ms/step - loss: 0.0919 - accuracy: 0.9643 - val_loss: 0.0738 - val_accuracy: 0.9792\n",
      "Epoch 10/10\n",
      "1496/1500 [============================>.] - ETA: 0s - loss: 0.0868 - accuracy: 0.9663\n",
      "Epoch 10: val_loss improved from 0.07379 to 0.07037, saving model to tmp/model_fixed_lr_diff_bs_32_opt_SGD-MOM_sam_SAM.tf\n",
      "1500/1500 [==============================] - 10s 7ms/step - loss: 0.0869 - accuracy: 0.9663 - val_loss: 0.0704 - val_accuracy: 0.9797\n",
      "Epoch 1/10\n",
      "746/750 [============================>.] - ETA: 0s - loss: 0.8277 - accuracy: 0.7255\n",
      "Epoch 1: val_loss improved from inf to 0.24564, saving model to tmp/model_fixed_lr_diff_bs_64_opt_SGD-MOM_sam_SAM.tf\n",
      "750/750 [==============================] - 4s 5ms/step - loss: 0.8248 - accuracy: 0.7265 - val_loss: 0.2456 - val_accuracy: 0.9352\n",
      "Epoch 2/10\n",
      "745/750 [============================>.] - ETA: 0s - loss: 0.2219 - accuracy: 0.9254\n",
      "Epoch 2: val_loss improved from 0.24564 to 0.15868, saving model to tmp/model_fixed_lr_diff_bs_64_opt_SGD-MOM_sam_SAM.tf\n",
      "750/750 [==============================] - 5s 7ms/step - loss: 0.2218 - accuracy: 0.9254 - val_loss: 0.1587 - val_accuracy: 0.9567\n",
      "Epoch 3/10\n",
      "745/750 [============================>.] - ETA: 0s - loss: 0.1622 - accuracy: 0.9434\n",
      "Epoch 3: val_loss improved from 0.15868 to 0.12764, saving model to tmp/model_fixed_lr_diff_bs_64_opt_SGD-MOM_sam_SAM.tf\n",
      "750/750 [==============================] - 5s 6ms/step - loss: 0.1623 - accuracy: 0.9434 - val_loss: 0.1276 - val_accuracy: 0.9647\n",
      "Epoch 4/10\n",
      "743/750 [============================>.] - ETA: 0s - loss: 0.1359 - accuracy: 0.9525\n",
      "Epoch 4: val_loss improved from 0.12764 to 0.10996, saving model to tmp/model_fixed_lr_diff_bs_64_opt_SGD-MOM_sam_SAM.tf\n",
      "750/750 [==============================] - 5s 6ms/step - loss: 0.1360 - accuracy: 0.9524 - val_loss: 0.1100 - val_accuracy: 0.9697\n",
      "Epoch 5/10\n",
      "745/750 [============================>.] - ETA: 0s - loss: 0.1198 - accuracy: 0.9578\n",
      "Epoch 5: val_loss improved from 0.10996 to 0.09789, saving model to tmp/model_fixed_lr_diff_bs_64_opt_SGD-MOM_sam_SAM.tf\n",
      "750/750 [==============================] - 5s 6ms/step - loss: 0.1199 - accuracy: 0.9578 - val_loss: 0.0979 - val_accuracy: 0.9725\n",
      "Epoch 6/10\n",
      "749/750 [============================>.] - ETA: 0s - loss: 0.1084 - accuracy: 0.9614\n",
      "Epoch 6: val_loss improved from 0.09789 to 0.08918, saving model to tmp/model_fixed_lr_diff_bs_64_opt_SGD-MOM_sam_SAM.tf\n",
      "750/750 [==============================] - 4s 6ms/step - loss: 0.1084 - accuracy: 0.9614 - val_loss: 0.0892 - val_accuracy: 0.9756\n",
      "Epoch 7/10\n",
      "750/750 [==============================] - ETA: 0s - loss: 0.0997 - accuracy: 0.9638\n",
      "Epoch 7: val_loss improved from 0.08918 to 0.08261, saving model to tmp/model_fixed_lr_diff_bs_64_opt_SGD-MOM_sam_SAM.tf\n",
      "750/750 [==============================] - 4s 6ms/step - loss: 0.0997 - accuracy: 0.9638 - val_loss: 0.0826 - val_accuracy: 0.9771\n",
      "Epoch 8/10\n",
      "744/750 [============================>.] - ETA: 0s - loss: 0.0926 - accuracy: 0.9664\n",
      "Epoch 8: val_loss improved from 0.08261 to 0.07754, saving model to tmp/model_fixed_lr_diff_bs_64_opt_SGD-MOM_sam_SAM.tf\n",
      "750/750 [==============================] - 5s 6ms/step - loss: 0.0927 - accuracy: 0.9664 - val_loss: 0.0775 - val_accuracy: 0.9790\n",
      "Epoch 9/10\n",
      "750/750 [==============================] - ETA: 0s - loss: 0.0869 - accuracy: 0.9682\n",
      "Epoch 9: val_loss improved from 0.07754 to 0.07346, saving model to tmp/model_fixed_lr_diff_bs_64_opt_SGD-MOM_sam_SAM.tf\n",
      "750/750 [==============================] - 4s 6ms/step - loss: 0.0869 - accuracy: 0.9682 - val_loss: 0.0735 - val_accuracy: 0.9800\n",
      "Epoch 10/10\n",
      "750/750 [==============================] - ETA: 0s - loss: 0.0821 - accuracy: 0.9699\n",
      "Epoch 10: val_loss improved from 0.07346 to 0.07004, saving model to tmp/model_fixed_lr_diff_bs_64_opt_SGD-MOM_sam_SAM.tf\n",
      "750/750 [==============================] - 4s 5ms/step - loss: 0.0821 - accuracy: 0.9699 - val_loss: 0.0700 - val_accuracy: 0.9804\n",
      "Epoch 1/10\n",
      "370/375 [============================>.] - ETA: 0s - loss: 0.7622 - accuracy: 0.7504\n",
      "Epoch 1: val_loss improved from inf to 0.24211, saving model to tmp/model_fixed_lr_diff_bs_128_opt_SGD-MOM_sam_SAM.tf\n",
      "375/375 [==============================] - 4s 9ms/step - loss: 0.7557 - accuracy: 0.7527 - val_loss: 0.2421 - val_accuracy: 0.9359\n",
      "Epoch 2/10\n",
      "369/375 [============================>.] - ETA: 0s - loss: 0.2094 - accuracy: 0.9300\n",
      "Epoch 2: val_loss improved from 0.24211 to 0.15794, saving model to tmp/model_fixed_lr_diff_bs_128_opt_SGD-MOM_sam_SAM.tf\n",
      "375/375 [==============================] - 3s 9ms/step - loss: 0.2090 - accuracy: 0.9301 - val_loss: 0.1579 - val_accuracy: 0.9564\n",
      "Epoch 3/10\n",
      "372/375 [============================>.] - ETA: 0s - loss: 0.1542 - accuracy: 0.9474\n",
      "Epoch 3: val_loss improved from 0.15794 to 0.12572, saving model to tmp/model_fixed_lr_diff_bs_128_opt_SGD-MOM_sam_SAM.tf\n",
      "375/375 [==============================] - 3s 8ms/step - loss: 0.1541 - accuracy: 0.9474 - val_loss: 0.1257 - val_accuracy: 0.9660\n",
      "Epoch 4/10\n",
      "371/375 [============================>.] - ETA: 0s - loss: 0.1296 - accuracy: 0.9554\n",
      "Epoch 4: val_loss improved from 0.12572 to 0.10848, saving model to tmp/model_fixed_lr_diff_bs_128_opt_SGD-MOM_sam_SAM.tf\n"
     ]
    },
    {
     "name": "stdout",
     "output_type": "stream",
     "text": [
      "375/375 [==============================] - 3s 8ms/step - loss: 0.1297 - accuracy: 0.9553 - val_loss: 0.1085 - val_accuracy: 0.9694\n",
      "Epoch 5/10\n",
      "375/375 [==============================] - ETA: 0s - loss: 0.1145 - accuracy: 0.9605\n",
      "Epoch 5: val_loss improved from 0.10848 to 0.09746, saving model to tmp/model_fixed_lr_diff_bs_128_opt_SGD-MOM_sam_SAM.tf\n",
      "375/375 [==============================] - 3s 8ms/step - loss: 0.1145 - accuracy: 0.9605 - val_loss: 0.0975 - val_accuracy: 0.9729\n",
      "Epoch 6/10\n",
      "371/375 [============================>.] - ETA: 0s - loss: 0.1038 - accuracy: 0.9643\n",
      "Epoch 6: val_loss improved from 0.09746 to 0.08958, saving model to tmp/model_fixed_lr_diff_bs_128_opt_SGD-MOM_sam_SAM.tf\n",
      "375/375 [==============================] - 3s 9ms/step - loss: 0.1039 - accuracy: 0.9642 - val_loss: 0.0896 - val_accuracy: 0.9749\n",
      "Epoch 7/10\n",
      "374/375 [============================>.] - ETA: 0s - loss: 0.0958 - accuracy: 0.9669\n",
      "Epoch 7: val_loss improved from 0.08958 to 0.08354, saving model to tmp/model_fixed_lr_diff_bs_128_opt_SGD-MOM_sam_SAM.tf\n",
      "375/375 [==============================] - 3s 8ms/step - loss: 0.0958 - accuracy: 0.9669 - val_loss: 0.0835 - val_accuracy: 0.9765\n",
      "Epoch 8/10\n",
      "375/375 [==============================] - ETA: 0s - loss: 0.0894 - accuracy: 0.9688\n",
      "Epoch 8: val_loss improved from 0.08354 to 0.07886, saving model to tmp/model_fixed_lr_diff_bs_128_opt_SGD-MOM_sam_SAM.tf\n",
      "375/375 [==============================] - 3s 9ms/step - loss: 0.0894 - accuracy: 0.9688 - val_loss: 0.0789 - val_accuracy: 0.9782\n",
      "Epoch 9/10\n",
      "372/375 [============================>.] - ETA: 0s - loss: 0.0839 - accuracy: 0.9702\n",
      "Epoch 9: val_loss improved from 0.07886 to 0.07507, saving model to tmp/model_fixed_lr_diff_bs_128_opt_SGD-MOM_sam_SAM.tf\n",
      "375/375 [==============================] - 3s 9ms/step - loss: 0.0840 - accuracy: 0.9702 - val_loss: 0.0751 - val_accuracy: 0.9794\n",
      "Epoch 10/10\n",
      "372/375 [============================>.] - ETA: 0s - loss: 0.0794 - accuracy: 0.9717\n",
      "Epoch 10: val_loss improved from 0.07507 to 0.07189, saving model to tmp/model_fixed_lr_diff_bs_128_opt_SGD-MOM_sam_SAM.tf\n",
      "375/375 [==============================] - 3s 8ms/step - loss: 0.0795 - accuracy: 0.9717 - val_loss: 0.0719 - val_accuracy: 0.9803\n",
      "Epoch 1/10\n",
      "187/188 [============================>.] - ETA: 0s - loss: 0.8987 - accuracy: 0.7004\n",
      "Epoch 1: val_loss improved from inf to 0.26306, saving model to tmp/model_fixed_lr_diff_bs_256_opt_SGD-MOM_sam_SAM.tf\n",
      "188/188 [==============================] - 4s 16ms/step - loss: 0.8970 - accuracy: 0.7010 - val_loss: 0.2631 - val_accuracy: 0.9280\n",
      "Epoch 2/10\n",
      "183/188 [============================>.] - ETA: 0s - loss: 0.2202 - accuracy: 0.9278\n",
      "Epoch 2: val_loss improved from 0.26306 to 0.16171, saving model to tmp/model_fixed_lr_diff_bs_256_opt_SGD-MOM_sam_SAM.tf\n",
      "188/188 [==============================] - 2s 13ms/step - loss: 0.2194 - accuracy: 0.9281 - val_loss: 0.1617 - val_accuracy: 0.9545\n",
      "Epoch 3/10\n",
      "188/188 [==============================] - ETA: 0s - loss: 0.1553 - accuracy: 0.9485\n",
      "Epoch 3: val_loss improved from 0.16171 to 0.12553, saving model to tmp/model_fixed_lr_diff_bs_256_opt_SGD-MOM_sam_SAM.tf\n",
      "188/188 [==============================] - 2s 13ms/step - loss: 0.1553 - accuracy: 0.9485 - val_loss: 0.1255 - val_accuracy: 0.9657\n",
      "Epoch 4/10\n",
      "184/188 [============================>.] - ETA: 0s - loss: 0.1267 - accuracy: 0.9575\n",
      "Epoch 4: val_loss improved from 0.12553 to 0.10740, saving model to tmp/model_fixed_lr_diff_bs_256_opt_SGD-MOM_sam_SAM.tf\n",
      "188/188 [==============================] - 2s 12ms/step - loss: 0.1270 - accuracy: 0.9574 - val_loss: 0.1074 - val_accuracy: 0.9688\n",
      "Epoch 5/10\n",
      "188/188 [==============================] - ETA: 0s - loss: 0.1098 - accuracy: 0.9633\n",
      "Epoch 5: val_loss improved from 0.10740 to 0.09645, saving model to tmp/model_fixed_lr_diff_bs_256_opt_SGD-MOM_sam_SAM.tf\n",
      "188/188 [==============================] - 2s 13ms/step - loss: 0.1098 - accuracy: 0.9633 - val_loss: 0.0964 - val_accuracy: 0.9722\n",
      "Epoch 6/10\n",
      "185/188 [============================>.] - ETA: 0s - loss: 0.0978 - accuracy: 0.9670\n",
      "Epoch 6: val_loss improved from 0.09645 to 0.08864, saving model to tmp/model_fixed_lr_diff_bs_256_opt_SGD-MOM_sam_SAM.tf\n",
      "188/188 [==============================] - 2s 12ms/step - loss: 0.0979 - accuracy: 0.9669 - val_loss: 0.0886 - val_accuracy: 0.9743\n",
      "Epoch 7/10\n",
      "185/188 [============================>.] - ETA: 0s - loss: 0.0890 - accuracy: 0.9697\n",
      "Epoch 7: val_loss improved from 0.08864 to 0.08249, saving model to tmp/model_fixed_lr_diff_bs_256_opt_SGD-MOM_sam_SAM.tf\n",
      "188/188 [==============================] - 2s 13ms/step - loss: 0.0891 - accuracy: 0.9696 - val_loss: 0.0825 - val_accuracy: 0.9767\n",
      "Epoch 8/10\n",
      "187/188 [============================>.] - ETA: 0s - loss: 0.0824 - accuracy: 0.9718\n",
      "Epoch 8: val_loss improved from 0.08249 to 0.07745, saving model to tmp/model_fixed_lr_diff_bs_256_opt_SGD-MOM_sam_SAM.tf\n",
      "188/188 [==============================] - 2s 12ms/step - loss: 0.0824 - accuracy: 0.9717 - val_loss: 0.0775 - val_accuracy: 0.9781\n",
      "Epoch 9/10\n",
      "186/188 [============================>.] - ETA: 0s - loss: 0.0769 - accuracy: 0.9733\n",
      "Epoch 9: val_loss improved from 0.07745 to 0.07326, saving model to tmp/model_fixed_lr_diff_bs_256_opt_SGD-MOM_sam_SAM.tf\n",
      "188/188 [==============================] - 2s 12ms/step - loss: 0.0770 - accuracy: 0.9732 - val_loss: 0.0733 - val_accuracy: 0.9793\n",
      "Epoch 10/10\n",
      "185/188 [============================>.] - ETA: 0s - loss: 0.0724 - accuracy: 0.9748\n",
      "Epoch 10: val_loss improved from 0.07326 to 0.06977, saving model to tmp/model_fixed_lr_diff_bs_256_opt_SGD-MOM_sam_SAM.tf\n",
      "188/188 [==============================] - 2s 13ms/step - loss: 0.0725 - accuracy: 0.9747 - val_loss: 0.0698 - val_accuracy: 0.9801\n",
      "Epoch 1/10\n",
      "92/94 [============================>.] - ETA: 0s - loss: 1.0917 - accuracy: 0.6494\n",
      "Epoch 1: val_loss improved from inf to 0.29610, saving model to tmp/model_fixed_lr_diff_bs_512_opt_SGD-MOM_sam_SAM.tf\n",
      "94/94 [==============================] - 3s 32ms/step - loss: 1.0776 - accuracy: 0.6539 - val_loss: 0.2961 - val_accuracy: 0.9174\n",
      "Epoch 2/10\n",
      "94/94 [==============================] - ETA: 0s - loss: 0.2365 - accuracy: 0.9249\n",
      "Epoch 2: val_loss improved from 0.29610 to 0.17769, saving model to tmp/model_fixed_lr_diff_bs_512_opt_SGD-MOM_sam_SAM.tf\n",
      "94/94 [==============================] - 2s 25ms/step - loss: 0.2365 - accuracy: 0.9249 - val_loss: 0.1777 - val_accuracy: 0.9515\n",
      "Epoch 3/10\n",
      "94/94 [==============================] - ETA: 0s - loss: 0.1591 - accuracy: 0.9484\n",
      "Epoch 3: val_loss improved from 0.17769 to 0.13068, saving model to tmp/model_fixed_lr_diff_bs_512_opt_SGD-MOM_sam_SAM.tf\n",
      "94/94 [==============================] - 2s 23ms/step - loss: 0.1591 - accuracy: 0.9484 - val_loss: 0.1307 - val_accuracy: 0.9627\n",
      "Epoch 4/10\n",
      "93/94 [============================>.] - ETA: 0s - loss: 0.1263 - accuracy: 0.9579\n",
      "Epoch 4: val_loss improved from 0.13068 to 0.10828, saving model to tmp/model_fixed_lr_diff_bs_512_opt_SGD-MOM_sam_SAM.tf\n",
      "94/94 [==============================] - 2s 24ms/step - loss: 0.1264 - accuracy: 0.9578 - val_loss: 0.1083 - val_accuracy: 0.9681\n",
      "Epoch 5/10\n",
      "94/94 [==============================] - ETA: 0s - loss: 0.1078 - accuracy: 0.9640\n",
      "Epoch 5: val_loss improved from 0.10828 to 0.09572, saving model to tmp/model_fixed_lr_diff_bs_512_opt_SGD-MOM_sam_SAM.tf\n",
      "94/94 [==============================] - 2s 24ms/step - loss: 0.1078 - accuracy: 0.9640 - val_loss: 0.0957 - val_accuracy: 0.9716\n",
      "Epoch 6/10\n",
      "92/94 [============================>.] - ETA: 0s - loss: 0.0951 - accuracy: 0.9682\n",
      "Epoch 6: val_loss improved from 0.09572 to 0.08813, saving model to tmp/model_fixed_lr_diff_bs_512_opt_SGD-MOM_sam_SAM.tf\n",
      "94/94 [==============================] - 2s 23ms/step - loss: 0.0956 - accuracy: 0.9679 - val_loss: 0.0881 - val_accuracy: 0.9740\n",
      "Epoch 7/10\n",
      "92/94 [============================>.] - ETA: 0s - loss: 0.0864 - accuracy: 0.9707\n",
      "Epoch 7: val_loss improved from 0.08813 to 0.08232, saving model to tmp/model_fixed_lr_diff_bs_512_opt_SGD-MOM_sam_SAM.tf\n",
      "94/94 [==============================] - 2s 24ms/step - loss: 0.0869 - accuracy: 0.9705 - val_loss: 0.0823 - val_accuracy: 0.9757\n",
      "Epoch 8/10\n"
     ]
    },
    {
     "name": "stdout",
     "output_type": "stream",
     "text": [
      "94/94 [==============================] - ETA: 0s - loss: 0.0803 - accuracy: 0.9725\n",
      "Epoch 8: val_loss improved from 0.08232 to 0.07703, saving model to tmp/model_fixed_lr_diff_bs_512_opt_SGD-MOM_sam_SAM.tf\n",
      "94/94 [==============================] - 2s 25ms/step - loss: 0.0803 - accuracy: 0.9725 - val_loss: 0.0770 - val_accuracy: 0.9771\n",
      "Epoch 9/10\n",
      "94/94 [==============================] - ETA: 0s - loss: 0.0750 - accuracy: 0.9741\n",
      "Epoch 9: val_loss improved from 0.07703 to 0.07218, saving model to tmp/model_fixed_lr_diff_bs_512_opt_SGD-MOM_sam_SAM.tf\n",
      "94/94 [==============================] - 2s 25ms/step - loss: 0.0750 - accuracy: 0.9741 - val_loss: 0.0722 - val_accuracy: 0.9788\n",
      "Epoch 10/10\n",
      "93/94 [============================>.] - ETA: 0s - loss: 0.0706 - accuracy: 0.9758\n",
      "Epoch 10: val_loss improved from 0.07218 to 0.06804, saving model to tmp/model_fixed_lr_diff_bs_512_opt_SGD-MOM_sam_SAM.tf\n",
      "94/94 [==============================] - 2s 25ms/step - loss: 0.0707 - accuracy: 0.9757 - val_loss: 0.0680 - val_accuracy: 0.9796\n",
      "Epoch 1/10\n",
      "46/47 [============================>.] - ETA: 0s - loss: 1.4818 - accuracy: 0.5962\n",
      "Epoch 1: val_loss improved from inf to 0.37531, saving model to tmp/model_fixed_lr_diff_bs_1024_opt_SGD-MOM_sam_SAM.tf\n",
      "47/47 [==============================] - 3s 60ms/step - loss: 1.4623 - accuracy: 0.6012 - val_loss: 0.3753 - val_accuracy: 0.8980\n",
      "Epoch 2/10\n",
      "47/47 [==============================] - ETA: 0s - loss: 0.2447 - accuracy: 0.9236\n",
      "Epoch 2: val_loss improved from 0.37531 to 0.17212, saving model to tmp/model_fixed_lr_diff_bs_1024_opt_SGD-MOM_sam_SAM.tf\n",
      "47/47 [==============================] - 2s 45ms/step - loss: 0.2447 - accuracy: 0.9236 - val_loss: 0.1721 - val_accuracy: 0.9498\n",
      "Epoch 3/10\n",
      "47/47 [==============================] - ETA: 0s - loss: 0.1565 - accuracy: 0.9501\n",
      "Epoch 3: val_loss improved from 0.17212 to 0.13155, saving model to tmp/model_fixed_lr_diff_bs_1024_opt_SGD-MOM_sam_SAM.tf\n",
      "47/47 [==============================] - 2s 46ms/step - loss: 0.1565 - accuracy: 0.9501 - val_loss: 0.1315 - val_accuracy: 0.9619\n",
      "Epoch 4/10\n",
      "47/47 [==============================] - ETA: 0s - loss: 0.1255 - accuracy: 0.9592\n",
      "Epoch 4: val_loss improved from 0.13155 to 0.11050, saving model to tmp/model_fixed_lr_diff_bs_1024_opt_SGD-MOM_sam_SAM.tf\n",
      "47/47 [==============================] - 2s 46ms/step - loss: 0.1255 - accuracy: 0.9592 - val_loss: 0.1105 - val_accuracy: 0.9678\n",
      "Epoch 5/10\n",
      "47/47 [==============================] - ETA: 0s - loss: 0.1082 - accuracy: 0.9650\n",
      "Epoch 5: val_loss improved from 0.11050 to 0.09799, saving model to tmp/model_fixed_lr_diff_bs_1024_opt_SGD-MOM_sam_SAM.tf\n",
      "47/47 [==============================] - 2s 44ms/step - loss: 0.1082 - accuracy: 0.9650 - val_loss: 0.0980 - val_accuracy: 0.9712\n",
      "Epoch 6/10\n",
      "47/47 [==============================] - ETA: 0s - loss: 0.0972 - accuracy: 0.9686\n",
      "Epoch 6: val_loss improved from 0.09799 to 0.09026, saving model to tmp/model_fixed_lr_diff_bs_1024_opt_SGD-MOM_sam_SAM.tf\n",
      "47/47 [==============================] - 2s 45ms/step - loss: 0.0972 - accuracy: 0.9686 - val_loss: 0.0903 - val_accuracy: 0.9738\n",
      "Epoch 7/10\n",
      "47/47 [==============================] - ETA: 0s - loss: 0.0890 - accuracy: 0.9713\n",
      "Epoch 7: val_loss improved from 0.09026 to 0.08382, saving model to tmp/model_fixed_lr_diff_bs_1024_opt_SGD-MOM_sam_SAM.tf\n",
      "47/47 [==============================] - 2s 48ms/step - loss: 0.0890 - accuracy: 0.9713 - val_loss: 0.0838 - val_accuracy: 0.9759\n",
      "Epoch 8/10\n",
      "47/47 [==============================] - ETA: 0s - loss: 0.0824 - accuracy: 0.9726\n",
      "Epoch 8: val_loss improved from 0.08382 to 0.07706, saving model to tmp/model_fixed_lr_diff_bs_1024_opt_SGD-MOM_sam_SAM.tf\n",
      "47/47 [==============================] - 2s 45ms/step - loss: 0.0824 - accuracy: 0.9726 - val_loss: 0.0771 - val_accuracy: 0.9775\n",
      "Epoch 9/10\n",
      "47/47 [==============================] - ETA: 0s - loss: 0.0772 - accuracy: 0.9745\n",
      "Epoch 9: val_loss improved from 0.07706 to 0.07332, saving model to tmp/model_fixed_lr_diff_bs_1024_opt_SGD-MOM_sam_SAM.tf\n",
      "47/47 [==============================] - 2s 45ms/step - loss: 0.0772 - accuracy: 0.9745 - val_loss: 0.0733 - val_accuracy: 0.9784\n",
      "Epoch 10/10\n",
      "47/47 [==============================] - ETA: 0s - loss: 0.0727 - accuracy: 0.9756\n",
      "Epoch 10: val_loss improved from 0.07332 to 0.07088, saving model to tmp/model_fixed_lr_diff_bs_1024_opt_SGD-MOM_sam_SAM.tf\n",
      "47/47 [==============================] - 2s 45ms/step - loss: 0.0727 - accuracy: 0.9756 - val_loss: 0.0709 - val_accuracy: 0.9785\n"
     ]
    }
   ],
   "source": [
    "if RETRAIN_FLAG:\n",
    "    # Need sparse categorical crossentropy since our labels are in form of integers not vectors\n",
    "    for batch_size, lr in zip(batch_sizes, learning_rates):\n",
    "        # Read training data\n",
    "        train, validation = data_loading.load_batched_and_resized_dataset(dataset_name='MNIST', batch_size=batch_size,\n",
    "                                                                          img_size=32)\n",
    "\n",
    "        optimizer = keras.optimizers.SGD(learning_rate=lr, momentum=0.9)\n",
    "        model = tf_models.build_simple_cnn_sam(train, optimizer)\n",
    "\n",
    "        train_callbacks = [\n",
    "            tf.keras.callbacks.EarlyStopping(\n",
    "                monitor=\"val_loss\", patience=10,\n",
    "                restore_best_weights=True\n",
    "            ),\n",
    "            tf.keras.callbacks.ModelCheckpoint(\n",
    "                filename_bs_opt_sam(batch_size, \"SGD-MOM\", \"SAM\"),\n",
    "                monitor='val_loss',\n",
    "                mode='min',\n",
    "                verbose=1,\n",
    "                save_best_only=True,\n",
    "                save_weights_only=True\n",
    "            )\n",
    "            # tf.keras.callbacks.ReduceLROnPlateau(\n",
    "            #     monitor=\"val_loss\", factor=0.5,\n",
    "            #     patience=3, verbose=1\n",
    "            # )\n",
    "        ]\n",
    "        model_history_dict_diff_lr[batch_size] = ml_utils.train_model(model, train, validation, epochs=10,\n",
    "                                                                      extra_callbacks=train_callbacks, verbose=1)\n",
    "        models_by_batch_size_diff_lr[batch_size] = model"
   ]
  },
  {
   "cell_type": "code",
   "execution_count": 30,
   "metadata": {},
   "outputs": [],
   "source": [
    "if RETRAIN_FLAG:\n",
    "    ml_utils.save_model_state(model_history_dict_diff_lr, diff_lr_state_filename)\n",
    "else:\n",
    "    model_history_dict_diff_lr = ml_utils.load_model_state(diff_lr_state_filename)"
   ]
  },
  {
   "cell_type": "code",
   "execution_count": 34,
   "metadata": {},
   "outputs": [
    {
     "data": {
      "image/png": "[encoded data removed]",
      "text/plain": [
       "<Figure size 1600x560 with 2 Axes>"
      ]
     },
     "metadata": {},
     "output_type": "display_data"
    },
    {
     "data": {
      "text/plain": [
       "<Figure size 432x288 with 0 Axes>"
      ]
     },
     "metadata": {},
     "output_type": "display_data"
    }
   ],
   "source": [
    "visualization.plot_loss_by_param(model_history_dict_diff_lr, 'batch size with increasing learning rate',\n",
    "                                 'diff_lr_diff_bs')"
   ]
  },
  {
   "cell_type": "markdown",
   "metadata": {},
   "source": [
    "#### sharpness"
   ]
  },
  {
   "cell_type": "code",
   "execution_count": 35,
   "metadata": {},
   "outputs": [
    {
     "name": "stdout",
     "output_type": "stream",
     "text": [
      "47/47 [==============================] - 1s 17ms/step - loss: 0.0614 - accuracy: 0.9832\n",
      "47/47 [==============================] - 1s 14ms/step - loss: 0.0614 - accuracy: 0.9832\n",
      "RUNNING THE L-BFGS-B CODE\n",
      "\n",
      "           * * *\n",
      "\n",
      "Machine precision = 2.220D-16\n",
      " N =        59786     M =           10\n",
      "\n",
      "At X0         0 variables are exactly at the bounds\n",
      "\n",
      "At iterate    0    f= -6.14465D-02    |proj g|=  1.44559D-02\n",
      "47/47 [==============================] - 1s 11ms/step - loss: 3.5434 - accuracy: 0.3576\n",
      "\n",
      "At iterate    1    f= -3.54342D+00    |proj g|=  2.89119D-02\n",
      "  ys=-3.093E+02  -gs= 4.977E+00 BFGS update SKIPPED\n",
      "47/47 [==============================] - 1s 13ms/step - loss: 22.0889 - accuracy: 0.1824\n",
      "\n",
      "At iterate    2    f= -2.20889D+01    |proj g|=  2.62409D-02\n",
      "  ys=-1.372E+03  -gs= 2.488E+02 BFGS update SKIPPED\n",
      "47/47 [==============================] - 1s 11ms/step - loss: 28.1993 - accuracy: 0.1914\n",
      "\n",
      "At iterate    3    f= -2.81993D+01    |proj g|=  2.34088D-02\n",
      "  ys=-2.810E+02  -gs= 1.615E+02 BFGS update SKIPPED\n",
      "47/47 [==============================] - 1s 13ms/step - loss: 29.6715 - accuracy: 0.1922\n",
      "\n",
      "At iterate    4    f= -2.96715D+01    |proj g|=  2.27630D-02\n",
      "  ys=-8.152E+01  -gs= 3.239E+01 BFGS update SKIPPED\n",
      "47/47 [==============================] - 1s 12ms/step - loss: 29.9350 - accuracy: 0.1926\n",
      "\n",
      "At iterate    5    f= -2.99350D+01    |proj g|=  2.26339D-02\n",
      "  ys=-1.410E+01  -gs= 5.108E+00 BFGS update SKIPPED\n",
      "47/47 [==============================] - 1s 12ms/step - loss: 30.0812 - accuracy: 0.1927\n",
      "\n",
      "At iterate    6    f= -3.00812D+01    |proj g|=  2.18126D-02\n",
      "  ys=-2.778E+00  -gs= 5.387E+00 BFGS update SKIPPED\n",
      "47/47 [==============================] - 1s 13ms/step - loss: 30.0851 - accuracy: 0.1928\n",
      "\n",
      "At iterate    7    f= -3.00851D+01    |proj g|=  2.19152D-02\n",
      "  ys=-1.708E-01  -gs= 9.987E-02 BFGS update SKIPPED\n",
      "47/47 [==============================] - 1s 11ms/step - loss: 30.0869 - accuracy: 0.1928\n",
      "\n",
      "At iterate    8    f= -3.00869D+01    |proj g|=  2.26242D-02\n",
      "  ys=-7.182E-02  -gs= 5.177E-02 BFGS update SKIPPED\n",
      "47/47 [==============================] - 1s 11ms/step - loss: 30.0880 - accuracy: 0.1928\n",
      "\n",
      "At iterate    9    f= -3.00880D+01    |proj g|=  2.30314D-02\n",
      "  ys=-5.193E-02  -gs= 2.411E-02 BFGS update SKIPPED\n",
      "47/47 [==============================] - 1s 11ms/step - loss: 30.0901 - accuracy: 0.1928\n",
      "\n",
      "At iterate   10    f= -3.00901D+01    |proj g|=  2.18434D-02\n",
      "\n",
      "           * * *\n",
      "\n",
      "Tit   = total number of iterations\n",
      "Tnf   = total number of function evaluations\n",
      "Tnint = total number of segments explored during Cauchy searches\n",
      "Skip  = number of BFGS updates skipped\n",
      "Nact  = number of active bounds at final generalized Cauchy point\n",
      "Projg = norm of the final projected gradient\n",
      "F     = final function value\n",
      "\n",
      "           * * *\n",
      "\n",
      "   N    Tit     Tnf  Tnint  Skip  Nact     Projg        F\n",
      "59786     10     11  62381     9 56149   2.184D-02  -3.009D+01\n",
      "  F =  -30.090135574340820     \n",
      "\n",
      "STOP: TOTAL NO. of ITERATIONS REACHED LIMIT                 \n",
      "47/47 [==============================] - 1s 13ms/step - loss: 0.0610 - accuracy: 0.9839\n",
      "47/47 [==============================] - 1s 14ms/step - loss: 0.0610 - accuracy: 0.9839\n",
      "RUNNING THE L-BFGS-B CODE\n",
      "\n",
      "           * * *\n",
      "\n",
      "Machine precision = 2.220D-16\n",
      " N =        59786     M =           10\n",
      "\n",
      "At X0         0 variables are exactly at the bounds\n",
      "\n",
      "At iterate    0    f= -6.10279D-02    |proj g|=  1.52120D-02\n",
      "47/47 [==============================] - 1s 12ms/step - loss: 8.8084 - accuracy: 0.3189\n",
      "\n",
      "At iterate    1    f= -8.80838D+00    |proj g|=  3.04240D-02\n",
      "  ys=-7.225E+02  -gs= 6.471E+00 BFGS update SKIPPED\n",
      "47/47 [==============================] - 1s 11ms/step - loss: 27.1288 - accuracy: 0.1863\n",
      "\n",
      "At iterate    2    f= -2.71288D+01    |proj g|=  2.44316D-02\n",
      "  ys=-1.040E+03  -gs= 3.686E+02 BFGS update SKIPPED\n",
      "47/47 [==============================] - 1s 11ms/step - loss: 29.6953 - accuracy: 0.1904\n",
      "\n",
      "At iterate    3    f= -2.96953D+01    |proj g|=  2.27436D-02\n",
      "  ys=-1.258E+02  -gs= 6.865E+01 BFGS update SKIPPED\n",
      "47/47 [==============================] - 1s 12ms/step - loss: 30.7635 - accuracy: 0.1915\n",
      "\n",
      "At iterate    4    f= -3.07635D+01    |proj g|=  2.36711D-02\n",
      "  ys=-4.451E+01  -gs= 2.653E+01 BFGS update SKIPPED\n",
      "47/47 [==============================] - 1s 13ms/step - loss: 30.8012 - accuracy: 0.1917\n",
      "\n",
      "At iterate    5    f= -3.08012D+01    |proj g|=  2.32363D-02\n",
      "  ys=-1.490E+00  -gs= 1.072E+00 BFGS update SKIPPED\n",
      "47/47 [==============================] - 1s 13ms/step - loss: 30.8142 - accuracy: 0.1917\n",
      "\n",
      "At iterate    6    f= -3.08142D+01    |proj g|=  2.28667D-02\n",
      "  ys=-2.687E-01  -gs= 4.747E-01 BFGS update SKIPPED\n",
      "47/47 [==============================] - 1s 12ms/step - loss: 30.8166 - accuracy: 0.1918\n",
      "\n",
      "At iterate    7    f= -3.08166D+01    |proj g|=  2.21503D-02\n",
      "  ys=-1.274E-01  -gs= 5.355E-02 BFGS update SKIPPED\n",
      "47/47 [==============================] - 1s 11ms/step - loss: 30.8222 - accuracy: 0.1918\n",
      "\n",
      "At iterate    8    f= -3.08222D+01    |proj g|=  2.28895D-02\n",
      "  ys=-4.092E-01  -gs= 7.633E-02 BFGS update SKIPPED\n",
      "47/47 [==============================] - 1s 11ms/step - loss: 30.8380 - accuracy: 0.1918\n",
      "\n",
      "At iterate    9    f= -3.08380D+01    |proj g|=  2.34494D-02\n",
      "  ys=-1.031E+00  -gs= 2.889E-01 BFGS update SKIPPED\n",
      "47/47 [==============================] - 1s 12ms/step - loss: 30.8624 - accuracy: 0.1918\n",
      "\n",
      "At iterate   10    f= -3.08624D+01    |proj g|=  2.37103D-02\n",
      "\n",
      "           * * *\n",
      "\n",
      "Tit   = total number of iterations\n",
      "Tnf   = total number of function evaluations\n",
      "Tnint = total number of segments explored during Cauchy searches\n",
      "Skip  = number of BFGS updates skipped\n",
      "Nact  = number of active bounds at final generalized Cauchy point\n",
      "Projg = norm of the final projected gradient\n",
      "F     = final function value\n",
      "\n",
      "           * * *\n",
      "\n",
      "   N    Tit     Tnf  Tnint  Skip  Nact     Projg        F\n",
      "59786     10     11  59608     9 54853   2.371D-02  -3.086D+01\n",
      "  F =  -30.862352371215820     \n",
      "\n",
      "STOP: TOTAL NO. of ITERATIONS REACHED LIMIT                 \n",
      "47/47 [==============================] - 1s 13ms/step - loss: 0.0618 - accuracy: 0.9829\n",
      "47/47 [==============================] - 1s 15ms/step - loss: 0.0618 - accuracy: 0.9829\n",
      "RUNNING THE L-BFGS-B CODE\n",
      "\n",
      "           * * *\n",
      "\n",
      "Machine precision = 2.220D-16\n",
      " N =        59786     M =           10\n",
      "\n",
      "At X0         0 variables are exactly at the bounds\n",
      "\n",
      "At iterate    0    f= -6.17849D-02    |proj g|=  1.54908D-02\n",
      "47/47 [==============================] - 1s 11ms/step - loss: 15.0910 - accuracy: 0.2474\n",
      "\n",
      "At iterate    1    f= -1.50910D+01    |proj g|=  3.09815D-02\n",
      "  ys=-1.282E+03  -gs= 8.470E+00 BFGS update SKIPPED\n",
      "47/47 [==============================] - 1s 11ms/step - loss: 30.8455 - accuracy: 0.1866\n",
      "\n",
      "At iterate    2    f= -3.08455D+01    |proj g|=  2.31669D-02\n",
      "  ys=-6.552E+02  -gs= 4.256E+02 BFGS update SKIPPED\n",
      "47/47 [==============================] - 1s 12ms/step - loss: 33.2464 - accuracy: 0.1888\n",
      "\n",
      "At iterate    3    f= -3.32464D+01    |proj g|=  2.32596D-02\n",
      "  ys=-1.332E+02  -gs= 5.884E+01 BFGS update SKIPPED\n",
      "47/47 [==============================] - 1s 11ms/step - loss: 34.2463 - accuracy: 0.1899\n",
      "\n",
      "At iterate    4    f= -3.42463D+01    |proj g|=  2.29121D-02\n",
      "  ys=-6.824E+01  -gs= 1.648E+01 BFGS update SKIPPED\n",
      "47/47 [==============================] - 1s 11ms/step - loss: 34.5124 - accuracy: 0.1905\n",
      "\n",
      "At iterate    5    f= -3.45124D+01    |proj g|=  2.24921D-02\n",
      "  ys=-1.038E+01  -gs= 7.828E+00 BFGS update SKIPPED\n",
      "47/47 [==============================] - 1s 12ms/step - loss: 34.7742 - accuracy: 0.1908\n",
      "\n",
      "At iterate    6    f= -3.47742D+01    |proj g|=  2.30952D-02\n",
      "  ys=-2.332E+01  -gs= 3.285E+00 BFGS update SKIPPED\n",
      "47/47 [==============================] - 1s 13ms/step - loss: 34.8264 - accuracy: 0.1909\n",
      "\n",
      "At iterate    7    f= -3.48264D+01    |proj g|=  2.28336D-02\n",
      "  ys=-8.091E-01  -gs= 2.060E+00 BFGS update SKIPPED\n",
      "47/47 [==============================] - 1s 11ms/step - loss: 34.8332 - accuracy: 0.1911\n",
      "\n",
      "At iterate    8    f= -3.48332D+01    |proj g|=  2.32391D-02\n",
      "  ys=-4.691E-01  -gs= 1.082E-01 BFGS update SKIPPED\n",
      "47/47 [==============================] - 1s 12ms/step - loss: 34.8428 - accuracy: 0.1913\n",
      "\n",
      "At iterate    9    f= -3.48428D+01    |proj g|=  2.27104D-02\n",
      "  ys=-5.336E-01  -gs= 2.041E-01 BFGS update SKIPPED\n"
     ]
    },
    {
     "name": "stdout",
     "output_type": "stream",
     "text": [
      "47/47 [==============================] - 1s 13ms/step - loss: 34.8438 - accuracy: 0.1913\n",
      "\n",
      "At iterate   10    f= -3.48438D+01    |proj g|=  2.12257D-02\n",
      "\n",
      "           * * *\n",
      "\n",
      "Tit   = total number of iterations\n",
      "Tnf   = total number of function evaluations\n",
      "Tnint = total number of segments explored during Cauchy searches\n",
      "Skip  = number of BFGS updates skipped\n",
      "Nact  = number of active bounds at final generalized Cauchy point\n",
      "Projg = norm of the final projected gradient\n",
      "F     = final function value\n",
      "\n",
      "           * * *\n",
      "\n",
      "   N    Tit     Tnf  Tnint  Skip  Nact     Projg        F\n",
      "59786     10     11  60835     9 56445   2.123D-02  -3.484D+01\n",
      "  F =  -34.843753814697266     \n",
      "\n",
      "STOP: TOTAL NO. of ITERATIONS REACHED LIMIT                 \n",
      "47/47 [==============================] - 1s 12ms/step - loss: 0.0592 - accuracy: 0.9837\n",
      "47/47 [==============================] - 1s 14ms/step - loss: 0.0592 - accuracy: 0.9837\n",
      "RUNNING THE L-BFGS-B CODE\n",
      "\n",
      "           * * *\n",
      "\n",
      "Machine precision = 2.220D-16\n",
      " N =        59786     M =           10\n",
      "\n",
      "At X0         0 variables are exactly at the bounds\n",
      "\n",
      "At iterate    0    f= -5.91987D-02    |proj g|=  1.68691D-02\n",
      "47/47 [==============================] - 1s 11ms/step - loss: 14.4613 - accuracy: 0.2767\n",
      "\n",
      "At iterate    1    f= -1.44613D+01    |proj g|=  3.37381D-02\n",
      "  ys=-1.180E+03  -gs= 9.589E+00 BFGS update SKIPPED\n",
      "47/47 [==============================] - 1s 11ms/step - loss: 28.2032 - accuracy: 0.2327\n",
      "\n",
      "At iterate    2    f= -2.82032D+01    |proj g|=  2.44183D-02\n",
      "  ys=-5.645E+02  -gs= 3.980E+02 BFGS update SKIPPED\n",
      "47/47 [==============================] - 1s 11ms/step - loss: 33.7509 - accuracy: 0.1973\n",
      "\n",
      "At iterate    3    f= -3.37509D+01    |proj g|=  2.52255D-02\n",
      "  ys=-1.951E+02  -gs= 1.264E+02 BFGS update SKIPPED\n",
      "47/47 [==============================] - 1s 11ms/step - loss: 34.3494 - accuracy: 0.1972\n",
      "\n",
      "At iterate    4    f= -3.43494D+01    |proj g|=  2.35991D-02\n",
      "  ys=-3.338E+01  -gs= 1.242E+01 BFGS update SKIPPED\n",
      "47/47 [==============================] - 1s 12ms/step - loss: 34.4191 - accuracy: 0.1972\n",
      "\n",
      "At iterate    5    f= -3.44191D+01    |proj g|=  2.27332D-02\n",
      "  ys=-2.273E+00  -gs= 2.135E+00 BFGS update SKIPPED\n",
      "47/47 [==============================] - 1s 11ms/step - loss: 34.4473 - accuracy: 0.1971\n",
      "\n",
      "At iterate    6    f= -3.44473D+01    |proj g|=  2.36258D-02\n",
      "  ys=-1.219E+00  -gs= 7.405E-01 BFGS update SKIPPED\n",
      "47/47 [==============================] - 1s 13ms/step - loss: 34.4675 - accuracy: 0.1970\n",
      "\n",
      "At iterate    7    f= -3.44675D+01    |proj g|=  2.34265D-02\n",
      "  ys=-9.201E-01  -gs= 4.934E-01 BFGS update SKIPPED\n",
      "47/47 [==============================] - 1s 11ms/step - loss: 34.4805 - accuracy: 0.1969\n",
      "\n",
      "At iterate    8    f= -3.44805D+01    |proj g|=  2.21253D-02\n",
      "  ys=-2.826E-01  -gs= 4.174E-01 BFGS update SKIPPED\n",
      "47/47 [==============================] - 1s 12ms/step - loss: 34.4814 - accuracy: 0.1969\n",
      "\n",
      "At iterate    9    f= -3.44814D+01    |proj g|=  2.20076D-02\n",
      "47/47 [==============================] - 1s 12ms/step - loss: 34.4814 - accuracy: 0.1969\n",
      "13/47 [=======>......................] - ETA: 0s - loss: 34.7212 - accuracy: 0.1931"
     ]
    },
    {
     "name": "stderr",
     "output_type": "stream",
     "text": [
      "\n",
      " Bad direction in the line search;\n",
      "   refresh the lbfgs memory and restart the iteration.\n"
     ]
    },
    {
     "name": "stdout",
     "output_type": "stream",
     "text": [
      "47/47 [==============================] - 1s 12ms/step - loss: 34.4818 - accuracy: 0.1969\n",
      "\n",
      "At iterate   10    f= -3.44818D+01    |proj g|=  2.10923D-02\n",
      "\n",
      "           * * *\n",
      "\n",
      "Tit   = total number of iterations\n",
      "Tnf   = total number of function evaluations\n",
      "Tnint = total number of segments explored during Cauchy searches\n",
      "Skip  = number of BFGS updates skipped\n",
      "Nact  = number of active bounds at final generalized Cauchy point\n",
      "Projg = norm of the final projected gradient\n",
      "F     = final function value\n",
      "\n",
      "           * * *\n",
      "\n",
      "   N    Tit     Tnf  Tnint  Skip  Nact     Projg        F\n",
      "59786     10     12  60212     8 53530   2.109D-02  -3.448D+01\n",
      "  F =  -34.481838226318359     \n",
      "\n",
      "STOP: TOTAL NO. of ITERATIONS REACHED LIMIT                 \n",
      "47/47 [==============================] - 1s 12ms/step - loss: 0.0575 - accuracy: 0.9835\n",
      "47/47 [==============================] - 1s 13ms/step - loss: 0.0575 - accuracy: 0.9835\n",
      "RUNNING THE L-BFGS-B CODE\n",
      "\n",
      "           * * *\n",
      "\n",
      "Machine precision = 2.220D-16\n",
      " N =        59786     M =           10\n",
      "\n",
      "At X0         0 variables are exactly at the bounds\n",
      "\n",
      "At iterate    0    f= -5.75279D-02    |proj g|=  1.70588D-02\n",
      "47/47 [==============================] - 1s 11ms/step - loss: 16.9201 - accuracy: 0.2037\n",
      "\n",
      "At iterate    1    f= -1.69201D+01    |proj g|=  3.41176D-02\n",
      "  ys=-1.433E+03  -gs= 7.950E+00 BFGS update SKIPPED\n",
      "47/47 [==============================] - 1s 12ms/step - loss: 30.3065 - accuracy: 0.1948\n",
      "\n",
      "At iterate    2    f= -3.03065D+01    |proj g|=  2.47716D-02\n",
      "  ys=-5.282E+02  -gs= 3.928E+02 BFGS update SKIPPED\n",
      "47/47 [==============================] - 1s 12ms/step - loss: 33.0665 - accuracy: 0.1972\n",
      "\n",
      "At iterate    3    f= -3.30665D+01    |proj g|=  2.45350D-02\n",
      "  ys=-1.618E+02  -gs= 6.196E+01 BFGS update SKIPPED\n",
      "47/47 [==============================] - 1s 11ms/step - loss: 33.7814 - accuracy: 0.1972\n",
      "\n",
      "At iterate    4    f= -3.37814D+01    |proj g|=  2.34869D-02\n",
      "  ys=-2.375E+01  -gs= 2.211E+01 BFGS update SKIPPED\n",
      "47/47 [==============================] - 1s 12ms/step - loss: 33.9989 - accuracy: 0.1971\n",
      "\n",
      "At iterate    5    f= -3.39989D+01    |proj g|=  2.25333D-02\n",
      "  ys=-5.344E+00  -gs= 7.467E+00 BFGS update SKIPPED\n",
      "47/47 [==============================] - 1s 11ms/step - loss: 34.0142 - accuracy: 0.1971\n",
      "\n",
      "At iterate    6    f= -3.40142D+01    |proj g|=  2.35798D-02\n",
      "47/47 [==============================] - 1s 12ms/step - loss: 34.0142 - accuracy: 0.1971\n",
      "13/47 [=======>......................] - ETA: 0s - loss: 34.2579 - accuracy: 0.1937"
     ]
    },
    {
     "name": "stderr",
     "output_type": "stream",
     "text": [
      "\n",
      " Bad direction in the line search;\n",
      "   refresh the lbfgs memory and restart the iteration.\n"
     ]
    },
    {
     "name": "stdout",
     "output_type": "stream",
     "text": [
      "47/47 [==============================] - 1s 13ms/step - loss: 34.0243 - accuracy: 0.1972\n",
      "\n",
      "At iterate    7    f= -3.40243D+01    |proj g|=  2.25654D-02\n",
      "  ys=-7.432E-01  -gs= 1.343E-01 BFGS update SKIPPED\n",
      "47/47 [==============================] - 1s 11ms/step - loss: 34.0365 - accuracy: 0.1972\n",
      "\n",
      "At iterate    8    f= -3.40365D+01    |proj g|=  2.19291D-02\n",
      "  ys=-5.420E-01  -gs= 3.245E-01 BFGS update SKIPPED\n",
      "47/47 [==============================] - 1s 11ms/step - loss: 34.0440 - accuracy: 0.1972\n",
      "\n",
      "At iterate    9    f= -3.40440D+01    |proj g|=  2.21746D-02\n",
      "  ys=-3.062E-01  -gs= 2.076E-01 BFGS update SKIPPED\n",
      "47/47 [==============================] - 1s 11ms/step - loss: 34.0497 - accuracy: 0.1971\n",
      "\n",
      "At iterate   10    f= -3.40497D+01    |proj g|=  2.26477D-02\n",
      "\n",
      "           * * *\n",
      "\n",
      "Tit   = total number of iterations\n",
      "Tnf   = total number of function evaluations\n",
      "Tnint = total number of segments explored during Cauchy searches\n",
      "Skip  = number of BFGS updates skipped\n",
      "Nact  = number of active bounds at final generalized Cauchy point\n",
      "Projg = norm of the final projected gradient\n",
      "F     = final function value\n",
      "\n",
      "           * * *\n",
      "\n",
      "   N    Tit     Tnf  Tnint  Skip  Nact     Projg        F\n",
      "59786     10     12  61980     8 57583   2.265D-02  -3.405D+01\n",
      "  F =  -34.049678802490234     \n",
      "\n",
      "STOP: TOTAL NO. of ITERATIONS REACHED LIMIT                 \n",
      "47/47 [==============================] - 1s 13ms/step - loss: 0.0611 - accuracy: 0.9821\n",
      "47/47 [==============================] - 1s 13ms/step - loss: 0.0611 - accuracy: 0.9821\n",
      "RUNNING THE L-BFGS-B CODE\n",
      "\n",
      "           * * *\n",
      "\n",
      "Machine precision = 2.220D-16\n",
      " N =        59786     M =           10\n",
      "\n",
      "At X0         0 variables are exactly at the bounds\n",
      "\n",
      "At iterate    0    f= -6.10954D-02    |proj g|=  1.58267D-02\n",
      "47/47 [==============================] - 1s 11ms/step - loss: 9.6073 - accuracy: 0.3606\n",
      "\n",
      "At iterate    1    f= -9.60728D+00    |proj g|=  2.95734D-02\n",
      "  ys=-8.354E+02  -gs= 8.318E+00 BFGS update SKIPPED\n",
      "47/47 [==============================] - 1s 11ms/step - loss: 17.5921 - accuracy: 0.3181\n",
      "\n",
      "At iterate    2    f= -1.75921D+01    |proj g|=  2.50804D-02\n",
      "  ys=-4.775E+02  -gs= 1.857E+02 BFGS update SKIPPED\n",
      "47/47 [==============================] - 1s 12ms/step - loss: 20.1792 - accuracy: 0.2783\n",
      "\n",
      "At iterate    3    f= -2.01792D+01    |proj g|=  2.95734D-02\n",
      "  ys=-1.313E+02  -gs= 6.206E+01 BFGS update SKIPPED\n",
      "47/47 [==============================] - 1s 12ms/step - loss: 23.6789 - accuracy: 0.2044\n",
      "\n",
      "At iterate    4    f= -2.36789D+01    |proj g|=  2.40930D-02\n",
      "  ys=-1.186E+02  -gs= 7.002E+01 BFGS update SKIPPED\n",
      "47/47 [==============================] - 1s 12ms/step - loss: 26.3148 - accuracy: 0.1846\n",
      "\n",
      "At iterate    5    f= -2.63148D+01    |proj g|=  2.95734D-02\n",
      "  ys=-5.834E+01  -gs= 8.123E+01 BFGS update SKIPPED\n",
      "47/47 [==============================] - 1s 11ms/step - loss: 26.6046 - accuracy: 0.1850\n",
      "\n",
      "At iterate    6    f= -2.66046D+01    |proj g|=  2.49780D-02\n",
      "  ys=-2.373E+01  -gs= 5.992E+00 BFGS update SKIPPED\n",
      "47/47 [==============================] - 1s 11ms/step - loss: 26.7424 - accuracy: 0.1852\n",
      "\n",
      "At iterate    7    f= -2.67424D+01    |proj g|=  2.70655D-02\n",
      "  ys=-5.165E+00  -gs= 3.613E+00 BFGS update SKIPPED\n",
      "47/47 [==============================] - 1s 12ms/step - loss: 26.7725 - accuracy: 0.1854\n",
      "\n",
      "At iterate    8    f= -2.67725D+01    |proj g|=  2.31083D-02\n",
      "  ys=-2.040E+00  -gs= 6.274E-01 BFGS update SKIPPED\n",
      "47/47 [==============================] - 1s 11ms/step - loss: 26.8447 - accuracy: 0.1856\n",
      "\n",
      "At iterate    9    f= -2.68447D+01    |proj g|=  2.18795D-02\n",
      "  ys=-4.099E+00  -gs= 1.278E+00 BFGS update SKIPPED\n",
      "47/47 [==============================] - 1s 10ms/step - loss: 26.8475 - accuracy: 0.1857\n",
      "\n",
      "At iterate   10    f= -2.68475D+01    |proj g|=  2.22036D-02\n",
      "\n",
      "           * * *\n",
      "\n",
      "Tit   = total number of iterations\n",
      "Tnf   = total number of function evaluations\n",
      "Tnint = total number of segments explored during Cauchy searches\n",
      "Skip  = number of BFGS updates skipped\n",
      "Nact  = number of active bounds at final generalized Cauchy point\n",
      "Projg = norm of the final projected gradient\n",
      "F     = final function value\n",
      "\n",
      "           * * *\n",
      "\n",
      "   N    Tit     Tnf  Tnint  Skip  Nact     Projg        F\n",
      "59786     10     11  60912     9 50681   2.220D-02  -2.685D+01\n",
      "  F =  -26.847473144531250     \n",
      "\n",
      "STOP: TOTAL NO. of ITERATIONS REACHED LIMIT                 \n"
     ]
    }
   ],
   "source": [
    "sharpnesses_diff = {}\n",
    "\n",
    "for batch_size in batch_sizes:\n",
    "    model = models_by_batch_size_diff_lr[batch_size]\n",
    "\n",
    "    sharpness_bs = visualization.get_sharpness(model.base_model, train)\n",
    "    sharpnesses_diff[batch_size] = sharpness_bs"
   ]
  },
  {
   "cell_type": "code",
   "execution_count": 36,
   "metadata": {},
   "outputs": [
    {
     "data": {
      "text/plain": [
       "{32: 2829.034746599956,\n",
       " 64: 2902.9702169332545,\n",
       " 128: 3275.80177856265,\n",
       " 256: 3249.8754159377554,\n",
       " 512: 3214.302966768265,\n",
       " 1024: 2524.408151878001}"
      ]
     },
     "execution_count": 36,
     "metadata": {},
     "output_type": "execute_result"
    }
   ],
   "source": [
    "sharpnesses_diff"
   ]
  },
  {
   "cell_type": "code",
   "execution_count": null,
   "metadata": {},
   "outputs": [],
   "source": []
  }
 ],
 "metadata": {
  "kernelspec": {
   "display_name": "Python 3 (ipykernel)",
   "language": "python",
   "name": "python3"
  },
  "language_info": {
   "codemirror_mode": {
    "name": "ipython",
    "version": 3
   },
   "file_extension": ".py",
   "mimetype": "text/x-python",
   "name": "python",
   "nbconvert_exporter": "python",
   "pygments_lexer": "ipython3",
   "version": "3.8.12"
  }
 },
 "nbformat": 4,
 "nbformat_minor": 1
}