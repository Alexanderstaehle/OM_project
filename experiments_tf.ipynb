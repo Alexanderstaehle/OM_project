{
 "cells": [
  {
   "cell_type": "markdown",
   "metadata": {
    "pycharm": {
     "name": "#%% md\n"
    }
   },
   "source": [
    "# Google colab initialization\n",
    "\n",
    "For Google colab uncomment these lines and run them to access your drive or try the second way (not tested)"
   ]
  },
  {
   "cell_type": "code",
   "execution_count": 1,
   "metadata": {
    "pycharm": {
     "name": "#%%\n"
    }
   },
   "outputs": [],
   "source": [
    "# from google.colab import drive\n",
    "# drive.mount('/content/drive')\n",
    "# import sys\n",
    "#\n",
    "# sys.path.insert(1, r'/content/drive/My Drive/')"
   ]
  },
  {
   "cell_type": "code",
   "execution_count": 2,
   "metadata": {
    "pycharm": {
     "name": "#%%\n"
    }
   },
   "outputs": [],
   "source": [
    "# Other try\n",
    "# !git clone https://github.com/Alexanderstaehle/OM_project"
   ]
  },
  {
   "cell_type": "code",
   "execution_count": 3,
   "metadata": {
    "pycharm": {
     "name": "#%%\n"
    }
   },
   "outputs": [],
   "source": [
    "# import sys\n",
    "# sys.path.append(\"OM_project\")"
   ]
  },
  {
   "cell_type": "code",
   "execution_count": 4,
   "metadata": {
    "pycharm": {
     "name": "#%%\n"
    }
   },
   "outputs": [],
   "source": [
    "import seaborn as sns\n",
    "import tensorflow as tf\n",
    "from tensorflow import keras\n",
    "\n",
    "from utils import ml_utils, visualization, data_loading, tf_models"
   ]
  },
  {
   "cell_type": "code",
   "execution_count": 5,
   "metadata": {},
   "outputs": [],
   "source": [
    "RETRAIN_FLAG = True"
   ]
  },
  {
   "cell_type": "code",
   "execution_count": 6,
   "metadata": {},
   "outputs": [],
   "source": [
    "RETRAIN_FLAG = False"
   ]
  },
  {
   "cell_type": "code",
   "execution_count": 7,
   "metadata": {},
   "outputs": [],
   "source": [
    "filename_bs = lambda bs: ml_utils.path_from_filename(f'model_fixed_lr_diff_bs_{bs}', format_ = \"tf\")\n",
    "filename_bs_lr = lambda bs, lr: ml_utils.path_from_filename(f'model_lr_{lr}_diff_bs_{bs}', format_ = \"tf\")"
   ]
  },
  {
   "cell_type": "code",
   "execution_count": 8,
   "metadata": {},
   "outputs": [],
   "source": [
    "filename_bs_opt_sam = lambda bs, opt, sam: ml_utils.path_from_filename(f'model_fixed_lr_diff_bs_{bs}_opt_{opt}_sam_{sam}', format_ = \"tf\")\n",
    "filename_bs_lr_opt_sam = lambda bs, lr, opt, sam: ml_utils.path_from_filename(f'model_lr_{lr}_diff_bs_{bs}_opt_{opt}_sam_{sam}', format_ = \"tf\")"
   ]
  },
  {
   "cell_type": "code",
   "execution_count": 9,
   "metadata": {},
   "outputs": [],
   "source": [
    "def build_and_load_sam_model_weights(train, optimizer, filename, adaptive=False, rho=0.05):\n",
    "    model = tf_models.build_simple_cnn_sam(train, optimizer)\n",
    "    model.load_weights(filename)\n",
    "    return model"
   ]
  },
  {
   "cell_type": "code",
   "execution_count": 10,
   "metadata": {
    "pycharm": {
     "name": "#%%\n"
    }
   },
   "outputs": [
    {
     "name": "stdout",
     "output_type": "stream",
     "text": [
      "INFO:tensorflow:Using MirroredStrategy with devices ('/job:localhost/replica:0/task:0/device:GPU:0',)\n",
      "Number of accelerators:  1\n"
     ]
    },
    {
     "name": "stderr",
     "output_type": "stream",
     "text": [
      "2022-02-21 14:02:00.118303: I tensorflow/stream_executor/cuda/cuda_gpu_executor.cc:936] successful NUMA node read from SysFS had negative value (-1), but there must be at least one NUMA node, so returning NUMA node zero\n",
      "2022-02-21 14:02:00.145920: I tensorflow/stream_executor/cuda/cuda_gpu_executor.cc:936] successful NUMA node read from SysFS had negative value (-1), but there must be at least one NUMA node, so returning NUMA node zero\n",
      "2022-02-21 14:02:00.146090: I tensorflow/stream_executor/cuda/cuda_gpu_executor.cc:936] successful NUMA node read from SysFS had negative value (-1), but there must be at least one NUMA node, so returning NUMA node zero\n",
      "2022-02-21 14:02:00.159017: I tensorflow/core/platform/cpu_feature_guard.cc:151] This TensorFlow binary is optimized with oneAPI Deep Neural Network Library (oneDNN) to use the following CPU instructions in performance-critical operations:  AVX2 FMA\n",
      "To enable them in other operations, rebuild TensorFlow with the appropriate compiler flags.\n",
      "2022-02-21 14:02:00.160111: I tensorflow/stream_executor/cuda/cuda_gpu_executor.cc:936] successful NUMA node read from SysFS had negative value (-1), but there must be at least one NUMA node, so returning NUMA node zero\n",
      "2022-02-21 14:02:00.160279: I tensorflow/stream_executor/cuda/cuda_gpu_executor.cc:936] successful NUMA node read from SysFS had negative value (-1), but there must be at least one NUMA node, so returning NUMA node zero\n",
      "2022-02-21 14:02:00.160412: I tensorflow/stream_executor/cuda/cuda_gpu_executor.cc:936] successful NUMA node read from SysFS had negative value (-1), but there must be at least one NUMA node, so returning NUMA node zero\n",
      "2022-02-21 14:02:00.547825: I tensorflow/stream_executor/cuda/cuda_gpu_executor.cc:936] successful NUMA node read from SysFS had negative value (-1), but there must be at least one NUMA node, so returning NUMA node zero\n",
      "2022-02-21 14:02:00.547999: I tensorflow/stream_executor/cuda/cuda_gpu_executor.cc:936] successful NUMA node read from SysFS had negative value (-1), but there must be at least one NUMA node, so returning NUMA node zero\n",
      "2022-02-21 14:02:00.548132: I tensorflow/stream_executor/cuda/cuda_gpu_executor.cc:936] successful NUMA node read from SysFS had negative value (-1), but there must be at least one NUMA node, so returning NUMA node zero\n",
      "2022-02-21 14:02:00.548244: I tensorflow/core/common_runtime/gpu/gpu_device.cc:1525] Created device /job:localhost/replica:0/task:0/device:GPU:0 with 5535 MB memory:  -> device: 0, name: NVIDIA GeForce RTX 2070 with Max-Q Design, pci bus id: 0000:01:00.0, compute capability: 7.5\n"
     ]
    }
   ],
   "source": [
    "data_loading.initialize_env()\n",
    "sns.set_theme()\n",
    "color_map = sns.color_palette(as_cmap=True)\n",
    "ml_utils.check_tpu_gpu()"
   ]
  },
  {
   "cell_type": "markdown",
   "metadata": {},
   "source": [
    "# Different batch sizes with fixed learning rate"
   ]
  },
  {
   "cell_type": "markdown",
   "metadata": {},
   "source": [
    "## without sharpness aware minimization"
   ]
  },
  {
   "cell_type": "markdown",
   "metadata": {},
   "source": [
    "### SGD with Momemtum"
   ]
  },
  {
   "cell_type": "code",
   "execution_count": 11,
   "metadata": {
    "pycharm": {
     "name": "#%%\n"
    }
   },
   "outputs": [],
   "source": [
    "models_dict_fixed = {}\n",
    "batch_sizes = [32, 64, 128, 256, 512, 1024]\n",
    "#batch_sizes = [32]\n",
    "lr = 0.001\n",
    "training_epochs = 10"
   ]
  },
  {
   "cell_type": "code",
   "execution_count": 12,
   "metadata": {},
   "outputs": [],
   "source": [
    "models_by_batch_size_fixed_lr = {}"
   ]
  },
  {
   "cell_type": "code",
   "execution_count": 13,
   "metadata": {},
   "outputs": [],
   "source": [
    "if not RETRAIN_FLAG: \n",
    "    for batch_size in batch_sizes:\n",
    "        # Read training data\n",
    "        train, validation = data_loading.load_batched_and_resized_dataset(dataset_name='MNIST', batch_size=batch_size,\n",
    "                                                                          img_size=32)        \n",
    "        optimizer = keras.optimizers.SGD(learning_rate=lr, momentum=0.9)\n",
    "        model = build_and_load_sam_model_weights(train, optimizer, filename_bs_opt_sam(batch_size, \"SGD-MOM\", \"SAM\"))\n",
    "        models_by_batch_size_fixed_lr[batch_size] = model"
   ]
  },
  {
   "cell_type": "code",
   "execution_count": 14,
   "metadata": {
    "pycharm": {
     "name": "#%%\n"
    }
   },
   "outputs": [],
   "source": [
    "if RETRAIN_FLAG:\n",
    "    # Need sparse categorical crossentropy since our labels are in form of integers not vectors\n",
    "    for batch_size in batch_sizes:\n",
    "        # Read training data\n",
    "        train, validation = data_loading.load_batched_and_resized_dataset(dataset_name='MNIST', batch_size=batch_size,\n",
    "                                                                          img_size=32)\n",
    "\n",
    "        optimizer = keras.optimizers.SGD(learning_rate=lr, momentum=0.9)\n",
    "        model = tf_models.build_simple_cnn_sam(train, optimizer)\n",
    "\n",
    "        train_callbacks = [\n",
    "            tf.keras.callbacks.EarlyStopping(\n",
    "                monitor=\"val_loss\", patience=10,\n",
    "                restore_best_weights=True\n",
    "            ),\n",
    "            tf.keras.callbacks.ModelCheckpoint(\n",
    "                filename_bs_opt_sam(batch_size, \"SGD-MOM\", \"SAM\"),\n",
    "                monitor='val_loss',\n",
    "                mode='min',\n",
    "                verbose=1,\n",
    "                save_best_only=True,\n",
    "                save_weights_only=True\n",
    "            )\n",
    "            # tf.keras.callbacks.ReduceLROnPlateau(\n",
    "            #     monitor=\"val_loss\", factor=0.5,\n",
    "            #     patience=3, verbose=1\n",
    "            # )\n",
    "        ]\n",
    "        models_dict_fixed[batch_size] = ml_utils.train_model(model, train, validation, epochs=10,\n",
    "                                                             extra_callbacks=train_callbacks, verbose=1)\n",
    "        models_by_batch_size_fixed_lr[batch_size] = model"
   ]
  },
  {
   "cell_type": "code",
   "execution_count": 15,
   "metadata": {},
   "outputs": [],
   "source": [
    "fixed_lr_state_filename = 'model_fixed_lr_diff_bs_state'"
   ]
  },
  {
   "cell_type": "code",
   "execution_count": 16,
   "metadata": {
    "pycharm": {
     "name": "#%%\n"
    }
   },
   "outputs": [],
   "source": [
    "if RETRAIN_FLAG:\n",
    "    ml_utils.save_model_state(models_dict_fixed, fixed_lr_state_filename)\n",
    "else: \n",
    "    models_dict_fixed = ml_utils.load_model_state(fixed_lr_state_filename)"
   ]
  },
  {
   "cell_type": "code",
   "execution_count": 17,
   "metadata": {
    "pycharm": {
     "name": "#%%\n"
    }
   },
   "outputs": [
    {
     "data": {
      "image/png": "[encoded data removed]",
      "text/plain": [
       "<Figure size 1600x560 with 2 Axes>"
      ]
     },
     "metadata": {},
     "output_type": "display_data"
    },
    {
     "data": {
      "text/plain": [
       "<Figure size 432x288 with 0 Axes>"
      ]
     },
     "metadata": {},
     "output_type": "display_data"
    }
   ],
   "source": [
    "visualization.plot_loss_by_param(models_dict_fixed, 'batch size with fixed learning rate', 'fixed_lr_diff_bs')"
   ]
  },
  {
   "cell_type": "markdown",
   "metadata": {},
   "source": [
    "#### sharpness"
   ]
  },
  {
   "cell_type": "code",
   "execution_count": 18,
   "metadata": {},
   "outputs": [],
   "source": [
    "sharpnesses = {}"
   ]
  },
  {
   "cell_type": "code",
   "execution_count": 19,
   "metadata": {},
   "outputs": [
    {
     "name": "stderr",
     "output_type": "stream",
     "text": [
      "2022-02-21 14:02:21.436167: I tensorflow/stream_executor/cuda/cuda_dnn.cc:368] Loaded cuDNN version 8302\n"
     ]
    },
    {
     "name": "stdout",
     "output_type": "stream",
     "text": [
      "\r",
      " 1/47 [..............................] - ETA: 1:09 - loss: 0.0555 - accuracy: 0.9863"
     ]
    },
    {
     "name": "stderr",
     "output_type": "stream",
     "text": [
      "2022-02-21 14:02:21.931393: I tensorflow/core/platform/default/subprocess.cc:304] Start cannot spawn child process: No such file or directory\n"
     ]
    },
    {
     "name": "stdout",
     "output_type": "stream",
     "text": [
      "47/47 [==============================] - 3s 29ms/step - loss: 0.0617 - accuracy: 0.9835\n",
      "WARNING:tensorflow:Error in loading the saved optimizer state. As a result, your model is starting with a freshly initialized optimizer.\n"
     ]
    },
    {
     "name": "stderr",
     "output_type": "stream",
     "text": [
      "WARNING:tensorflow:Error in loading the saved optimizer state. As a result, your model is starting with a freshly initialized optimizer.\n"
     ]
    },
    {
     "name": "stdout",
     "output_type": "stream",
     "text": [
      "47/47 [==============================] - 1s 13ms/step - loss: 0.0617 - accuracy: 0.9835\n",
      "RUNNING THE L-BFGS-B CODE\n",
      "\n",
      "           * * *\n",
      "\n",
      "Machine precision = 2.220D-16\n",
      " N =        59786     M =           10\n",
      "\n",
      "At X0         0 variables are exactly at the bounds\n",
      "\n",
      "At iterate    0    f= -6.17083D-02    |proj g|=  1.58393D-02\n",
      "47/47 [==============================] - 1s 11ms/step - loss: 4.0753 - accuracy: 0.3429\n",
      "\n",
      "At iterate    1    f= -4.07533D+00    |proj g|=  3.16786D-02\n",
      "  ys=-3.662E+02  -gs= 5.068E+00 BFGS update SKIPPED\n",
      "47/47 [==============================] - 1s 12ms/step - loss: 21.6776 - accuracy: 0.1363\n",
      "\n",
      "At iterate    2    f= -2.16776D+01    |proj g|=  2.57641D-02\n",
      "  ys=-1.258E+03  -gs= 2.557E+02 BFGS update SKIPPED\n",
      "47/47 [==============================] - 1s 11ms/step - loss: 30.0528 - accuracy: 0.0974\n",
      "\n",
      "At iterate    3    f= -3.00528D+01    |proj g|=  2.43503D-02\n",
      "  ys=-3.004E+02  -gs= 2.360E+02 BFGS update SKIPPED\n",
      "47/47 [==============================] - 1s 12ms/step - loss: 31.7900 - accuracy: 0.0974\n",
      "\n",
      "At iterate    4    f= -3.17900D+01    |proj g|=  2.49257D-02\n",
      "  ys=-1.036E+02  -gs= 3.332E+01 BFGS update SKIPPED\n",
      "47/47 [==============================] - 1s 12ms/step - loss: 31.9933 - accuracy: 0.0974\n",
      "\n",
      "At iterate    5    f= -3.19933D+01    |proj g|=  2.24984D-02\n",
      "  ys=-3.627E+00  -gs= 7.688E+00 BFGS update SKIPPED\n",
      "47/47 [==============================] - 1s 12ms/step - loss: 31.9961 - accuracy: 0.0974\n",
      "\n",
      "At iterate    6    f= -3.19961D+01    |proj g|=  2.19327D-02\n",
      "  ys=-1.935E-02  -gs= 1.254E-01 BFGS update SKIPPED\n",
      "47/47 [==============================] - 1s 12ms/step - loss: 31.9972 - accuracy: 0.0974\n",
      "\n",
      "At iterate    7    f= -3.19972D+01    |proj g|=  2.16100D-02\n",
      "  ys=-3.482E-02  -gs= 3.556E-02 BFGS update SKIPPED\n",
      "47/47 [==============================] - 1s 13ms/step - loss: 31.9975 - accuracy: 0.0974\n",
      "\n",
      "At iterate    8    f= -3.19975D+01    |proj g|=  2.05493D-02\n",
      "  ys=-1.437E-02  -gs= 7.240E-03 BFGS update SKIPPED\n",
      "47/47 [==============================] - 1s 12ms/step - loss: 31.9972 - accuracy: 0.0974\n",
      "\n",
      "           * * *\n",
      "\n",
      "Tit   = total number of iterations\n",
      "Tnf   = total number of function evaluations\n",
      "Tnint = total number of segments explored during Cauchy searches\n",
      "Skip  = number of BFGS updates skipped\n",
      "Nact  = number of active bounds at final generalized Cauchy point\n",
      "Projg = norm of the final projected gradient\n",
      "F     = final function value\n",
      "\n",
      "           * * *\n",
      "\n",
      "   N    Tit     Tnf  Tnint  Skip  Nact     Projg        F\n",
      "59786      9     10  64234     8 55358   2.055D-02  -3.200D+01\n",
      "  F =  -31.997539520263672     \n",
      "\n",
      "ABNORMAL_TERMINATION_IN_LNSRCH                              \n",
      " 1/47 [..............................] - ETA: 7s - loss: 0.0700 - accuracy: 0.9814"
     ]
    },
    {
     "name": "stderr",
     "output_type": "stream",
     "text": [
      "\n",
      " Line search cannot locate an adequate point after MAXLS\n",
      "  function and gradient evaluations.\n",
      "  Previous x, f and g restored.\n",
      " Possible causes: 1 error in function or gradient evaluation;\n",
      "                  2 rounding error dominate computation.\n"
     ]
    },
    {
     "name": "stdout",
     "output_type": "stream",
     "text": [
      "47/47 [==============================] - 1s 13ms/step - loss: 0.0859 - accuracy: 0.9762\n",
      "WARNING:tensorflow:Error in loading the saved optimizer state. As a result, your model is starting with a freshly initialized optimizer.\n"
     ]
    },
    {
     "name": "stderr",
     "output_type": "stream",
     "text": [
      "WARNING:tensorflow:Error in loading the saved optimizer state. As a result, your model is starting with a freshly initialized optimizer.\n"
     ]
    },
    {
     "name": "stdout",
     "output_type": "stream",
     "text": [
      "47/47 [==============================] - 1s 14ms/step - loss: 0.0859 - accuracy: 0.9762\n",
      "RUNNING THE L-BFGS-B CODE\n",
      "\n",
      "           * * *\n",
      "\n",
      "Machine precision = 2.220D-16\n",
      " N =        59786     M =           10\n",
      "\n",
      "At X0         0 variables are exactly at the bounds\n",
      "\n",
      "At iterate    0    f= -8.59337D-02    |proj g|=  1.63087D-02\n",
      "47/47 [==============================] - 1s 12ms/step - loss: 5.7718 - accuracy: 0.3395\n",
      "\n",
      "At iterate    1    f= -5.77180D+00    |proj g|=  3.26173D-02\n",
      "  ys=-4.250E+02  -gs= 7.993E+00 BFGS update SKIPPED\n",
      "47/47 [==============================] - 1s 12ms/step - loss: 24.3626 - accuracy: 0.0976\n",
      "\n",
      "At iterate    2    f= -2.43626D+01    |proj g|=  2.43556D-02\n",
      "  ys=-1.313E+03  -gs= 2.802E+02 BFGS update SKIPPED\n",
      "47/47 [==============================] - 1s 12ms/step - loss: 33.3177 - accuracy: 0.0974\n",
      "\n",
      "At iterate    3    f= -3.33177D+01    |proj g|=  2.32925D-02\n",
      "  ys=-3.310E+02  -gs= 2.684E+02 BFGS update SKIPPED\n",
      "47/47 [==============================] - 1s 12ms/step - loss: 34.5248 - accuracy: 0.0974\n",
      "\n",
      "At iterate    4    f= -3.45248D+01    |proj g|=  2.40952D-02\n",
      "  ys=-5.274E+01  -gs= 3.184E+01 BFGS update SKIPPED\n",
      "47/47 [==============================] - 1s 12ms/step - loss: 34.8026 - accuracy: 0.0974\n",
      "\n",
      "At iterate    5    f= -3.48026D+01    |proj g|=  2.29717D-02\n",
      "  ys=-4.159E+00  -gs= 1.116E+01 BFGS update SKIPPED\n",
      "47/47 [==============================] - 1s 12ms/step - loss: 34.8218 - accuracy: 0.0974\n",
      "\n",
      "At iterate    6    f= -3.48218D+01    |proj g|=  2.27759D-02\n",
      "  ys=-2.222E-02  -gs= 8.667E-01 BFGS update SKIPPED\n",
      "47/47 [==============================] - 1s 13ms/step - loss: 34.9047 - accuracy: 0.0974\n",
      "\n",
      "At iterate    7    f= -3.49047D+01    |proj g|=  2.24932D-02\n",
      "  ys=-1.566E+00  -gs= 3.115E+00 BFGS update SKIPPED\n",
      "47/47 [==============================] - 1s 10ms/step - loss: 34.9114 - accuracy: 0.0974\n",
      "\n",
      "At iterate    8    f= -3.49114D+01    |proj g|=  2.24932D-02\n",
      "47/47 [==============================] - 1s 12ms/step - loss: 34.9116 - accuracy: 0.0974\n",
      "11/47 [======>.......................] - ETA: 0s - loss: 35.0514 - accuracy: 0.0948"
     ]
    },
    {
     "name": "stderr",
     "output_type": "stream",
     "text": [
      "\n",
      " Bad direction in the line search;\n",
      "   refresh the lbfgs memory and restart the iteration.\n"
     ]
    },
    {
     "name": "stdout",
     "output_type": "stream",
     "text": [
      "47/47 [==============================] - 1s 11ms/step - loss: 34.9128 - accuracy: 0.0974\n",
      "\n",
      "At iterate    9    f= -3.49128D+01    |proj g|=  2.24932D-02\n",
      "47/47 [==============================] - 1s 12ms/step - loss: 34.9146 - accuracy: 0.0974\n",
      "\n",
      "At iterate   10    f= -3.49146D+01    |proj g|=  2.01442D-02\n",
      "\n",
      "           * * *\n",
      "\n",
      "Tit   = total number of iterations\n",
      "Tnf   = total number of function evaluations\n",
      "Tnint = total number of segments explored during Cauchy searches\n",
      "Skip  = number of BFGS updates skipped\n",
      "Nact  = number of active bounds at final generalized Cauchy point\n",
      "Projg = norm of the final projected gradient\n",
      "F     = final function value\n",
      "\n",
      "           * * *\n",
      "\n",
      "   N    Tit     Tnf  Tnint  Skip  Nact     Projg        F\n",
      "59786     10     12  64707     7 55569   2.014D-02  -3.491D+01\n",
      "  F =  -34.914638519287109     \n",
      "\n",
      "STOP: TOTAL NO. of ITERATIONS REACHED LIMIT                 \n",
      "47/47 [==============================] - 1s 14ms/step - loss: 0.1224 - accuracy: 0.9660\n",
      "WARNING:tensorflow:Error in loading the saved optimizer state. As a result, your model is starting with a freshly initialized optimizer.\n"
     ]
    },
    {
     "name": "stderr",
     "output_type": "stream",
     "text": [
      "WARNING:tensorflow:Error in loading the saved optimizer state. As a result, your model is starting with a freshly initialized optimizer.\n"
     ]
    },
    {
     "name": "stdout",
     "output_type": "stream",
     "text": [
      "47/47 [==============================] - 1s 13ms/step - loss: 0.1224 - accuracy: 0.9660\n",
      "RUNNING THE L-BFGS-B CODE\n",
      "\n",
      "           * * *\n",
      "\n",
      "Machine precision = 2.220D-16\n",
      " N =        59786     M =           10\n",
      "\n",
      "At X0         0 variables are exactly at the bounds\n",
      "\n",
      "At iterate    0    f= -1.22420D-01    |proj g|=  1.43887D-02\n",
      "47/47 [==============================] - 1s 12ms/step - loss: 5.2283 - accuracy: 0.3641\n",
      "\n",
      "At iterate    1    f= -5.22831D+00    |proj g|=  2.87775D-02\n",
      "  ys=-2.990E+02  -gs= 8.341E+00 BFGS update SKIPPED\n",
      "47/47 [==============================] - 1s 12ms/step - loss: 27.0600 - accuracy: 0.2305\n",
      "\n",
      "At iterate    2    f= -2.70600D+01    |proj g|=  2.37073D-02\n",
      "  ys=-1.562E+03  -gs= 3.578E+02 BFGS update SKIPPED\n",
      "47/47 [==============================] - 1s 12ms/step - loss: 36.1976 - accuracy: 0.1827\n",
      "\n",
      "At iterate    3    f= -3.61976D+01    |proj g|=  2.33511D-02\n",
      "  ys=-2.146E+02  -gs= 2.997E+02 BFGS update SKIPPED\n",
      "47/47 [==============================] - 1s 12ms/step - loss: 36.4880 - accuracy: 0.1753\n",
      "\n",
      "At iterate    4    f= -3.64880D+01    |proj g|=  2.22971D-02\n",
      "  ys=-2.828E+01  -gs= 4.229E+00 BFGS update SKIPPED\n",
      "47/47 [==============================] - 1s 11ms/step - loss: 36.6399 - accuracy: 0.1697\n",
      "\n",
      "At iterate    5    f= -3.66399D+01    |proj g|=  2.25366D-02\n",
      "  ys=-3.065E+00  -gs= 5.528E+00 BFGS update SKIPPED\n",
      "47/47 [==============================] - 1s 11ms/step - loss: 36.6481 - accuracy: 0.1683\n",
      "\n",
      "At iterate    6    f= -3.66481D+01    |proj g|=  2.28034D-02\n",
      "  ys=-3.565E-01  -gs= 2.397E-01 BFGS update SKIPPED\n",
      "47/47 [==============================] - 1s 13ms/step - loss: 36.6613 - accuracy: 0.1679\n",
      "\n",
      "At iterate    7    f= -3.66613D+01    |proj g|=  2.25238D-02\n",
      "  ys=-1.015E+00  -gs= 1.831E-01 BFGS update SKIPPED\n",
      "47/47 [==============================] - 1s 13ms/step - loss: 36.6784 - accuracy: 0.1668\n",
      "\n",
      "At iterate    8    f= -3.66784D+01    |proj g|=  2.16006D-02\n",
      "  ys=-7.127E-01  -gs= 3.997E-01 BFGS update SKIPPED\n",
      "47/47 [==============================] - 1s 12ms/step - loss: 36.6824 - accuracy: 0.1666\n",
      "\n",
      "At iterate    9    f= -3.66824D+01    |proj g|=  2.05595D-02\n",
      "  ys=-2.376E-02  -gs= 1.771E-01 BFGS update SKIPPED\n",
      "47/47 [==============================] - 1s 12ms/step - loss: 36.6824 - accuracy: 0.1666\n",
      "\n",
      "At iterate   10    f= -3.66824D+01    |proj g|=  1.32017D-02\n",
      "\n",
      "           * * *\n",
      "\n",
      "Tit   = total number of iterations\n",
      "Tnf   = total number of function evaluations\n",
      "Tnint = total number of segments explored during Cauchy searches\n",
      "Skip  = number of BFGS updates skipped\n",
      "Nact  = number of active bounds at final generalized Cauchy point\n",
      "Projg = norm of the final projected gradient\n",
      "F     = final function value\n",
      "\n",
      "           * * *\n",
      "\n",
      "   N    Tit     Tnf  Tnint  Skip  Nact     Projg        F\n",
      "59786     10     11  64730     9 56293   1.320D-02  -3.668D+01\n",
      "  F =  -36.682449340820312     \n",
      "\n",
      "STOP: TOTAL NO. of ITERATIONS REACHED LIMIT                 \n",
      "47/47 [==============================] - 1s 11ms/step - loss: 0.2008 - accuracy: 0.9430\n",
      "WARNING:tensorflow:Error in loading the saved optimizer state. As a result, your model is starting with a freshly initialized optimizer.\n"
     ]
    },
    {
     "name": "stderr",
     "output_type": "stream",
     "text": [
      "WARNING:tensorflow:Error in loading the saved optimizer state. As a result, your model is starting with a freshly initialized optimizer.\n"
     ]
    },
    {
     "name": "stdout",
     "output_type": "stream",
     "text": [
      "47/47 [==============================] - 1s 12ms/step - loss: 0.2008 - accuracy: 0.9430\n",
      "RUNNING THE L-BFGS-B CODE\n",
      "\n",
      "           * * *\n",
      "\n",
      "Machine precision = 2.220D-16\n",
      " N =        59786     M =           10\n",
      "\n",
      "At X0         0 variables are exactly at the bounds\n",
      "\n",
      "At iterate    0    f= -2.00810D-01    |proj g|=  1.42938D-02\n",
      "47/47 [==============================] - 1s 11ms/step - loss: 9.0764 - accuracy: 0.3641\n",
      "\n",
      "At iterate    1    f= -9.07642D+00    |proj g|=  2.85877D-02\n",
      "  ys=-5.886E+02  -gs= 1.449E+01 BFGS update SKIPPED\n",
      "47/47 [==============================] - 1s 12ms/step - loss: 29.3578 - accuracy: 0.2922\n",
      "\n",
      "At iterate    2    f= -2.93578D+01    |proj g|=  2.30648D-02\n",
      "  ys=-1.167E+03  -gs= 4.133E+02 BFGS update SKIPPED\n",
      "47/47 [==============================] - 1s 12ms/step - loss: 32.8357 - accuracy: 0.2902\n",
      "\n",
      "At iterate    3    f= -3.28357D+01    |proj g|=  2.29401D-02\n",
      "  ys=-1.537E+02  -gs= 9.742E+01 BFGS update SKIPPED\n",
      "47/47 [==============================] - 1s 12ms/step - loss: 33.4635 - accuracy: 0.2888\n",
      "\n",
      "At iterate    4    f= -3.34635D+01    |proj g|=  2.16311D-02\n",
      "  ys=-2.827E+01  -gs= 1.639E+01 BFGS update SKIPPED\n",
      "47/47 [==============================] - 1s 12ms/step - loss: 33.5504 - accuracy: 0.2886\n",
      "\n",
      "At iterate    5    f= -3.35504D+01    |proj g|=  2.21112D-02\n",
      "  ys=-1.588E+00  -gs= 3.472E+00 BFGS update SKIPPED\n",
      "47/47 [==============================] - 1s 12ms/step - loss: 33.5511 - accuracy: 0.2886\n",
      "\n",
      "At iterate    6    f= -3.35511D+01    |proj g|=  2.89704D-03\n",
      "  ys=-3.296E-02  -gs= 1.916E-02 BFGS update SKIPPED\n",
      "47/47 [==============================] - 1s 12ms/step - loss: 33.5512 - accuracy: 0.2886\n",
      "\n",
      "At iterate    7    f= -3.35512D+01    |proj g|=  2.89704D-03\n",
      "47/47 [==============================] - 1s 13ms/step - loss: 33.5512 - accuracy: 0.2886\n",
      "\n",
      "At iterate    8    f= -3.35512D+01    |proj g|=  2.89704D-03\n",
      "47/47 [==============================] - 1s 12ms/step - loss: 33.5512 - accuracy: 0.2886\n",
      "16/47 [=========>....................] - ETA: 0s - loss: 33.3827 - accuracy: 0.2902"
     ]
    },
    {
     "name": "stderr",
     "output_type": "stream",
     "text": [
      "\n",
      " Bad direction in the line search;\n",
      "   refresh the lbfgs memory and restart the iteration.\n"
     ]
    },
    {
     "name": "stdout",
     "output_type": "stream",
     "text": [
      "47/47 [==============================] - 1s 12ms/step - loss: 33.5512 - accuracy: 0.2886\n",
      "\n",
      "           * * *\n",
      "\n",
      "Tit   = total number of iterations\n",
      "Tnf   = total number of function evaluations\n",
      "Tnint = total number of segments explored during Cauchy searches\n",
      "Skip  = number of BFGS updates skipped\n",
      "Nact  = number of active bounds at final generalized Cauchy point\n",
      "Projg = norm of the final projected gradient\n",
      "F     = final function value\n",
      "\n",
      "           * * *\n",
      "\n",
      "   N    Tit     Tnf  Tnint  Skip  Nact     Projg        F\n",
      "59786      9     11  66043     6 58780   2.897D-03  -3.355D+01\n",
      "  F =  -33.551155090332031     \n",
      "\n",
      "ABNORMAL_TERMINATION_IN_LNSRCH                              \n",
      " 1/47 [..............................] - ETA: 6s - loss: 0.2856 - accuracy: 0.9180"
     ]
    },
    {
     "name": "stderr",
     "output_type": "stream",
     "text": [
      "\n",
      " Line search cannot locate an adequate point after MAXLS\n",
      "  function and gradient evaluations.\n",
      "  Previous x, f and g restored.\n",
      " Possible causes: 1 error in function or gradient evaluation;\n",
      "                  2 rounding error dominate computation.\n"
     ]
    },
    {
     "name": "stdout",
     "output_type": "stream",
     "text": [
      "47/47 [==============================] - 1s 13ms/step - loss: 0.3273 - accuracy: 0.9052\n",
      "WARNING:tensorflow:Error in loading the saved optimizer state. As a result, your model is starting with a freshly initialized optimizer.\n"
     ]
    },
    {
     "name": "stderr",
     "output_type": "stream",
     "text": [
      "WARNING:tensorflow:Error in loading the saved optimizer state. As a result, your model is starting with a freshly initialized optimizer.\n"
     ]
    },
    {
     "name": "stdout",
     "output_type": "stream",
     "text": [
      "47/47 [==============================] - 1s 13ms/step - loss: 0.3273 - accuracy: 0.9052\n",
      "RUNNING THE L-BFGS-B CODE\n",
      "\n",
      "           * * *\n",
      "\n",
      "Machine precision = 2.220D-16\n",
      " N =        59786     M =           10\n",
      "\n",
      "At X0         0 variables are exactly at the bounds\n",
      "\n",
      "At iterate    0    f= -3.27251D-01    |proj g|=  1.40726D-02\n",
      "47/47 [==============================] - 1s 12ms/step - loss: 5.4501 - accuracy: 0.4814\n",
      "\n",
      "At iterate    1    f= -5.45014D+00    |proj g|=  2.81453D-02\n",
      "  ys=-2.334E+02  -gs= 2.424E+01 BFGS update SKIPPED\n",
      "47/47 [==============================] - 1s 12ms/step - loss: 27.7055 - accuracy: 0.2882\n",
      "\n",
      "At iterate    2    f= -2.77055D+01    |proj g|=  2.29962D-02\n",
      "  ys=-1.496E+03  -gs= 3.274E+02 BFGS update SKIPPED\n",
      "47/47 [==============================] - 1s 11ms/step - loss: 33.4747 - accuracy: 0.2881\n",
      "\n",
      "At iterate    3    f= -3.34747D+01    |proj g|=  2.20212D-02\n",
      "  ys=-1.548E+02  -gs= 2.012E+02 BFGS update SKIPPED\n",
      "47/47 [==============================] - 1s 12ms/step - loss: 33.8743 - accuracy: 0.2880\n",
      "\n",
      "At iterate    4    f= -3.38743D+01    |proj g|=  1.67804D-02\n",
      "  ys=-3.036E+01  -gs= 6.170E+00 BFGS update SKIPPED\n",
      "47/47 [==============================] - 1s 12ms/step - loss: 34.1405 - accuracy: 0.2880\n",
      "\n",
      "At iterate    5    f= -3.41405D+01    |proj g|=  7.27507D-03\n",
      "  ys=-9.293E+00  -gs= 8.046E+00 BFGS update SKIPPED\n",
      "47/47 [==============================] - 1s 11ms/step - loss: 34.1407 - accuracy: 0.2880\n",
      "\n",
      "At iterate    6    f= -3.41407D+01    |proj g|=  2.86838D-03\n",
      "  ys=-7.400E-06  -gs= 1.206E-02 BFGS update SKIPPED\n",
      "47/47 [==============================] - 1s 13ms/step - loss: 34.1407 - accuracy: 0.2880\n",
      "\n",
      "At iterate    7    f= -3.41407D+01    |proj g|=  2.00462D-03\n",
      "  ys= 0.000E+00  -gs= 6.635E-05 BFGS update SKIPPED\n",
      "47/47 [==============================] - 1s 13ms/step - loss: 34.1407 - accuracy: 0.2880\n",
      "\n",
      "           * * *\n",
      "\n",
      "Tit   = total number of iterations\n",
      "Tnf   = total number of function evaluations\n",
      "Tnint = total number of segments explored during Cauchy searches\n",
      "Skip  = number of BFGS updates skipped\n",
      "Nact  = number of active bounds at final generalized Cauchy point\n",
      "Projg = norm of the final projected gradient\n",
      "F     = final function value\n",
      "\n",
      "           * * *\n",
      "\n",
      "   N    Tit     Tnf  Tnint  Skip  Nact     Projg        F\n",
      "59786      8      9  67547     7 56234   2.005D-03  -3.414D+01\n",
      "  F =  -34.140735626220703     \n",
      "\n",
      "ABNORMAL_TERMINATION_IN_LNSRCH                              \n",
      " 1/47 [..............................] - ETA: 8s - loss: 0.4114 - accuracy: 0.8809"
     ]
    },
    {
     "name": "stderr",
     "output_type": "stream",
     "text": [
      "\n",
      " Line search cannot locate an adequate point after MAXLS\n",
      "  function and gradient evaluations.\n",
      "  Previous x, f and g restored.\n",
      " Possible causes: 1 error in function or gradient evaluation;\n",
      "                  2 rounding error dominate computation.\n"
     ]
    },
    {
     "name": "stdout",
     "output_type": "stream",
     "text": [
      "47/47 [==============================] - 1s 13ms/step - loss: 0.4346 - accuracy: 0.8750\n",
      "WARNING:tensorflow:Error in loading the saved optimizer state. As a result, your model is starting with a freshly initialized optimizer.\n"
     ]
    },
    {
     "name": "stderr",
     "output_type": "stream",
     "text": [
      "WARNING:tensorflow:Error in loading the saved optimizer state. As a result, your model is starting with a freshly initialized optimizer.\n"
     ]
    },
    {
     "name": "stdout",
     "output_type": "stream",
     "text": [
      "47/47 [==============================] - 1s 15ms/step - loss: 0.4346 - accuracy: 0.8750\n",
      "RUNNING THE L-BFGS-B CODE\n",
      "\n",
      "           * * *\n",
      "\n",
      "Machine precision = 2.220D-16\n",
      " N =        59786     M =           10\n",
      "\n",
      "At X0         0 variables are exactly at the bounds\n",
      "\n",
      "At iterate    0    f= -4.34563D-01    |proj g|=  1.33715D-02\n",
      "47/47 [==============================] - 1s 13ms/step - loss: 6.1846 - accuracy: 0.4194\n",
      "\n",
      "At iterate    1    f= -6.18458D+00    |proj g|=  2.67429D-02\n",
      "  ys=-1.453E+02  -gs= 2.618E+01 BFGS update SKIPPED\n",
      "47/47 [==============================] - 1s 12ms/step - loss: 26.3559 - accuracy: 0.3669\n",
      "\n",
      "At iterate    2    f= -2.63559D+01    |proj g|=  2.32633D-02\n",
      "  ys=-9.426E+02  -gs= 5.123E+02 BFGS update SKIPPED\n",
      "47/47 [==============================] - 1s 13ms/step - loss: 30.0745 - accuracy: 0.3753\n",
      "\n",
      "At iterate    3    f= -3.00745D+01    |proj g|=  2.19889D-02\n",
      "  ys=-1.834E+02  -gs= 9.703E+01 BFGS update SKIPPED\n",
      "47/47 [==============================] - 1s 12ms/step - loss: 30.4812 - accuracy: 0.3756\n",
      "\n",
      "At iterate    4    f= -3.04812D+01    |proj g|=  2.16253D-02\n",
      "  ys=-1.210E+01  -gs= 1.353E+01 BFGS update SKIPPED\n",
      "47/47 [==============================] - 1s 11ms/step - loss: 30.6255 - accuracy: 0.3754\n",
      "\n",
      "At iterate    5    f= -3.06255D+01    |proj g|=  1.43744D-02\n",
      "  ys=-1.230E+01  -gs= 1.089E+00 BFGS update SKIPPED\n",
      "47/47 [==============================] - 1s 11ms/step - loss: 30.6511 - accuracy: 0.3755\n",
      "\n",
      "At iterate    6    f= -3.06511D+01    |proj g|=  2.00514D-02\n",
      "47/47 [==============================] - 1s 11ms/step - loss: 30.6511 - accuracy: 0.3755\n",
      "11/47 [======>.......................] - ETA: 0s - loss: 30.7119 - accuracy: 0.3789"
     ]
    },
    {
     "name": "stderr",
     "output_type": "stream",
     "text": [
      "\n",
      " Bad direction in the line search;\n",
      "   refresh the lbfgs memory and restart the iteration.\n"
     ]
    },
    {
     "name": "stdout",
     "output_type": "stream",
     "text": [
      "47/47 [==============================] - 1s 11ms/step - loss: 30.6511 - accuracy: 0.3755\n"
     ]
    },
    {
     "name": "stderr",
     "output_type": "stream",
     "text": [
      "\n",
      " Line search cannot locate an adequate point after MAXLS\n",
      "  function and gradient evaluations.\n",
      "  Previous x, f and g restored.\n",
      " Possible causes: 1 error in function or gradient evaluation;\n",
      "                  2 rounding error dominate computation.\n"
     ]
    },
    {
     "name": "stdout",
     "output_type": "stream",
     "text": [
      "\n",
      "           * * *\n",
      "\n",
      "Tit   = total number of iterations\n",
      "Tnf   = total number of function evaluations\n",
      "Tnint = total number of segments explored during Cauchy searches\n",
      "Skip  = number of BFGS updates skipped\n",
      "Nact  = number of active bounds at final generalized Cauchy point\n",
      "Projg = norm of the final projected gradient\n",
      "F     = final function value\n",
      "\n",
      "           * * *\n",
      "\n",
      "   N    Tit     Tnf  Tnint  Skip  Nact     Projg        F\n",
      "59786      7      9  68357     5 58571   2.005D-02  -3.065D+01\n",
      "  F =  -30.651134490966797     \n",
      "\n",
      "ABNORMAL_TERMINATION_IN_LNSRCH                              \n"
     ]
    }
   ],
   "source": [
    "for batch_size in batch_sizes:\n",
    "    model = models_by_batch_size_fixed_lr[batch_size]\n",
    "    \n",
    "    sharpness_bs = visualization.get_sharpness(model.base_model, train)\n",
    "    sharpnesses[batch_size] = sharpness_bs"
   ]
  },
  {
   "cell_type": "code",
   "execution_count": 20,
   "metadata": {},
   "outputs": [
    {
     "data": {
      "text/plain": [
       "{32: 3007.9336597843794,\n",
       " 64: 3207.258724366312,\n",
       " 128: 3257.250909611615,\n",
       " 256: 2777.3196608178755,\n",
       " 512: 2547.6338695159347,\n",
       " 1024: 2106.3211791202402}"
      ]
     },
     "execution_count": 20,
     "metadata": {},
     "output_type": "execute_result"
    }
   ],
   "source": [
    "sharpnesses"
   ]
  },
  {
   "cell_type": "markdown",
   "metadata": {},
   "source": [
    "- loss curve\n",
    "- val loss curve\n",
    "- final train and val loss (best) \n",
    "- sharpness of the minimizers \n",
    "- distance from initial weights"
   ]
  },
  {
   "cell_type": "markdown",
   "metadata": {},
   "source": [
    "- training time\n",
    "- training time per epoch \n",
    "- epochs needed to converge \n",
    "- parallelization \n",
    "- training time times sharpness"
   ]
  },
  {
   "cell_type": "markdown",
   "metadata": {},
   "source": [
    "### ADAM"
   ]
  },
  {
   "cell_type": "markdown",
   "metadata": {},
   "source": [
    "## with sharpness aware minimization"
   ]
  },
  {
   "cell_type": "markdown",
   "metadata": {},
   "source": [
    "### SGD with Momentum + SAM "
   ]
  },
  {
   "cell_type": "markdown",
   "metadata": {},
   "source": [
    "### SGD with Momentum + ASAM"
   ]
  },
  {
   "cell_type": "markdown",
   "metadata": {},
   "source": [
    "### ADAM + SAM "
   ]
  },
  {
   "cell_type": "markdown",
   "metadata": {},
   "source": [
    "### ADAM + ASAM"
   ]
  },
  {
   "cell_type": "markdown",
   "metadata": {
    "pycharm": {
     "name": "#%% md\n"
    }
   },
   "source": [
    "# Different batch sizes with linear increasing learning rate"
   ]
  },
  {
   "cell_type": "code",
   "execution_count": null,
   "metadata": {
    "pycharm": {
     "name": "#%%\n"
    }
   },
   "outputs": [],
   "source": [
    "learning_rates = [0.001, 0.002, 0.004, 0.008, 0.016, 0.032]"
   ]
  }
 ],
 "metadata": {
  "kernelspec": {
   "display_name": "Python 3 (ipykernel)",
   "language": "python",
   "name": "python3"
  },
  "language_info": {
   "codemirror_mode": {
    "name": "ipython",
    "version": 3
   },
   "file_extension": ".py",
   "mimetype": "text/x-python",
   "name": "python",
   "nbconvert_exporter": "python",
   "pygments_lexer": "ipython3",
   "version": "3.8.12"
  }
 },
 "nbformat": 4,
 "nbformat_minor": 1
}
